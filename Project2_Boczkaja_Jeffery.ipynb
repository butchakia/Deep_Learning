{
 "cells": [
  {
   "cell_type": "markdown",
   "id": "85284e74",
   "metadata": {},
   "source": [
    "# DSCI 619 - Deep Learning, Project 2\n",
    "\n",
    "### *Jeffery Boczkaja*"
   ]
  },
  {
   "cell_type": "code",
   "execution_count": 3,
   "id": "62888c7c",
   "metadata": {},
   "outputs": [
    {
     "name": "stdout",
     "output_type": "stream",
     "text": [
      "Requirement already satisfied: h5py in c:\\users\\whitl\\onedrivedesktopnew_folder\\lib\\site-packages (3.9.0)\n",
      "Requirement already satisfied: numpy>=1.17.3 in c:\\users\\whitl\\onedrivedesktopnew_folder\\lib\\site-packages (from h5py) (1.24.3)\n",
      "Note: you may need to restart the kernel to use updated packages.\n"
     ]
    }
   ],
   "source": [
    "pip install h5py"
   ]
  },
  {
   "cell_type": "markdown",
   "id": "f9b4d61b",
   "metadata": {},
   "source": [
    "## 1. Load the dataset"
   ]
  },
  {
   "cell_type": "code",
   "execution_count": 1,
   "id": "7fa962ac",
   "metadata": {},
   "outputs": [
    {
     "data": {
      "text/html": [
       "<div>\n",
       "<style scoped>\n",
       "    .dataframe tbody tr th:only-of-type {\n",
       "        vertical-align: middle;\n",
       "    }\n",
       "\n",
       "    .dataframe tbody tr th {\n",
       "        vertical-align: top;\n",
       "    }\n",
       "\n",
       "    .dataframe thead th {\n",
       "        text-align: right;\n",
       "    }\n",
       "</style>\n",
       "<table border=\"1\" class=\"dataframe\">\n",
       "  <thead>\n",
       "    <tr style=\"text-align: right;\">\n",
       "      <th></th>\n",
       "      <th>No</th>\n",
       "      <th>year</th>\n",
       "      <th>month</th>\n",
       "      <th>day</th>\n",
       "      <th>hour</th>\n",
       "      <th>PM2.5</th>\n",
       "      <th>PM10</th>\n",
       "      <th>SO2</th>\n",
       "      <th>NO2</th>\n",
       "      <th>CO</th>\n",
       "      <th>O3</th>\n",
       "      <th>TEMP</th>\n",
       "      <th>PRES</th>\n",
       "      <th>DEWP</th>\n",
       "      <th>RAIN</th>\n",
       "      <th>wd</th>\n",
       "      <th>WSPM</th>\n",
       "      <th>station</th>\n",
       "    </tr>\n",
       "  </thead>\n",
       "  <tbody>\n",
       "    <tr>\n",
       "      <th>0</th>\n",
       "      <td>1</td>\n",
       "      <td>2013</td>\n",
       "      <td>3</td>\n",
       "      <td>1</td>\n",
       "      <td>0</td>\n",
       "      <td>4.0</td>\n",
       "      <td>4.0</td>\n",
       "      <td>4.0</td>\n",
       "      <td>7.0</td>\n",
       "      <td>300.0</td>\n",
       "      <td>77.0</td>\n",
       "      <td>-0.7</td>\n",
       "      <td>1023.0</td>\n",
       "      <td>-18.8</td>\n",
       "      <td>0.0</td>\n",
       "      <td>NNW</td>\n",
       "      <td>4.4</td>\n",
       "      <td>Aotizhongxin</td>\n",
       "    </tr>\n",
       "    <tr>\n",
       "      <th>1</th>\n",
       "      <td>2</td>\n",
       "      <td>2013</td>\n",
       "      <td>3</td>\n",
       "      <td>1</td>\n",
       "      <td>1</td>\n",
       "      <td>8.0</td>\n",
       "      <td>8.0</td>\n",
       "      <td>4.0</td>\n",
       "      <td>7.0</td>\n",
       "      <td>300.0</td>\n",
       "      <td>77.0</td>\n",
       "      <td>-1.1</td>\n",
       "      <td>1023.2</td>\n",
       "      <td>-18.2</td>\n",
       "      <td>0.0</td>\n",
       "      <td>N</td>\n",
       "      <td>4.7</td>\n",
       "      <td>Aotizhongxin</td>\n",
       "    </tr>\n",
       "    <tr>\n",
       "      <th>2</th>\n",
       "      <td>3</td>\n",
       "      <td>2013</td>\n",
       "      <td>3</td>\n",
       "      <td>1</td>\n",
       "      <td>2</td>\n",
       "      <td>7.0</td>\n",
       "      <td>7.0</td>\n",
       "      <td>5.0</td>\n",
       "      <td>10.0</td>\n",
       "      <td>300.0</td>\n",
       "      <td>73.0</td>\n",
       "      <td>-1.1</td>\n",
       "      <td>1023.5</td>\n",
       "      <td>-18.2</td>\n",
       "      <td>0.0</td>\n",
       "      <td>NNW</td>\n",
       "      <td>5.6</td>\n",
       "      <td>Aotizhongxin</td>\n",
       "    </tr>\n",
       "    <tr>\n",
       "      <th>3</th>\n",
       "      <td>4</td>\n",
       "      <td>2013</td>\n",
       "      <td>3</td>\n",
       "      <td>1</td>\n",
       "      <td>3</td>\n",
       "      <td>6.0</td>\n",
       "      <td>6.0</td>\n",
       "      <td>11.0</td>\n",
       "      <td>11.0</td>\n",
       "      <td>300.0</td>\n",
       "      <td>72.0</td>\n",
       "      <td>-1.4</td>\n",
       "      <td>1024.5</td>\n",
       "      <td>-19.4</td>\n",
       "      <td>0.0</td>\n",
       "      <td>NW</td>\n",
       "      <td>3.1</td>\n",
       "      <td>Aotizhongxin</td>\n",
       "    </tr>\n",
       "    <tr>\n",
       "      <th>4</th>\n",
       "      <td>5</td>\n",
       "      <td>2013</td>\n",
       "      <td>3</td>\n",
       "      <td>1</td>\n",
       "      <td>4</td>\n",
       "      <td>3.0</td>\n",
       "      <td>3.0</td>\n",
       "      <td>12.0</td>\n",
       "      <td>12.0</td>\n",
       "      <td>300.0</td>\n",
       "      <td>72.0</td>\n",
       "      <td>-2.0</td>\n",
       "      <td>1025.2</td>\n",
       "      <td>-19.5</td>\n",
       "      <td>0.0</td>\n",
       "      <td>N</td>\n",
       "      <td>2.0</td>\n",
       "      <td>Aotizhongxin</td>\n",
       "    </tr>\n",
       "  </tbody>\n",
       "</table>\n",
       "</div>"
      ],
      "text/plain": [
       "   No  year  month  day  hour  PM2.5  PM10   SO2   NO2     CO    O3  TEMP  \\\n",
       "0   1  2013      3    1     0    4.0   4.0   4.0   7.0  300.0  77.0  -0.7   \n",
       "1   2  2013      3    1     1    8.0   8.0   4.0   7.0  300.0  77.0  -1.1   \n",
       "2   3  2013      3    1     2    7.0   7.0   5.0  10.0  300.0  73.0  -1.1   \n",
       "3   4  2013      3    1     3    6.0   6.0  11.0  11.0  300.0  72.0  -1.4   \n",
       "4   5  2013      3    1     4    3.0   3.0  12.0  12.0  300.0  72.0  -2.0   \n",
       "\n",
       "     PRES  DEWP  RAIN   wd  WSPM       station  \n",
       "0  1023.0 -18.8   0.0  NNW   4.4  Aotizhongxin  \n",
       "1  1023.2 -18.2   0.0    N   4.7  Aotizhongxin  \n",
       "2  1023.5 -18.2   0.0  NNW   5.6  Aotizhongxin  \n",
       "3  1024.5 -19.4   0.0   NW   3.1  Aotizhongxin  \n",
       "4  1025.2 -19.5   0.0    N   2.0  Aotizhongxin  "
      ]
     },
     "execution_count": 1,
     "metadata": {},
     "output_type": "execute_result"
    }
   ],
   "source": [
    "import pandas as pd\n",
    "df1 = pd.read_csv('PRSA_data.csv')\n",
    "df1.head()"
   ]
  },
  {
   "cell_type": "markdown",
   "id": "715efe8e",
   "metadata": {},
   "source": [
    "## 2. Clean the data and check missing values for this dataset"
   ]
  },
  {
   "cell_type": "code",
   "execution_count": 2,
   "id": "172486e9",
   "metadata": {},
   "outputs": [
    {
     "data": {
      "text/plain": [
       "No           int64\n",
       "year         int64\n",
       "month        int64\n",
       "day          int64\n",
       "hour         int64\n",
       "PM2.5      float64\n",
       "PM10       float64\n",
       "SO2        float64\n",
       "NO2        float64\n",
       "CO         float64\n",
       "O3         float64\n",
       "TEMP       float64\n",
       "PRES       float64\n",
       "DEWP       float64\n",
       "RAIN       float64\n",
       "wd          object\n",
       "WSPM       float64\n",
       "station     object\n",
       "dtype: object"
      ]
     },
     "execution_count": 2,
     "metadata": {},
     "output_type": "execute_result"
    }
   ],
   "source": [
    "df1.dtypes"
   ]
  },
  {
   "cell_type": "code",
   "execution_count": 3,
   "id": "de8044db",
   "metadata": {
    "scrolled": true
   },
   "outputs": [
    {
     "data": {
      "text/plain": [
       "No            0\n",
       "year          0\n",
       "month         0\n",
       "day           0\n",
       "hour          0\n",
       "PM2.5       925\n",
       "PM10        718\n",
       "SO2         935\n",
       "NO2        1023\n",
       "CO         1776\n",
       "O3         1719\n",
       "TEMP         20\n",
       "PRES         20\n",
       "DEWP         20\n",
       "RAIN         20\n",
       "wd           81\n",
       "WSPM         14\n",
       "station       0\n",
       "dtype: int64"
      ]
     },
     "execution_count": 3,
     "metadata": {},
     "output_type": "execute_result"
    }
   ],
   "source": [
    "df1.isnull().sum()"
   ]
  },
  {
   "cell_type": "code",
   "execution_count": 4,
   "id": "1600cebd",
   "metadata": {},
   "outputs": [
    {
     "data": {
      "text/plain": [
       "((35064, 18), (31815, 18))"
      ]
     },
     "execution_count": 4,
     "metadata": {},
     "output_type": "execute_result"
    }
   ],
   "source": [
    "#Remove the rows with null values\n",
    "df = df1.dropna()\n",
    "\n",
    "# Checking shape before and after dropping NaN rows\n",
    "original_shape = df1.shape\n",
    "cleaned_shape = df.shape\n",
    "\n",
    "original_shape, cleaned_shape"
   ]
  },
  {
   "cell_type": "code",
   "execution_count": 5,
   "id": "2b8c4f2e",
   "metadata": {},
   "outputs": [
    {
     "data": {
      "text/plain": [
       "wd         16\n",
       "station     1\n",
       "Name: unique, dtype: object"
      ]
     },
     "execution_count": 5,
     "metadata": {},
     "output_type": "execute_result"
    }
   ],
   "source": [
    "catFeatures = ['wd', 'station']\n",
    "df[catFeatures].describe(include='all').loc['unique', :]"
   ]
  },
  {
   "cell_type": "markdown",
   "id": "7b6404ab",
   "metadata": {},
   "source": [
    "## 3. Convert all categorical variables to numerical values"
   ]
  },
  {
   "cell_type": "code",
   "execution_count": 6,
   "id": "aead37bc",
   "metadata": {},
   "outputs": [
    {
     "data": {
      "text/html": [
       "<div>\n",
       "<style scoped>\n",
       "    .dataframe tbody tr th:only-of-type {\n",
       "        vertical-align: middle;\n",
       "    }\n",
       "\n",
       "    .dataframe tbody tr th {\n",
       "        vertical-align: top;\n",
       "    }\n",
       "\n",
       "    .dataframe thead th {\n",
       "        text-align: right;\n",
       "    }\n",
       "</style>\n",
       "<table border=\"1\" class=\"dataframe\">\n",
       "  <thead>\n",
       "    <tr style=\"text-align: right;\">\n",
       "      <th></th>\n",
       "      <th>wd_ENE</th>\n",
       "      <th>wd_ESE</th>\n",
       "      <th>wd_N</th>\n",
       "      <th>wd_NE</th>\n",
       "      <th>wd_NNE</th>\n",
       "      <th>wd_NNW</th>\n",
       "      <th>wd_NW</th>\n",
       "      <th>wd_S</th>\n",
       "      <th>wd_SE</th>\n",
       "      <th>wd_SSE</th>\n",
       "      <th>wd_SSW</th>\n",
       "      <th>wd_SW</th>\n",
       "      <th>wd_W</th>\n",
       "      <th>wd_WNW</th>\n",
       "      <th>wd_WSW</th>\n",
       "    </tr>\n",
       "  </thead>\n",
       "  <tbody>\n",
       "    <tr>\n",
       "      <th>0</th>\n",
       "      <td>False</td>\n",
       "      <td>False</td>\n",
       "      <td>False</td>\n",
       "      <td>False</td>\n",
       "      <td>False</td>\n",
       "      <td>True</td>\n",
       "      <td>False</td>\n",
       "      <td>False</td>\n",
       "      <td>False</td>\n",
       "      <td>False</td>\n",
       "      <td>False</td>\n",
       "      <td>False</td>\n",
       "      <td>False</td>\n",
       "      <td>False</td>\n",
       "      <td>False</td>\n",
       "    </tr>\n",
       "    <tr>\n",
       "      <th>1</th>\n",
       "      <td>False</td>\n",
       "      <td>False</td>\n",
       "      <td>True</td>\n",
       "      <td>False</td>\n",
       "      <td>False</td>\n",
       "      <td>False</td>\n",
       "      <td>False</td>\n",
       "      <td>False</td>\n",
       "      <td>False</td>\n",
       "      <td>False</td>\n",
       "      <td>False</td>\n",
       "      <td>False</td>\n",
       "      <td>False</td>\n",
       "      <td>False</td>\n",
       "      <td>False</td>\n",
       "    </tr>\n",
       "    <tr>\n",
       "      <th>2</th>\n",
       "      <td>False</td>\n",
       "      <td>False</td>\n",
       "      <td>False</td>\n",
       "      <td>False</td>\n",
       "      <td>False</td>\n",
       "      <td>True</td>\n",
       "      <td>False</td>\n",
       "      <td>False</td>\n",
       "      <td>False</td>\n",
       "      <td>False</td>\n",
       "      <td>False</td>\n",
       "      <td>False</td>\n",
       "      <td>False</td>\n",
       "      <td>False</td>\n",
       "      <td>False</td>\n",
       "    </tr>\n",
       "    <tr>\n",
       "      <th>3</th>\n",
       "      <td>False</td>\n",
       "      <td>False</td>\n",
       "      <td>False</td>\n",
       "      <td>False</td>\n",
       "      <td>False</td>\n",
       "      <td>False</td>\n",
       "      <td>True</td>\n",
       "      <td>False</td>\n",
       "      <td>False</td>\n",
       "      <td>False</td>\n",
       "      <td>False</td>\n",
       "      <td>False</td>\n",
       "      <td>False</td>\n",
       "      <td>False</td>\n",
       "      <td>False</td>\n",
       "    </tr>\n",
       "    <tr>\n",
       "      <th>4</th>\n",
       "      <td>False</td>\n",
       "      <td>False</td>\n",
       "      <td>True</td>\n",
       "      <td>False</td>\n",
       "      <td>False</td>\n",
       "      <td>False</td>\n",
       "      <td>False</td>\n",
       "      <td>False</td>\n",
       "      <td>False</td>\n",
       "      <td>False</td>\n",
       "      <td>False</td>\n",
       "      <td>False</td>\n",
       "      <td>False</td>\n",
       "      <td>False</td>\n",
       "      <td>False</td>\n",
       "    </tr>\n",
       "  </tbody>\n",
       "</table>\n",
       "</div>"
      ],
      "text/plain": [
       "   wd_ENE  wd_ESE   wd_N  wd_NE  wd_NNE  wd_NNW  wd_NW   wd_S  wd_SE  wd_SSE  \\\n",
       "0   False   False  False  False   False    True  False  False  False   False   \n",
       "1   False   False   True  False   False   False  False  False  False   False   \n",
       "2   False   False  False  False   False    True  False  False  False   False   \n",
       "3   False   False  False  False   False   False   True  False  False   False   \n",
       "4   False   False   True  False   False   False  False  False  False   False   \n",
       "\n",
       "   wd_SSW  wd_SW   wd_W  wd_WNW  wd_WSW  \n",
       "0   False  False  False   False   False  \n",
       "1   False  False  False   False   False  \n",
       "2   False  False  False   False   False  \n",
       "3   False  False  False   False   False  \n",
       "4   False  False  False   False   False  "
      ]
     },
     "execution_count": 6,
     "metadata": {},
     "output_type": "execute_result"
    }
   ],
   "source": [
    "catFeatures = ['wd', 'station']\n",
    "factors = pd.get_dummies(df[catFeatures],drop_first=True)\n",
    "factors.head()"
   ]
  },
  {
   "cell_type": "code",
   "execution_count": 7,
   "id": "4b708cd9",
   "metadata": {},
   "outputs": [
    {
     "data": {
      "text/html": [
       "<div>\n",
       "<style scoped>\n",
       "    .dataframe tbody tr th:only-of-type {\n",
       "        vertical-align: middle;\n",
       "    }\n",
       "\n",
       "    .dataframe tbody tr th {\n",
       "        vertical-align: top;\n",
       "    }\n",
       "\n",
       "    .dataframe thead th {\n",
       "        text-align: right;\n",
       "    }\n",
       "</style>\n",
       "<table border=\"1\" class=\"dataframe\">\n",
       "  <thead>\n",
       "    <tr style=\"text-align: right;\">\n",
       "      <th></th>\n",
       "      <th>No</th>\n",
       "      <th>year</th>\n",
       "      <th>month</th>\n",
       "      <th>day</th>\n",
       "      <th>hour</th>\n",
       "      <th>PM2.5</th>\n",
       "      <th>PM10</th>\n",
       "      <th>SO2</th>\n",
       "      <th>NO2</th>\n",
       "      <th>CO</th>\n",
       "      <th>...</th>\n",
       "      <th>wd_NNW</th>\n",
       "      <th>wd_NW</th>\n",
       "      <th>wd_S</th>\n",
       "      <th>wd_SE</th>\n",
       "      <th>wd_SSE</th>\n",
       "      <th>wd_SSW</th>\n",
       "      <th>wd_SW</th>\n",
       "      <th>wd_W</th>\n",
       "      <th>wd_WNW</th>\n",
       "      <th>wd_WSW</th>\n",
       "    </tr>\n",
       "  </thead>\n",
       "  <tbody>\n",
       "    <tr>\n",
       "      <th>0</th>\n",
       "      <td>1</td>\n",
       "      <td>2013</td>\n",
       "      <td>3</td>\n",
       "      <td>1</td>\n",
       "      <td>0</td>\n",
       "      <td>4.0</td>\n",
       "      <td>4.0</td>\n",
       "      <td>4.0</td>\n",
       "      <td>7.0</td>\n",
       "      <td>300.0</td>\n",
       "      <td>...</td>\n",
       "      <td>True</td>\n",
       "      <td>False</td>\n",
       "      <td>False</td>\n",
       "      <td>False</td>\n",
       "      <td>False</td>\n",
       "      <td>False</td>\n",
       "      <td>False</td>\n",
       "      <td>False</td>\n",
       "      <td>False</td>\n",
       "      <td>False</td>\n",
       "    </tr>\n",
       "    <tr>\n",
       "      <th>1</th>\n",
       "      <td>2</td>\n",
       "      <td>2013</td>\n",
       "      <td>3</td>\n",
       "      <td>1</td>\n",
       "      <td>1</td>\n",
       "      <td>8.0</td>\n",
       "      <td>8.0</td>\n",
       "      <td>4.0</td>\n",
       "      <td>7.0</td>\n",
       "      <td>300.0</td>\n",
       "      <td>...</td>\n",
       "      <td>False</td>\n",
       "      <td>False</td>\n",
       "      <td>False</td>\n",
       "      <td>False</td>\n",
       "      <td>False</td>\n",
       "      <td>False</td>\n",
       "      <td>False</td>\n",
       "      <td>False</td>\n",
       "      <td>False</td>\n",
       "      <td>False</td>\n",
       "    </tr>\n",
       "    <tr>\n",
       "      <th>2</th>\n",
       "      <td>3</td>\n",
       "      <td>2013</td>\n",
       "      <td>3</td>\n",
       "      <td>1</td>\n",
       "      <td>2</td>\n",
       "      <td>7.0</td>\n",
       "      <td>7.0</td>\n",
       "      <td>5.0</td>\n",
       "      <td>10.0</td>\n",
       "      <td>300.0</td>\n",
       "      <td>...</td>\n",
       "      <td>True</td>\n",
       "      <td>False</td>\n",
       "      <td>False</td>\n",
       "      <td>False</td>\n",
       "      <td>False</td>\n",
       "      <td>False</td>\n",
       "      <td>False</td>\n",
       "      <td>False</td>\n",
       "      <td>False</td>\n",
       "      <td>False</td>\n",
       "    </tr>\n",
       "    <tr>\n",
       "      <th>3</th>\n",
       "      <td>4</td>\n",
       "      <td>2013</td>\n",
       "      <td>3</td>\n",
       "      <td>1</td>\n",
       "      <td>3</td>\n",
       "      <td>6.0</td>\n",
       "      <td>6.0</td>\n",
       "      <td>11.0</td>\n",
       "      <td>11.0</td>\n",
       "      <td>300.0</td>\n",
       "      <td>...</td>\n",
       "      <td>False</td>\n",
       "      <td>True</td>\n",
       "      <td>False</td>\n",
       "      <td>False</td>\n",
       "      <td>False</td>\n",
       "      <td>False</td>\n",
       "      <td>False</td>\n",
       "      <td>False</td>\n",
       "      <td>False</td>\n",
       "      <td>False</td>\n",
       "    </tr>\n",
       "    <tr>\n",
       "      <th>4</th>\n",
       "      <td>5</td>\n",
       "      <td>2013</td>\n",
       "      <td>3</td>\n",
       "      <td>1</td>\n",
       "      <td>4</td>\n",
       "      <td>3.0</td>\n",
       "      <td>3.0</td>\n",
       "      <td>12.0</td>\n",
       "      <td>12.0</td>\n",
       "      <td>300.0</td>\n",
       "      <td>...</td>\n",
       "      <td>False</td>\n",
       "      <td>False</td>\n",
       "      <td>False</td>\n",
       "      <td>False</td>\n",
       "      <td>False</td>\n",
       "      <td>False</td>\n",
       "      <td>False</td>\n",
       "      <td>False</td>\n",
       "      <td>False</td>\n",
       "      <td>False</td>\n",
       "    </tr>\n",
       "  </tbody>\n",
       "</table>\n",
       "<p>5 rows × 31 columns</p>\n",
       "</div>"
      ],
      "text/plain": [
       "   No  year  month  day  hour  PM2.5  PM10   SO2   NO2     CO  ...  wd_NNW  \\\n",
       "0   1  2013      3    1     0    4.0   4.0   4.0   7.0  300.0  ...    True   \n",
       "1   2  2013      3    1     1    8.0   8.0   4.0   7.0  300.0  ...   False   \n",
       "2   3  2013      3    1     2    7.0   7.0   5.0  10.0  300.0  ...    True   \n",
       "3   4  2013      3    1     3    6.0   6.0  11.0  11.0  300.0  ...   False   \n",
       "4   5  2013      3    1     4    3.0   3.0  12.0  12.0  300.0  ...   False   \n",
       "\n",
       "   wd_NW   wd_S  wd_SE  wd_SSE  wd_SSW  wd_SW   wd_W  wd_WNW  wd_WSW  \n",
       "0  False  False  False   False   False  False  False   False   False  \n",
       "1  False  False  False   False   False  False  False   False   False  \n",
       "2  False  False  False   False   False  False  False   False   False  \n",
       "3   True  False  False   False   False  False  False   False   False  \n",
       "4  False  False  False   False   False  False  False   False   False  \n",
       "\n",
       "[5 rows x 31 columns]"
      ]
     },
     "execution_count": 7,
     "metadata": {},
     "output_type": "execute_result"
    }
   ],
   "source": [
    "df = df.drop(catFeatures, axis=1)\n",
    "df = pd.concat([df, factors], axis=1)\n",
    "df.head()"
   ]
  },
  {
   "cell_type": "markdown",
   "id": "5a8327d7",
   "metadata": {},
   "source": [
    "## 4. Split the data into 80% of training and 20% of the test dataset"
   ]
  },
  {
   "cell_type": "code",
   "execution_count": 8,
   "id": "451ca2ab",
   "metadata": {},
   "outputs": [],
   "source": [
    "X = df.drop('PM2.5', axis=1)\n",
    "y = df['PM2.5']\n",
    "\n",
    "from sklearn.model_selection import train_test_split\n",
    "X_train, X_test, y_train, y_test = train_test_split(X, y, test_size=0.2, random_state=2023)"
   ]
  },
  {
   "cell_type": "markdown",
   "id": "7a84a314",
   "metadata": {},
   "source": [
    "## 5. Preprocess the data using the normalization method to convert all features into the range of [0,1]"
   ]
  },
  {
   "cell_type": "code",
   "execution_count": 9,
   "id": "6703ab54",
   "metadata": {},
   "outputs": [],
   "source": [
    "from sklearn.preprocessing import MinMaxScaler\n",
    "scaler = MinMaxScaler()\n",
    "\n",
    "X_train = scaler.fit_transform(X_train)\n",
    "X_test = scaler.transform(X_test)"
   ]
  },
  {
   "cell_type": "code",
   "execution_count": 10,
   "id": "c72a1446",
   "metadata": {},
   "outputs": [
    {
     "data": {
      "text/plain": [
       "array([[0.62761315, 0.5       , 0.72727273, 0.06666667, 0.95652174,\n",
       "        0.05285412, 0.0062549 , 0.10416667, 0.05050505, 0.22419343,\n",
       "        0.74255692, 0.42245989, 0.85062893, 0.        , 0.17857143,\n",
       "        0.        , 0.        , 0.        , 0.        , 0.        ,\n",
       "        0.        , 0.        , 0.        , 0.        , 1.        ,\n",
       "        0.        , 0.        , 0.        , 0.        , 0.        ],\n",
       "       [0.38385192, 0.25      , 0.72727273, 0.36666667, 0.82608696,\n",
       "        0.09408034, 0.0193881 , 0.27430556, 0.05050505, 0.05625969,\n",
       "        0.6619965 , 0.41176471, 0.83805031, 0.        , 0.08928571,\n",
       "        0.        , 0.        , 0.        , 0.        , 0.        ,\n",
       "        0.        , 0.        , 0.        , 0.        , 0.        ,\n",
       "        0.        , 0.        , 1.        , 0.        , 0.        ],\n",
       "       [0.14730628, 0.        , 0.81818182, 0.03333333, 0.2173913 ,\n",
       "        0.00422833, 0.02376583, 0.07986111, 0.01010101, 0.07991233,\n",
       "        0.55341506, 0.56327986, 0.57861635, 0.        , 0.23214286,\n",
       "        0.        , 0.        , 1.        , 0.        , 0.        ,\n",
       "        0.        , 0.        , 0.        , 0.        , 0.        ,\n",
       "        0.        , 0.        , 0.        , 0.        , 0.        ],\n",
       "       [0.50178251, 0.5       , 0.18181818, 0.1       , 0.08695652,\n",
       "        0.0422833 , 0.02376583, 0.07638889, 0.04040404, 0.12012182,\n",
       "        0.27670753, 0.68627451, 0.14308176, 0.        , 0.17857143,\n",
       "        0.        , 0.        , 0.        , 0.        , 0.        ,\n",
       "        1.        , 0.        , 0.        , 0.        , 0.        ,\n",
       "        0.        , 0.        , 0.        , 0.        , 0.        ],\n",
       "       [0.24301971, 0.25      , 0.09090909, 0.6       , 0.04347826,\n",
       "        0.15856237, 0.30831839, 0.29166667, 0.22222222, 0.00185862,\n",
       "        0.26094571, 0.65240642, 0.41194969, 0.        , 0.09821429,\n",
       "        0.        , 0.        , 0.        , 1.        , 0.        ,\n",
       "        0.        , 0.        , 0.        , 0.        , 0.        ,\n",
       "        0.        , 0.        , 0.        , 0.        , 0.        ]])"
      ]
     },
     "execution_count": 10,
     "metadata": {},
     "output_type": "execute_result"
    }
   ],
   "source": [
    "# Verify normalization\n",
    "X_test[:5]"
   ]
  },
  {
   "cell_type": "markdown",
   "id": "9b2a91d1",
   "metadata": {},
   "source": [
    "## 6. Build a neuron network with two hidden layers of 20 and 10 neurons to forecast PM2.5 using all other features and TensorFlow. "
   ]
  },
  {
   "cell_type": "code",
   "execution_count": 11,
   "id": "27abed4c",
   "metadata": {},
   "outputs": [],
   "source": [
    "import tensorflow as tf\n",
    "from tensorflow import keras\n",
    "from tensorflow.keras import layers"
   ]
  },
  {
   "cell_type": "code",
   "execution_count": 12,
   "id": "dbfe4d84",
   "metadata": {},
   "outputs": [],
   "source": [
    "model = keras.Sequential()\n",
    "# Input layer\n",
    "model.add(layers.Dense(100, activation='relu'))\n",
    "# First hidden layer\n",
    "model.add(layers.Dense(20, activation='relu'))\n",
    "# Second hidden layer\n",
    "model.add(layers.Dense(10, activation='relu'))\n",
    "# Output layer has one and only one neuron\n",
    "model.add(layers.Dense(1))"
   ]
  },
  {
   "cell_type": "code",
   "execution_count": 13,
   "id": "c47340cc",
   "metadata": {},
   "outputs": [],
   "source": [
    "#Configure the model by choosing optimizer and loss function\n",
    "model.compile(optimizer='adam', loss='mse')"
   ]
  },
  {
   "cell_type": "code",
   "execution_count": 14,
   "id": "a354050f",
   "metadata": {},
   "outputs": [
    {
     "name": "stdout",
     "output_type": "stream",
     "text": [
      "CPU times: total: 16.4 s\n",
      "Wall time: 1min 23s\n"
     ]
    }
   ],
   "source": [
    "%%time \n",
    "tf.random.set_seed(1)\n",
    "#Fit the model and save the results in history\n",
    "history = model.fit(x=X_train,y=y_train,batch_size=64,epochs=100,\n",
    "          validation_data=(X_test,y_test), verbose=0\n",
    "          )"
   ]
  },
  {
   "cell_type": "markdown",
   "id": "138f4919",
   "metadata": {},
   "source": [
    "### Convert the train and validation loss to a df and look at the latest perfomance"
   ]
  },
  {
   "cell_type": "code",
   "execution_count": 15,
   "id": "631c82ed",
   "metadata": {},
   "outputs": [
    {
     "data": {
      "text/html": [
       "<div>\n",
       "<style scoped>\n",
       "    .dataframe tbody tr th:only-of-type {\n",
       "        vertical-align: middle;\n",
       "    }\n",
       "\n",
       "    .dataframe tbody tr th {\n",
       "        vertical-align: top;\n",
       "    }\n",
       "\n",
       "    .dataframe thead th {\n",
       "        text-align: right;\n",
       "    }\n",
       "</style>\n",
       "<table border=\"1\" class=\"dataframe\">\n",
       "  <thead>\n",
       "    <tr style=\"text-align: right;\">\n",
       "      <th></th>\n",
       "      <th>loss</th>\n",
       "      <th>val_loss</th>\n",
       "      <th>epoch</th>\n",
       "    </tr>\n",
       "  </thead>\n",
       "  <tbody>\n",
       "    <tr>\n",
       "      <th>95</th>\n",
       "      <td>432.930878</td>\n",
       "      <td>478.101196</td>\n",
       "      <td>95</td>\n",
       "    </tr>\n",
       "    <tr>\n",
       "      <th>96</th>\n",
       "      <td>433.918274</td>\n",
       "      <td>474.204437</td>\n",
       "      <td>96</td>\n",
       "    </tr>\n",
       "    <tr>\n",
       "      <th>97</th>\n",
       "      <td>429.814392</td>\n",
       "      <td>481.168304</td>\n",
       "      <td>97</td>\n",
       "    </tr>\n",
       "    <tr>\n",
       "      <th>98</th>\n",
       "      <td>431.188385</td>\n",
       "      <td>475.197540</td>\n",
       "      <td>98</td>\n",
       "    </tr>\n",
       "    <tr>\n",
       "      <th>99</th>\n",
       "      <td>431.921082</td>\n",
       "      <td>471.748199</td>\n",
       "      <td>99</td>\n",
       "    </tr>\n",
       "  </tbody>\n",
       "</table>\n",
       "</div>"
      ],
      "text/plain": [
       "          loss    val_loss  epoch\n",
       "95  432.930878  478.101196     95\n",
       "96  433.918274  474.204437     96\n",
       "97  429.814392  481.168304     97\n",
       "98  431.188385  475.197540     98\n",
       "99  431.921082  471.748199     99"
      ]
     },
     "execution_count": 15,
     "metadata": {},
     "output_type": "execute_result"
    }
   ],
   "source": [
    "#Convert the train and validation loss to a df\n",
    "trainhist = pd.DataFrame(history.history)\n",
    "#Add the epoch index\n",
    "trainhist['epoch'] = history.epoch\n",
    "#Look at the latest performance\n",
    "trainhist.tail()"
   ]
  },
  {
   "cell_type": "code",
   "execution_count": 16,
   "id": "bc54c05e",
   "metadata": {},
   "outputs": [
    {
     "data": {
      "text/plain": [
       "<matplotlib.legend.Legend at 0x1a5c9c418d0>"
      ]
     },
     "execution_count": 16,
     "metadata": {},
     "output_type": "execute_result"
    },
    {
     "data": {
      "image/png": "[encoded data removed]",
      "text/plain": [
       "<Figure size 640x480 with 1 Axes>"
      ]
     },
     "metadata": {},
     "output_type": "display_data"
    }
   ],
   "source": [
    "import seaborn as sns\n",
    "import matplotlib.pyplot as plt\n",
    "#Plot train loss\n",
    "sns.lineplot(x='epoch', y ='loss', data =trainhist)\n",
    "#Plot validation loss\n",
    "sns.lineplot(x='epoch', y ='val_loss', data =trainhist)\n",
    "#Add legends\n",
    "plt.legend(labels=['train_loss', '', 'val_loss'])"
   ]
  },
  {
   "cell_type": "markdown",
   "id": "5254e735",
   "metadata": {},
   "source": [
    "### Let's try it agin with more epochs"
   ]
  },
  {
   "cell_type": "code",
   "execution_count": 17,
   "id": "d484841c",
   "metadata": {},
   "outputs": [
    {
     "name": "stdout",
     "output_type": "stream",
     "text": [
      "CPU times: total: 1.17 s\n",
      "Wall time: 8 s\n"
     ]
    }
   ],
   "source": [
    "%%time\n",
    "#Fix the seed\n",
    "tf.random.set_seed(1)\n",
    "#Increase the epochs to 10K\n",
    "history = model.fit(x=X_train,y=y_train,batch_size=64,epochs=10,\n",
    "          validation_data=(X_test,y_test), verbose=0\n",
    "          )"
   ]
  },
  {
   "cell_type": "code",
   "execution_count": 18,
   "id": "ac470e3a",
   "metadata": {
    "scrolled": true
   },
   "outputs": [
    {
     "data": {
      "text/html": [
       "<div>\n",
       "<style scoped>\n",
       "    .dataframe tbody tr th:only-of-type {\n",
       "        vertical-align: middle;\n",
       "    }\n",
       "\n",
       "    .dataframe tbody tr th {\n",
       "        vertical-align: top;\n",
       "    }\n",
       "\n",
       "    .dataframe thead th {\n",
       "        text-align: right;\n",
       "    }\n",
       "</style>\n",
       "<table border=\"1\" class=\"dataframe\">\n",
       "  <thead>\n",
       "    <tr style=\"text-align: right;\">\n",
       "      <th></th>\n",
       "      <th>loss</th>\n",
       "      <th>val_loss</th>\n",
       "      <th>epoch</th>\n",
       "    </tr>\n",
       "  </thead>\n",
       "  <tbody>\n",
       "    <tr>\n",
       "      <th>5</th>\n",
       "      <td>424.715790</td>\n",
       "      <td>487.941071</td>\n",
       "      <td>5</td>\n",
       "    </tr>\n",
       "    <tr>\n",
       "      <th>6</th>\n",
       "      <td>422.896576</td>\n",
       "      <td>471.448578</td>\n",
       "      <td>6</td>\n",
       "    </tr>\n",
       "    <tr>\n",
       "      <th>7</th>\n",
       "      <td>424.732941</td>\n",
       "      <td>486.093262</td>\n",
       "      <td>7</td>\n",
       "    </tr>\n",
       "    <tr>\n",
       "      <th>8</th>\n",
       "      <td>423.649292</td>\n",
       "      <td>489.688934</td>\n",
       "      <td>8</td>\n",
       "    </tr>\n",
       "    <tr>\n",
       "      <th>9</th>\n",
       "      <td>423.586700</td>\n",
       "      <td>466.113861</td>\n",
       "      <td>9</td>\n",
       "    </tr>\n",
       "  </tbody>\n",
       "</table>\n",
       "</div>"
      ],
      "text/plain": [
       "         loss    val_loss  epoch\n",
       "5  424.715790  487.941071      5\n",
       "6  422.896576  471.448578      6\n",
       "7  424.732941  486.093262      7\n",
       "8  423.649292  489.688934      8\n",
       "9  423.586700  466.113861      9"
      ]
     },
     "execution_count": 18,
     "metadata": {},
     "output_type": "execute_result"
    }
   ],
   "source": [
    "#Convert the train and validation loss to a df\n",
    "trainhist = pd.DataFrame(history.history)\n",
    "#Add the epoch index\n",
    "trainhist['epoch'] = history.epoch\n",
    "#Look at the latest performance\n",
    "trainhist.tail()"
   ]
  },
  {
   "cell_type": "code",
   "execution_count": 19,
   "id": "a1c033fa",
   "metadata": {},
   "outputs": [
    {
     "data": {
      "text/plain": [
       "<matplotlib.legend.Legend at 0x1a5c9cf9a50>"
      ]
     },
     "execution_count": 19,
     "metadata": {},
     "output_type": "execute_result"
    },
    {
     "data": {
      "image/png": "[encoded data removed]",
      "text/plain": [
       "<Figure size 640x480 with 1 Axes>"
      ]
     },
     "metadata": {},
     "output_type": "display_data"
    }
   ],
   "source": [
    "import matplotlib.pyplot as plt\n",
    "#Plot train loss\n",
    "sns.lineplot(x='epoch', y ='loss', data =trainhist)\n",
    "#Plot validation loss\n",
    "sns.lineplot(x='epoch', y ='val_loss', data =trainhist)\n",
    "#Add legends\n",
    "plt.legend(labels=['train_loss',  '', 'val_loss'])"
   ]
  },
  {
   "cell_type": "markdown",
   "id": "af41911b",
   "metadata": {},
   "source": [
    "### Does it overfit or underfit the data? Please justify your answer."
   ]
  },
  {
   "cell_type": "markdown",
   "id": "0d24a181",
   "metadata": {},
   "source": [
    "The model overfits the data for a few reason. The first reason being the training loss decreases with a steady slope and the validation loss steadly increases overtime with a positive slope. We see a very big difference here between the train loss and validation loss."
   ]
  },
  {
   "cell_type": "markdown",
   "id": "1c8eb10c",
   "metadata": {},
   "source": [
    "### If we changed a few things"
   ]
  },
  {
   "cell_type": "code",
   "execution_count": 20,
   "id": "fc78ab3f",
   "metadata": {},
   "outputs": [
    {
     "name": "stdout",
     "output_type": "stream",
     "text": [
      "CPU times: total: 31.3 s\n",
      "Wall time: 2min 18s\n"
     ]
    }
   ],
   "source": [
    "%%time\n",
    "from tensorflow.keras.layers import Dropout\n",
    "from tensorflow.keras.constraints import max_norm\n",
    "model = keras.Sequential()\n",
    "# Input layer has 200 neurons\n",
    "model.add(layers.Dense(200, activation='relu'))\n",
    "# Add dropout rate of 50%\n",
    "model.add(Dropout(0.5))\n",
    "# First hidden layer with 100 neurons\n",
    "model.add(layers.Dense(100, activation='relu'))\n",
    "# Add dropout rate of 50%\n",
    "model.add(Dropout(0.5))\n",
    "# Second hidden layer with 50 neurons\n",
    "model.add(layers.Dense(50, activation='relu'))\n",
    "# Add dropout rate of 50%\n",
    "model.add(Dropout(0.5))\n",
    "# Output layer has one and only one neuron\n",
    "model.add(layers.Dense(1))\n",
    "\n",
    "#Configure the model\n",
    "model.compile(optimizer='adam',loss='mse')\n",
    "\n",
    "#Fix the seed\n",
    "tf.random.set_seed(1)\n",
    "#Fit the Model\n",
    "history = model.fit(x=X_train,y=y_train,batch_size=64,epochs=100,\n",
    "          validation_data=(X_test,y_test), verbose=0\n",
    "          )"
   ]
  },
  {
   "cell_type": "code",
   "execution_count": 21,
   "id": "db45f1a0",
   "metadata": {},
   "outputs": [
    {
     "data": {
      "text/plain": [
       "<matplotlib.legend.Legend at 0x1a5c9edb750>"
      ]
     },
     "execution_count": 21,
     "metadata": {},
     "output_type": "execute_result"
    },
    {
     "data": {
      "image/png": "[encoded data removed]",
      "text/plain": [
       "<Figure size 640x480 with 1 Axes>"
      ]
     },
     "metadata": {},
     "output_type": "display_data"
    }
   ],
   "source": [
    "#Convert the train and validation loss to a df\n",
    "trainhist = pd.DataFrame(history.history)\n",
    "#Add the epoch index\n",
    "trainhist['epoch'] = history.epoch\n",
    "\n",
    "import matplotlib.pyplot as plt\n",
    "#Plot train loss\n",
    "sns.lineplot(x='epoch', y ='loss', data =trainhist)\n",
    "#Plot validation loss\n",
    "sns.lineplot(x='epoch', y ='val_loss', data =trainhist)\n",
    "#Add legends\n",
    "plt.legend(labels=['train_loss', '', 'val_loss'])"
   ]
  },
  {
   "cell_type": "markdown",
   "id": "07c17926",
   "metadata": {},
   "source": [
    "## 7. Tune the model using the following hyperparameters using keras-tuner:\n",
    "### - First hidden layer with units between 20 and 50 with a step size of 5\n",
    "### - Second hidden layer with units between 5 and 10 with a step size of 1\n",
    "### - The dropout rate for both hidden layers is between 0.2 and 0.8 with a step size of 0.1"
   ]
  },
  {
   "cell_type": "code",
   "execution_count": 22,
   "id": "ac72ea3e",
   "metadata": {},
   "outputs": [
    {
     "name": "stdout",
     "output_type": "stream",
     "text": [
      "Using TensorFlow backend\n"
     ]
    },
    {
     "name": "stderr",
     "output_type": "stream",
     "text": [
      "C:\\Users\\whitl\\AppData\\Local\\Temp\\ipykernel_7632\\3295754333.py:7: DeprecationWarning: `import kerastuner` is deprecated, please use `import keras_tuner`.\n",
      "  import kerastuner as kt\n"
     ]
    }
   ],
   "source": [
    "import sys\n",
    "#Check the existence of the keras-tuner library\n",
    "if ( 'keras-tuner' not in sys.modules):\n",
    "    #If it was not installed, then install it\n",
    "    !pip install -q -U keras-tuner\n",
    "#Import the library of keras-tuner\n",
    "    import kerastuner as kt"
   ]
  },
  {
   "cell_type": "code",
   "execution_count": 23,
   "id": "42e5ceb2",
   "metadata": {},
   "outputs": [],
   "source": [
    "def model_builder(hp):\n",
    "  model = keras.Sequential()\n",
    " \n",
    "  # Tune the number of units in the first input layer\n",
    "  # Search the number of neurons from 20-50 with a stepsize of 5 in the first input layer.\n",
    "  hp_units1 = hp.Int('units', min_value = 20, max_value = 50, step = 5)\n",
    "  model.add(layers.Dense(units = hp_units1, activation = 'relu'))\n",
    "  # Tune the dropout rate in the first input layer\n",
    "  # Search the dropout rate in the first input layer in the range of 0.2-0.8 with a stepsize of 0.1.\n",
    "  hp_dropout1 = hp.Float('rate', min_value = 0.2, max_value = 0.8, step = 0.1)\n",
    "  model.add(Dropout(rate = hp_dropout1))\n",
    "  # first hidden layer with 100 neurons\n",
    "  model.add(layers.Dense(100, activation='relu'))\n",
    "  # add dropout rate of 50%\n",
    "  model.add(Dropout(0.5))\n",
    "  # second hidden layer with 50 neurons\n",
    "  model.add(layers.Dense(50, activation='relu'))\n",
    "  # add dropout rate of 50%\n",
    "  model.add(Dropout(0.5))\n",
    "  # output layer has one and only one neuron\n",
    "  # Tune the number of units in the second hidden layer\n",
    "  hp_units2 = hp.Int('units2', min_value=5, max_value=10, step=1)\n",
    "  model.add(layers.Dense(units=hp_units2, activation='relu'))\n",
    "  # Tune dropout rate in the second hidden layer\n",
    "  hp_dropout2 = hp.Float('dropout2', min_value=0.2, max_value=0.8, step=0.1)\n",
    "  model.add(Dropout(rate=hp_dropout2))\n",
    "  model.add(layers.Dense(1))\n",
    "\n",
    " # Tune the learning rate for the optimizer \n",
    " # Search the lerning rate from 0.01, 0.001, or 0.0001.\n",
    "  hp_learning_rate = hp.Choice('learning_rate', values = [1e-2, 1e-3, 1e-4]) \n",
    "\n",
    "  model.compile(optimizer = keras.optimizers.Adam(learning_rate = hp_learning_rate),\n",
    "                loss = 'mse', \n",
    "                metrics = [tf.keras.metrics.MeanSquaredError()])\n",
    "\n",
    "  return model"
   ]
  },
  {
   "cell_type": "code",
   "execution_count": 24,
   "id": "0ab5021a",
   "metadata": {},
   "outputs": [
    {
     "name": "stdout",
     "output_type": "stream",
     "text": [
      "Reloading Tuner from Deep_Learning\\Week_2\\tuningRegression\\tuner0.json\n"
     ]
    }
   ],
   "source": [
    "tuner = kt.Hyperband(model_builder, #Specify the model\n",
    "                     objective = 'val_loss', #Specify the objective function\n",
    "                     max_epochs = 100, #Specify the maximum epochs\n",
    "                     directory = 'Deep_Learning\\Week_2', #Specify the file path\n",
    "                     project_name = 'tuningRegression')"
   ]
  },
  {
   "cell_type": "code",
   "execution_count": 25,
   "id": "3e9d6cce",
   "metadata": {},
   "outputs": [],
   "source": [
    "import IPython\n",
    "#Clear all the training outputs\n",
    "class ClearTrainingOutput(tf.keras.callbacks.Callback):\n",
    "  def on_train_end(*args, **kwargs):\n",
    "    IPython.display.clear_output(wait = True)"
   ]
  },
  {
   "cell_type": "code",
   "execution_count": 26,
   "id": "50da0eff",
   "metadata": {},
   "outputs": [],
   "source": [
    "\n",
    "#Perform the search on the defined hyperparameter space by specifying the callback to clear the training outputs\n",
    "tuner.search(X_train, y_train, epochs = 100, validation_data = (X_test,y_test), callbacks = [ClearTrainingOutput()])"
   ]
  },
  {
   "cell_type": "code",
   "execution_count": 27,
   "id": "9ca7592d",
   "metadata": {},
   "outputs": [
    {
     "name": "stdout",
     "output_type": "stream",
     "text": [
      "\n",
      "The optimal number of units in the input layer =  50. \n",
      "The optimal dropout rate in the input layer = 0.30000000000000004\n",
      "The optimal learning rate for the optimizer of Adam = 0.001.\n",
      "\n"
     ]
    }
   ],
   "source": [
    "# Get the optimal hyperparameters\n",
    "best_hps = tuner.get_best_hyperparameters(num_trials = 1)[0]\n",
    "#Use f-strings to format the outputs\n",
    "print(f\"\"\"\n",
    "The optimal number of units in the input layer =  {best_hps.get('units')}. \n",
    "The optimal dropout rate in the input layer = {best_hps.get('rate')}\n",
    "The optimal learning rate for the optimizer of Adam = {best_hps.get('learning_rate')}.\n",
    "\"\"\")"
   ]
  },
  {
   "cell_type": "code",
   "execution_count": 28,
   "id": "81304ab9",
   "metadata": {},
   "outputs": [
    {
     "name": "stdout",
     "output_type": "stream",
     "text": [
      "\n",
      "The optimal number of units in the first input layer = 30. \n",
      "The optimal dropout rate in the first input layer = 0.2\n",
      "The optimal number of units in the second hidden layer = 7. \n",
      "The optimal dropout rate in the second hidden layer = 0.30000000000000004\n",
      "\n"
     ]
    }
   ],
   "source": [
    "# Get the optimal hyperparameters\n",
    "best_hps = tuner.get_best_hyperparameters(num_trials = 1)[0]\n",
    "\n",
    "# Use f-strings to format the outputs\n",
    "print(f\"\"\"\n",
    "The optimal number of units in the first input layer = {best_hps.get('units1')}. \n",
    "The optimal dropout rate in the first input layer = {best_hps.get('dropout1')}\n",
    "The optimal number of units in the second hidden layer = {best_hps.get('units2')}. \n",
    "The optimal dropout rate in the second hidden layer = {best_hps.get('dropout2')}\n",
    "\"\"\") "
   ]
  },
  {
   "cell_type": "markdown",
   "id": "8fae1db0",
   "metadata": {},
   "source": [
    "### Retrain model with optimal hyperparameters"
   ]
  },
  {
   "cell_type": "code",
   "execution_count": 29,
   "id": "52fc7eb9",
   "metadata": {
    "scrolled": false
   },
   "outputs": [
    {
     "name": "stdout",
     "output_type": "stream",
     "text": [
      "Epoch 1/100\n",
      "796/796 [==============================] - 4s 3ms/step - loss: 4999.4736 - mean_squared_error: 4999.4736 - val_loss: 1489.1342 - val_mean_squared_error: 1489.1342\n",
      "Epoch 2/100\n",
      "796/796 [==============================] - 2s 3ms/step - loss: 2911.5078 - mean_squared_error: 2911.5078 - val_loss: 1593.3275 - val_mean_squared_error: 1593.3275\n",
      "Epoch 3/100\n",
      "796/796 [==============================] - 2s 3ms/step - loss: 2746.8093 - mean_squared_error: 2746.8093 - val_loss: 1116.3102 - val_mean_squared_error: 1116.3102\n",
      "Epoch 4/100\n",
      "796/796 [==============================] - 2s 3ms/step - loss: 2549.2522 - mean_squared_error: 2549.2522 - val_loss: 1060.8224 - val_mean_squared_error: 1060.8224\n",
      "Epoch 5/100\n",
      "796/796 [==============================] - 2s 3ms/step - loss: 2539.8799 - mean_squared_error: 2539.8799 - val_loss: 1128.0179 - val_mean_squared_error: 1128.0179\n",
      "Epoch 6/100\n",
      "796/796 [==============================] - 2s 3ms/step - loss: 2521.3328 - mean_squared_error: 2521.3328 - val_loss: 991.1299 - val_mean_squared_error: 991.1299\n",
      "Epoch 7/100\n",
      "796/796 [==============================] - 2s 3ms/step - loss: 2522.7297 - mean_squared_error: 2522.7297 - val_loss: 1035.2628 - val_mean_squared_error: 1035.2628\n",
      "Epoch 8/100\n",
      "796/796 [==============================] - 2s 3ms/step - loss: 2435.4143 - mean_squared_error: 2435.4143 - val_loss: 1015.6665 - val_mean_squared_error: 1015.6665\n",
      "Epoch 9/100\n",
      "796/796 [==============================] - 2s 3ms/step - loss: 2396.2410 - mean_squared_error: 2396.2410 - val_loss: 1009.5893 - val_mean_squared_error: 1009.5893\n",
      "Epoch 10/100\n",
      "796/796 [==============================] - 3s 3ms/step - loss: 2388.7744 - mean_squared_error: 2388.7744 - val_loss: 1069.7006 - val_mean_squared_error: 1069.7006\n",
      "Epoch 11/100\n",
      "796/796 [==============================] - 3s 3ms/step - loss: 2327.7969 - mean_squared_error: 2327.7969 - val_loss: 1160.2657 - val_mean_squared_error: 1160.2657\n",
      "Epoch 12/100\n",
      "796/796 [==============================] - 3s 3ms/step - loss: 2354.4094 - mean_squared_error: 2354.4094 - val_loss: 909.9506 - val_mean_squared_error: 909.9506\n",
      "Epoch 13/100\n",
      "796/796 [==============================] - 2s 3ms/step - loss: 2278.7351 - mean_squared_error: 2278.7351 - val_loss: 811.9376 - val_mean_squared_error: 811.9376\n",
      "Epoch 14/100\n",
      "796/796 [==============================] - 2s 3ms/step - loss: 2264.6016 - mean_squared_error: 2264.6016 - val_loss: 848.4554 - val_mean_squared_error: 848.4554\n",
      "Epoch 15/100\n",
      "796/796 [==============================] - 3s 3ms/step - loss: 2274.8555 - mean_squared_error: 2274.8555 - val_loss: 1173.0281 - val_mean_squared_error: 1173.0281\n",
      "Epoch 16/100\n",
      "796/796 [==============================] - 2s 3ms/step - loss: 2146.0513 - mean_squared_error: 2146.0513 - val_loss: 1006.4656 - val_mean_squared_error: 1006.4656\n",
      "Epoch 17/100\n",
      "796/796 [==============================] - 3s 3ms/step - loss: 2199.7844 - mean_squared_error: 2199.7844 - val_loss: 829.7241 - val_mean_squared_error: 829.7241\n",
      "Epoch 18/100\n",
      "796/796 [==============================] - 3s 3ms/step - loss: 2201.3083 - mean_squared_error: 2201.3083 - val_loss: 1091.4149 - val_mean_squared_error: 1091.4149\n",
      "Epoch 19/100\n",
      "796/796 [==============================] - 2s 3ms/step - loss: 2168.2156 - mean_squared_error: 2168.2156 - val_loss: 1123.8566 - val_mean_squared_error: 1123.8566\n",
      "Epoch 20/100\n",
      "796/796 [==============================] - 2s 3ms/step - loss: 2187.6174 - mean_squared_error: 2187.6174 - val_loss: 829.7294 - val_mean_squared_error: 829.7294\n",
      "Epoch 21/100\n",
      "796/796 [==============================] - 2s 3ms/step - loss: 2084.6089 - mean_squared_error: 2084.6089 - val_loss: 721.2112 - val_mean_squared_error: 721.2112\n",
      "Epoch 22/100\n",
      "796/796 [==============================] - 2s 3ms/step - loss: 2106.7842 - mean_squared_error: 2106.7842 - val_loss: 824.1578 - val_mean_squared_error: 824.1578\n",
      "Epoch 23/100\n",
      "796/796 [==============================] - 2s 3ms/step - loss: 2145.8247 - mean_squared_error: 2145.8247 - val_loss: 885.1478 - val_mean_squared_error: 885.1478\n",
      "Epoch 24/100\n",
      "796/796 [==============================] - 2s 3ms/step - loss: 2117.4995 - mean_squared_error: 2117.4995 - val_loss: 1095.1552 - val_mean_squared_error: 1095.1552\n",
      "Epoch 25/100\n",
      "796/796 [==============================] - 2s 3ms/step - loss: 2004.3486 - mean_squared_error: 2004.3486 - val_loss: 829.0917 - val_mean_squared_error: 829.0917\n",
      "Epoch 26/100\n",
      "796/796 [==============================] - 2s 3ms/step - loss: 1963.0405 - mean_squared_error: 1963.0405 - val_loss: 719.5756 - val_mean_squared_error: 719.5756\n",
      "Epoch 27/100\n",
      "796/796 [==============================] - 2s 3ms/step - loss: 2028.0830 - mean_squared_error: 2028.0830 - val_loss: 835.0111 - val_mean_squared_error: 835.0111\n",
      "Epoch 28/100\n",
      "796/796 [==============================] - 2s 3ms/step - loss: 1992.3549 - mean_squared_error: 1992.3549 - val_loss: 1070.1477 - val_mean_squared_error: 1070.1477\n",
      "Epoch 29/100\n",
      "796/796 [==============================] - 2s 3ms/step - loss: 1991.0852 - mean_squared_error: 1991.0852 - val_loss: 897.8983 - val_mean_squared_error: 897.8983\n",
      "Epoch 30/100\n",
      "796/796 [==============================] - 2s 3ms/step - loss: 2007.2249 - mean_squared_error: 2007.2249 - val_loss: 1003.8132 - val_mean_squared_error: 1003.8132\n",
      "Epoch 31/100\n",
      "796/796 [==============================] - 2s 3ms/step - loss: 1995.9354 - mean_squared_error: 1995.9354 - val_loss: 907.5652 - val_mean_squared_error: 907.5652\n",
      "Epoch 32/100\n",
      "796/796 [==============================] - 2s 3ms/step - loss: 1967.1212 - mean_squared_error: 1967.1212 - val_loss: 1107.5903 - val_mean_squared_error: 1107.5903\n",
      "Epoch 33/100\n",
      "796/796 [==============================] - 2s 3ms/step - loss: 1959.9042 - mean_squared_error: 1959.9042 - val_loss: 860.8624 - val_mean_squared_error: 860.8624\n",
      "Epoch 34/100\n",
      "796/796 [==============================] - 2s 3ms/step - loss: 1964.6814 - mean_squared_error: 1964.6814 - val_loss: 878.5168 - val_mean_squared_error: 878.5168\n",
      "Epoch 35/100\n",
      "796/796 [==============================] - 2s 3ms/step - loss: 1978.5815 - mean_squared_error: 1978.5815 - val_loss: 893.8651 - val_mean_squared_error: 893.8651\n",
      "Epoch 36/100\n",
      "796/796 [==============================] - 2s 3ms/step - loss: 1871.9755 - mean_squared_error: 1871.9755 - val_loss: 742.5705 - val_mean_squared_error: 742.5705\n",
      "Epoch 37/100\n",
      "796/796 [==============================] - 2s 3ms/step - loss: 1981.1771 - mean_squared_error: 1981.1771 - val_loss: 814.7099 - val_mean_squared_error: 814.7099\n",
      "Epoch 38/100\n",
      "796/796 [==============================] - 2s 3ms/step - loss: 1861.4485 - mean_squared_error: 1861.4485 - val_loss: 766.4856 - val_mean_squared_error: 766.4856\n",
      "Epoch 39/100\n",
      "796/796 [==============================] - 2s 3ms/step - loss: 1927.4703 - mean_squared_error: 1927.4703 - val_loss: 813.4682 - val_mean_squared_error: 813.4682\n",
      "Epoch 40/100\n",
      "796/796 [==============================] - 2s 3ms/step - loss: 1880.9634 - mean_squared_error: 1880.9634 - val_loss: 830.3289 - val_mean_squared_error: 830.3289\n",
      "Epoch 41/100\n",
      "796/796 [==============================] - 2s 3ms/step - loss: 1886.1471 - mean_squared_error: 1886.1471 - val_loss: 761.0251 - val_mean_squared_error: 761.0251\n",
      "Epoch 42/100\n",
      "796/796 [==============================] - 2s 3ms/step - loss: 1790.0552 - mean_squared_error: 1790.0552 - val_loss: 876.8057 - val_mean_squared_error: 876.8057\n",
      "Epoch 43/100\n",
      "796/796 [==============================] - 2s 3ms/step - loss: 1872.2123 - mean_squared_error: 1872.2123 - val_loss: 851.2313 - val_mean_squared_error: 851.2313\n",
      "Epoch 44/100\n",
      "796/796 [==============================] - 2s 3ms/step - loss: 1836.1161 - mean_squared_error: 1836.1161 - val_loss: 788.5880 - val_mean_squared_error: 788.5880\n",
      "Epoch 45/100\n",
      "796/796 [==============================] - 2s 3ms/step - loss: 1833.7196 - mean_squared_error: 1833.7196 - val_loss: 734.5908 - val_mean_squared_error: 734.5908\n",
      "Epoch 46/100\n",
      "796/796 [==============================] - 2s 3ms/step - loss: 1863.7590 - mean_squared_error: 1863.7590 - val_loss: 1007.5637 - val_mean_squared_error: 1007.5637\n",
      "Epoch 47/100\n",
      "796/796 [==============================] - 2s 3ms/step - loss: 1861.6840 - mean_squared_error: 1861.6840 - val_loss: 904.9997 - val_mean_squared_error: 904.9997\n"
     ]
    },
    {
     "name": "stdout",
     "output_type": "stream",
     "text": [
      "Epoch 48/100\n",
      "796/796 [==============================] - 2s 3ms/step - loss: 1806.5707 - mean_squared_error: 1806.5707 - val_loss: 1058.7491 - val_mean_squared_error: 1058.7491\n",
      "Epoch 49/100\n",
      "796/796 [==============================] - 2s 3ms/step - loss: 1788.8512 - mean_squared_error: 1788.8512 - val_loss: 899.5995 - val_mean_squared_error: 899.5995\n",
      "Epoch 50/100\n",
      "796/796 [==============================] - 2s 3ms/step - loss: 1756.0177 - mean_squared_error: 1756.0177 - val_loss: 875.0244 - val_mean_squared_error: 875.0244\n",
      "Epoch 51/100\n",
      "796/796 [==============================] - 2s 3ms/step - loss: 1795.9742 - mean_squared_error: 1795.9742 - val_loss: 973.5036 - val_mean_squared_error: 973.5036\n",
      "Epoch 52/100\n",
      "796/796 [==============================] - 2s 3ms/step - loss: 1805.7552 - mean_squared_error: 1805.7552 - val_loss: 739.4960 - val_mean_squared_error: 739.4960\n",
      "Epoch 53/100\n",
      "796/796 [==============================] - 2s 3ms/step - loss: 1746.7220 - mean_squared_error: 1746.7220 - val_loss: 657.1956 - val_mean_squared_error: 657.1956\n",
      "Epoch 54/100\n",
      "796/796 [==============================] - 2s 3ms/step - loss: 1817.6093 - mean_squared_error: 1817.6093 - val_loss: 868.3004 - val_mean_squared_error: 868.3004\n",
      "Epoch 55/100\n",
      "796/796 [==============================] - 2s 3ms/step - loss: 1774.3159 - mean_squared_error: 1774.3159 - val_loss: 916.8974 - val_mean_squared_error: 916.8974\n",
      "Epoch 56/100\n",
      "796/796 [==============================] - 2s 3ms/step - loss: 1770.7856 - mean_squared_error: 1770.7856 - val_loss: 743.0223 - val_mean_squared_error: 743.0223\n",
      "Epoch 57/100\n",
      "796/796 [==============================] - 2s 3ms/step - loss: 1742.4604 - mean_squared_error: 1742.4604 - val_loss: 981.6780 - val_mean_squared_error: 981.6780\n",
      "Epoch 58/100\n",
      "796/796 [==============================] - 2s 3ms/step - loss: 1759.2809 - mean_squared_error: 1759.2809 - val_loss: 1302.3588 - val_mean_squared_error: 1302.3588\n",
      "Epoch 59/100\n",
      "796/796 [==============================] - 2s 3ms/step - loss: 1699.2692 - mean_squared_error: 1699.2692 - val_loss: 783.2822 - val_mean_squared_error: 783.2822\n",
      "Epoch 60/100\n",
      "796/796 [==============================] - 2s 3ms/step - loss: 1711.6387 - mean_squared_error: 1711.6387 - val_loss: 714.1384 - val_mean_squared_error: 714.1384\n",
      "Epoch 61/100\n",
      "796/796 [==============================] - 2s 3ms/step - loss: 1689.7375 - mean_squared_error: 1689.7375 - val_loss: 719.7160 - val_mean_squared_error: 719.7160\n",
      "Epoch 62/100\n",
      "796/796 [==============================] - 2s 3ms/step - loss: 1724.1508 - mean_squared_error: 1724.1508 - val_loss: 850.7145 - val_mean_squared_error: 850.7145\n",
      "Epoch 63/100\n",
      "796/796 [==============================] - 2s 3ms/step - loss: 1697.6223 - mean_squared_error: 1697.6223 - val_loss: 771.7086 - val_mean_squared_error: 771.7086\n",
      "Epoch 64/100\n",
      "796/796 [==============================] - 2s 3ms/step - loss: 1725.9832 - mean_squared_error: 1725.9832 - val_loss: 651.7239 - val_mean_squared_error: 651.7239\n",
      "Epoch 65/100\n",
      "796/796 [==============================] - 2s 3ms/step - loss: 1720.1316 - mean_squared_error: 1720.1316 - val_loss: 773.9894 - val_mean_squared_error: 773.9894\n",
      "Epoch 66/100\n",
      "796/796 [==============================] - 2s 3ms/step - loss: 1694.4818 - mean_squared_error: 1694.4818 - val_loss: 722.5047 - val_mean_squared_error: 722.5047\n",
      "Epoch 67/100\n",
      "796/796 [==============================] - 2s 3ms/step - loss: 1719.9789 - mean_squared_error: 1719.9789 - val_loss: 866.8669 - val_mean_squared_error: 866.8669\n",
      "Epoch 68/100\n",
      "796/796 [==============================] - 2s 3ms/step - loss: 1646.9993 - mean_squared_error: 1646.9993 - val_loss: 950.5613 - val_mean_squared_error: 950.5613\n",
      "Epoch 69/100\n",
      "796/796 [==============================] - 2s 3ms/step - loss: 1671.6129 - mean_squared_error: 1671.6129 - val_loss: 842.9540 - val_mean_squared_error: 842.9540\n",
      "Epoch 70/100\n",
      "796/796 [==============================] - 2s 3ms/step - loss: 1647.5806 - mean_squared_error: 1647.5806 - val_loss: 801.3631 - val_mean_squared_error: 801.3631\n",
      "Epoch 71/100\n",
      "796/796 [==============================] - 2s 3ms/step - loss: 1653.6351 - mean_squared_error: 1653.6351 - val_loss: 804.9636 - val_mean_squared_error: 804.9636\n",
      "Epoch 72/100\n",
      "796/796 [==============================] - 2s 3ms/step - loss: 1618.1523 - mean_squared_error: 1618.1523 - val_loss: 877.4695 - val_mean_squared_error: 877.4695\n",
      "Epoch 73/100\n",
      "796/796 [==============================] - 2s 3ms/step - loss: 1678.0432 - mean_squared_error: 1678.0432 - val_loss: 704.7936 - val_mean_squared_error: 704.7936\n",
      "Epoch 74/100\n",
      "796/796 [==============================] - 2s 3ms/step - loss: 1665.6604 - mean_squared_error: 1665.6604 - val_loss: 717.1731 - val_mean_squared_error: 717.1731\n",
      "Epoch 75/100\n",
      "796/796 [==============================] - 2s 3ms/step - loss: 1645.6221 - mean_squared_error: 1645.6221 - val_loss: 694.6094 - val_mean_squared_error: 694.6094\n",
      "Epoch 76/100\n",
      "796/796 [==============================] - 2s 3ms/step - loss: 1615.0239 - mean_squared_error: 1615.0239 - val_loss: 880.7923 - val_mean_squared_error: 880.7923\n",
      "Epoch 77/100\n",
      "796/796 [==============================] - 2s 3ms/step - loss: 1636.6305 - mean_squared_error: 1636.6305 - val_loss: 754.6333 - val_mean_squared_error: 754.6333\n",
      "Epoch 78/100\n",
      "796/796 [==============================] - 2s 3ms/step - loss: 1594.5588 - mean_squared_error: 1594.5588 - val_loss: 784.5325 - val_mean_squared_error: 784.5325\n",
      "Epoch 79/100\n",
      "796/796 [==============================] - 2s 3ms/step - loss: 1624.8719 - mean_squared_error: 1624.8719 - val_loss: 843.5117 - val_mean_squared_error: 843.5117\n",
      "Epoch 80/100\n",
      "796/796 [==============================] - 2s 3ms/step - loss: 1648.1331 - mean_squared_error: 1648.1331 - val_loss: 647.0759 - val_mean_squared_error: 647.0759\n",
      "Epoch 81/100\n",
      "796/796 [==============================] - 2s 3ms/step - loss: 1683.8169 - mean_squared_error: 1683.8169 - val_loss: 877.7475 - val_mean_squared_error: 877.7475\n",
      "Epoch 82/100\n",
      "796/796 [==============================] - 2s 3ms/step - loss: 1643.0437 - mean_squared_error: 1643.0437 - val_loss: 757.6935 - val_mean_squared_error: 757.6935\n",
      "Epoch 83/100\n",
      "796/796 [==============================] - 2s 3ms/step - loss: 1578.2942 - mean_squared_error: 1578.2942 - val_loss: 826.4608 - val_mean_squared_error: 826.4608\n",
      "Epoch 84/100\n",
      "796/796 [==============================] - 2s 3ms/step - loss: 1539.5494 - mean_squared_error: 1539.5494 - val_loss: 778.7111 - val_mean_squared_error: 778.7111\n",
      "Epoch 85/100\n",
      "796/796 [==============================] - 2s 3ms/step - loss: 1640.8369 - mean_squared_error: 1640.8369 - val_loss: 792.4120 - val_mean_squared_error: 792.4120\n",
      "Epoch 86/100\n",
      "796/796 [==============================] - 2s 3ms/step - loss: 1574.0725 - mean_squared_error: 1574.0725 - val_loss: 688.3527 - val_mean_squared_error: 688.3527\n",
      "Epoch 87/100\n",
      "796/796 [==============================] - 2s 3ms/step - loss: 1608.1132 - mean_squared_error: 1608.1132 - val_loss: 880.6962 - val_mean_squared_error: 880.6962\n",
      "Epoch 88/100\n",
      "796/796 [==============================] - 2s 3ms/step - loss: 1660.3718 - mean_squared_error: 1660.3718 - val_loss: 681.0732 - val_mean_squared_error: 681.0732\n",
      "Epoch 89/100\n",
      "796/796 [==============================] - 2s 3ms/step - loss: 1561.3973 - mean_squared_error: 1561.3973 - val_loss: 767.3174 - val_mean_squared_error: 767.3174\n",
      "Epoch 90/100\n",
      "796/796 [==============================] - 2s 3ms/step - loss: 1605.3217 - mean_squared_error: 1605.3217 - val_loss: 821.1530 - val_mean_squared_error: 821.1530\n",
      "Epoch 91/100\n",
      "796/796 [==============================] - 2s 3ms/step - loss: 1578.5360 - mean_squared_error: 1578.5360 - val_loss: 863.8392 - val_mean_squared_error: 863.8392\n",
      "Epoch 92/100\n",
      "796/796 [==============================] - 2s 3ms/step - loss: 1531.0138 - mean_squared_error: 1531.0138 - val_loss: 737.3518 - val_mean_squared_error: 737.3518\n",
      "Epoch 93/100\n",
      "796/796 [==============================] - 2s 3ms/step - loss: 1532.5293 - mean_squared_error: 1532.5293 - val_loss: 785.0072 - val_mean_squared_error: 785.0072\n",
      "Epoch 94/100\n",
      "796/796 [==============================] - 2s 3ms/step - loss: 1592.2603 - mean_squared_error: 1592.2603 - val_loss: 968.6381 - val_mean_squared_error: 968.6381\n",
      "Epoch 95/100\n"
     ]
    },
    {
     "name": "stdout",
     "output_type": "stream",
     "text": [
      "796/796 [==============================] - 2s 3ms/step - loss: 1574.9406 - mean_squared_error: 1574.9406 - val_loss: 973.1837 - val_mean_squared_error: 973.1837\n",
      "Epoch 96/100\n",
      "796/796 [==============================] - 2s 3ms/step - loss: 1564.7803 - mean_squared_error: 1564.7803 - val_loss: 747.2605 - val_mean_squared_error: 747.2605\n",
      "Epoch 97/100\n",
      "796/796 [==============================] - 2s 3ms/step - loss: 1563.9465 - mean_squared_error: 1563.9465 - val_loss: 828.4808 - val_mean_squared_error: 828.4808\n",
      "Epoch 98/100\n",
      "796/796 [==============================] - 2s 3ms/step - loss: 1562.5392 - mean_squared_error: 1562.5392 - val_loss: 770.6883 - val_mean_squared_error: 770.6883\n",
      "Epoch 99/100\n",
      "796/796 [==============================] - 2s 3ms/step - loss: 1553.6093 - mean_squared_error: 1553.6093 - val_loss: 860.8866 - val_mean_squared_error: 860.8866\n",
      "Epoch 100/100\n",
      "796/796 [==============================] - 2s 3ms/step - loss: 1565.3823 - mean_squared_error: 1565.3823 - val_loss: 684.5159 - val_mean_squared_error: 684.5159\n"
     ]
    },
    {
     "data": {
      "text/plain": [
       "<keras.src.callbacks.History at 0x1a5cc7fce90>"
      ]
     },
     "execution_count": 29,
     "metadata": {},
     "output_type": "execute_result"
    }
   ],
   "source": [
    "# Build the model with the optimal hyperparameters and train it on the data\n",
    "model = tuner.hypermodel.build(best_hps)\n",
    "model.fit(X_train, y_train, epochs = 100, validation_data = (X_test,y_test))"
   ]
  },
  {
   "cell_type": "markdown",
   "id": "efa6fc31",
   "metadata": {},
   "source": [
    "# The optimal model has the following:\n",
    "    The optimal number of units in the input layer =  50. \n",
    "    The optimal dropout rate in the input layer = 0.3\n",
    "    The optimal learning rate for the optimizer of Adam = 0.001.\n",
    "    The optimal number of units in the first input layer = 30. \n",
    "    The optimal dropout rate in the first input layer = 0.2\n",
    "    The optimal number of units in the second hidden layer = 7. \n",
    "    The optimal dropout rate in the second hidden layer = 0.3"
   ]
  },
  {
   "cell_type": "markdown",
   "id": "6dab8810",
   "metadata": {},
   "source": [
    "### The optimal model would look like this"
   ]
  },
  {
   "cell_type": "code",
   "execution_count": 30,
   "id": "dbd89072",
   "metadata": {},
   "outputs": [],
   "source": [
    "def model_create():\n",
    "  model = keras.Sequential()\n",
    "  #Set the optimal units of 50 found by tuner\n",
    "  model.add(layers.Dense(units = 50, activation = 'relu'))\n",
    "  #Set he optimal dropout rate of 0.3 found by tuner\n",
    "  model.add(Dropout(rate = 0.3))\n",
    "  #First hidden layer with 30 neurons\n",
    "  model.add(layers.Dense(30, activation='relu'))\n",
    "  #Add dropout rate of 50%\n",
    "  model.add(Dropout(0.2))\n",
    "  #Second hidden layer with 50 neurons\n",
    "  model.add(layers.Dense(7, activation='relu'))\n",
    "  #Add dropout rate of 30%\n",
    "  model.add(Dropout(0.3))\n",
    "  #Output layer has one and only one neuron\n",
    "  model.add(layers.Dense(1))\n",
    "  #Set the optimal learning rate of 0.001 found by tuner\n",
    "  model.compile(optimizer = keras.optimizers.Adam(learning_rate = 0.001),\n",
    "                loss = 'mse', \n",
    "                metrics = [tf.keras.metrics.MeanSquaredError()])\n",
    "  return model\n",
    "# Create the model\n",
    "model = model_create()"
   ]
  },
  {
   "cell_type": "markdown",
   "id": "38113a7b",
   "metadata": {},
   "source": [
    "### Let's save the model for future ues"
   ]
  },
  {
   "cell_type": "code",
   "execution_count": 31,
   "id": "334bea2e",
   "metadata": {},
   "outputs": [],
   "source": [
    "# def model_create():\n",
    "#   model = keras.Sequential()\n",
    "#   #Set the optimal units of 450 found by tuner\n",
    "#   model.add(layers.Dense(units = 450, activation = 'relu'))\n",
    "#   #Set he optimal dropout rate of 0.2 found by tuner\n",
    "#   model.add(Dropout(rate = 0.2))\n",
    "#   #First hidden layer with 100 neurons\n",
    "#   model.add(layers.Dense(100, activation='relu'))\n",
    "#   #Add dropout rate of 50%\n",
    "#   model.add(Dropout(0.5))\n",
    "#   #Second hidden layer with 50 neurons\n",
    "#   model.add(layers.Dense(50, activation='relu'))\n",
    "#   #Add dropout rate of 50%\n",
    "#   model.add(Dropout(0.5))\n",
    "#   #Output layer has one and only one neuron\n",
    "#   model.add(layers.Dense(1))\n",
    "#   #Set the optimal learning rate of 0.01 found by tuner\n",
    "#   model.compile(optimizer = keras.optimizers.Adam(learning_rate = 0.01),\n",
    "#                 loss = 'mse', \n",
    "#                 metrics = [tf.keras.metrics.MeanSquaredError()])\n",
    "#   return model\n",
    "# # Create the model\n",
    "# model = model_create()"
   ]
  },
  {
   "cell_type": "code",
   "execution_count": 32,
   "id": "f1c34a17",
   "metadata": {},
   "outputs": [],
   "source": [
    "# # Specify the directory to save the weights\n",
    "# import os\n",
    "# cp_path = \"training/cp.regr\"\n",
    "# cp_dir = os.path.dirname(cp_path)\n",
    "\n",
    "# # Create a callback to save the model's weights\n",
    "# # We only save the best weights\n",
    "# cp_callback = tf.keras.callbacks.ModelCheckpoint(filepath=cp_path, save_best_only=True,\n",
    "#                                                  save_weights_only=True,\n",
    "#                                                  verbose=1)\n",
    "\n",
    "# # Train the model and specif the defined callback using callbacks=[]\n",
    "# model.fit(X_train, y_train, epochs = 100, validation_data = (X_test,y_test),\n",
    "#          callbacks=[cp_callback])"
   ]
  },
  {
   "cell_type": "code",
   "execution_count": 33,
   "id": "a78b58b3",
   "metadata": {},
   "outputs": [],
   "source": [
    "# #First, create the model\n",
    "# model = model_create()\n",
    "# #Second, load the weights\n",
    "# model.load_weights(cp_path)\n",
    "# #Note here, we don't train the model at all\n",
    "# #Third evaluate the model on the new dataset\n",
    "# loss = model.evaluate(X_test, y_test, verbose=2)\n",
    "\n",
    "# print(\"Reloaded model from file with loss: {:5.2f}\".format(loss[1]))"
   ]
  },
  {
   "cell_type": "code",
   "execution_count": 34,
   "id": "5f092c99",
   "metadata": {},
   "outputs": [],
   "source": [
    "# from sklearn.metrics import mean_squared_error,mean_absolute_error\n",
    "# y_pred = model.predict(X_test)\n",
    "# 'The mean square error is {0:.4f}'.format(mean_squared_error(y_test,y_pred))"
   ]
  },
  {
   "cell_type": "code",
   "execution_count": 35,
   "id": "4566cf55",
   "metadata": {},
   "outputs": [],
   "source": [
    "# 'The root of mean square error is {0:.4f}'.format(mean_squared_error(y_test,y_pred,squared = False))"
   ]
  },
  {
   "cell_type": "code",
   "execution_count": 36,
   "id": "483443f0",
   "metadata": {},
   "outputs": [],
   "source": [
    "# 'The mean absolute error is {0:.4f}'.format(mean_absolute_error(y_test,y_pred)"
   ]
  },
  {
   "cell_type": "markdown",
   "id": "0728e67b",
   "metadata": {},
   "source": [
    "## 8.  Build a neuron network with two hidden layers of 20 and 10 neurons to forecast PM2.5 using all other features and PyTorch."
   ]
  },
  {
   "cell_type": "markdown",
   "id": "89251651",
   "metadata": {},
   "source": [
    "### Let's make sure the data is ready to use"
   ]
  },
  {
   "cell_type": "code",
   "execution_count": 37,
   "id": "fe9d19b2",
   "metadata": {},
   "outputs": [
    {
     "data": {
      "text/html": [
       "<div>\n",
       "<style scoped>\n",
       "    .dataframe tbody tr th:only-of-type {\n",
       "        vertical-align: middle;\n",
       "    }\n",
       "\n",
       "    .dataframe tbody tr th {\n",
       "        vertical-align: top;\n",
       "    }\n",
       "\n",
       "    .dataframe thead th {\n",
       "        text-align: right;\n",
       "    }\n",
       "</style>\n",
       "<table border=\"1\" class=\"dataframe\">\n",
       "  <thead>\n",
       "    <tr style=\"text-align: right;\">\n",
       "      <th></th>\n",
       "      <th>No</th>\n",
       "      <th>year</th>\n",
       "      <th>month</th>\n",
       "      <th>day</th>\n",
       "      <th>hour</th>\n",
       "      <th>PM2.5</th>\n",
       "      <th>PM10</th>\n",
       "      <th>SO2</th>\n",
       "      <th>NO2</th>\n",
       "      <th>CO</th>\n",
       "      <th>O3</th>\n",
       "      <th>TEMP</th>\n",
       "      <th>PRES</th>\n",
       "      <th>DEWP</th>\n",
       "      <th>RAIN</th>\n",
       "      <th>wd</th>\n",
       "      <th>WSPM</th>\n",
       "      <th>station</th>\n",
       "    </tr>\n",
       "  </thead>\n",
       "  <tbody>\n",
       "    <tr>\n",
       "      <th>0</th>\n",
       "      <td>1</td>\n",
       "      <td>2013</td>\n",
       "      <td>3</td>\n",
       "      <td>1</td>\n",
       "      <td>0</td>\n",
       "      <td>4.0</td>\n",
       "      <td>4.0</td>\n",
       "      <td>4.0</td>\n",
       "      <td>7.0</td>\n",
       "      <td>300.0</td>\n",
       "      <td>77.0</td>\n",
       "      <td>-0.7</td>\n",
       "      <td>1023.0</td>\n",
       "      <td>-18.8</td>\n",
       "      <td>0.0</td>\n",
       "      <td>NNW</td>\n",
       "      <td>4.4</td>\n",
       "      <td>Aotizhongxin</td>\n",
       "    </tr>\n",
       "    <tr>\n",
       "      <th>1</th>\n",
       "      <td>2</td>\n",
       "      <td>2013</td>\n",
       "      <td>3</td>\n",
       "      <td>1</td>\n",
       "      <td>1</td>\n",
       "      <td>8.0</td>\n",
       "      <td>8.0</td>\n",
       "      <td>4.0</td>\n",
       "      <td>7.0</td>\n",
       "      <td>300.0</td>\n",
       "      <td>77.0</td>\n",
       "      <td>-1.1</td>\n",
       "      <td>1023.2</td>\n",
       "      <td>-18.2</td>\n",
       "      <td>0.0</td>\n",
       "      <td>N</td>\n",
       "      <td>4.7</td>\n",
       "      <td>Aotizhongxin</td>\n",
       "    </tr>\n",
       "    <tr>\n",
       "      <th>2</th>\n",
       "      <td>3</td>\n",
       "      <td>2013</td>\n",
       "      <td>3</td>\n",
       "      <td>1</td>\n",
       "      <td>2</td>\n",
       "      <td>7.0</td>\n",
       "      <td>7.0</td>\n",
       "      <td>5.0</td>\n",
       "      <td>10.0</td>\n",
       "      <td>300.0</td>\n",
       "      <td>73.0</td>\n",
       "      <td>-1.1</td>\n",
       "      <td>1023.5</td>\n",
       "      <td>-18.2</td>\n",
       "      <td>0.0</td>\n",
       "      <td>NNW</td>\n",
       "      <td>5.6</td>\n",
       "      <td>Aotizhongxin</td>\n",
       "    </tr>\n",
       "    <tr>\n",
       "      <th>3</th>\n",
       "      <td>4</td>\n",
       "      <td>2013</td>\n",
       "      <td>3</td>\n",
       "      <td>1</td>\n",
       "      <td>3</td>\n",
       "      <td>6.0</td>\n",
       "      <td>6.0</td>\n",
       "      <td>11.0</td>\n",
       "      <td>11.0</td>\n",
       "      <td>300.0</td>\n",
       "      <td>72.0</td>\n",
       "      <td>-1.4</td>\n",
       "      <td>1024.5</td>\n",
       "      <td>-19.4</td>\n",
       "      <td>0.0</td>\n",
       "      <td>NW</td>\n",
       "      <td>3.1</td>\n",
       "      <td>Aotizhongxin</td>\n",
       "    </tr>\n",
       "    <tr>\n",
       "      <th>4</th>\n",
       "      <td>5</td>\n",
       "      <td>2013</td>\n",
       "      <td>3</td>\n",
       "      <td>1</td>\n",
       "      <td>4</td>\n",
       "      <td>3.0</td>\n",
       "      <td>3.0</td>\n",
       "      <td>12.0</td>\n",
       "      <td>12.0</td>\n",
       "      <td>300.0</td>\n",
       "      <td>72.0</td>\n",
       "      <td>-2.0</td>\n",
       "      <td>1025.2</td>\n",
       "      <td>-19.5</td>\n",
       "      <td>0.0</td>\n",
       "      <td>N</td>\n",
       "      <td>2.0</td>\n",
       "      <td>Aotizhongxin</td>\n",
       "    </tr>\n",
       "  </tbody>\n",
       "</table>\n",
       "</div>"
      ],
      "text/plain": [
       "   No  year  month  day  hour  PM2.5  PM10   SO2   NO2     CO    O3  TEMP  \\\n",
       "0   1  2013      3    1     0    4.0   4.0   4.0   7.0  300.0  77.0  -0.7   \n",
       "1   2  2013      3    1     1    8.0   8.0   4.0   7.0  300.0  77.0  -1.1   \n",
       "2   3  2013      3    1     2    7.0   7.0   5.0  10.0  300.0  73.0  -1.1   \n",
       "3   4  2013      3    1     3    6.0   6.0  11.0  11.0  300.0  72.0  -1.4   \n",
       "4   5  2013      3    1     4    3.0   3.0  12.0  12.0  300.0  72.0  -2.0   \n",
       "\n",
       "     PRES  DEWP  RAIN   wd  WSPM       station  \n",
       "0  1023.0 -18.8   0.0  NNW   4.4  Aotizhongxin  \n",
       "1  1023.2 -18.2   0.0    N   4.7  Aotizhongxin  \n",
       "2  1023.5 -18.2   0.0  NNW   5.6  Aotizhongxin  \n",
       "3  1024.5 -19.4   0.0   NW   3.1  Aotizhongxin  \n",
       "4  1025.2 -19.5   0.0    N   2.0  Aotizhongxin  "
      ]
     },
     "execution_count": 37,
     "metadata": {},
     "output_type": "execute_result"
    }
   ],
   "source": [
    "df1.head()"
   ]
  },
  {
   "cell_type": "code",
   "execution_count": 38,
   "id": "137bbb63",
   "metadata": {},
   "outputs": [
    {
     "data": {
      "text/plain": [
       "No           int64\n",
       "year         int64\n",
       "month        int64\n",
       "day          int64\n",
       "hour         int64\n",
       "PM2.5      float64\n",
       "PM10       float64\n",
       "SO2        float64\n",
       "NO2        float64\n",
       "CO         float64\n",
       "O3         float64\n",
       "TEMP       float64\n",
       "PRES       float64\n",
       "DEWP       float64\n",
       "RAIN       float64\n",
       "wd          object\n",
       "WSPM       float64\n",
       "station     object\n",
       "dtype: object"
      ]
     },
     "execution_count": 38,
     "metadata": {},
     "output_type": "execute_result"
    }
   ],
   "source": [
    "df1.dtypes"
   ]
  },
  {
   "cell_type": "code",
   "execution_count": 39,
   "id": "5228047d",
   "metadata": {},
   "outputs": [
    {
     "data": {
      "text/plain": [
       "No            0\n",
       "year          0\n",
       "month         0\n",
       "day           0\n",
       "hour          0\n",
       "PM2.5       925\n",
       "PM10        718\n",
       "SO2         935\n",
       "NO2        1023\n",
       "CO         1776\n",
       "O3         1719\n",
       "TEMP         20\n",
       "PRES         20\n",
       "DEWP         20\n",
       "RAIN         20\n",
       "wd           81\n",
       "WSPM         14\n",
       "station       0\n",
       "dtype: int64"
      ]
     },
     "execution_count": 39,
     "metadata": {},
     "output_type": "execute_result"
    }
   ],
   "source": [
    "df1.isnull().sum()"
   ]
  },
  {
   "cell_type": "code",
   "execution_count": 40,
   "id": "2e1dcc7c",
   "metadata": {},
   "outputs": [
    {
     "data": {
      "text/plain": [
       "((35064, 18), (31815, 18))"
      ]
     },
     "execution_count": 40,
     "metadata": {},
     "output_type": "execute_result"
    }
   ],
   "source": [
    "#Remove the rows with null values\n",
    "df = df1.dropna()\n",
    "\n",
    "# Checking shape before and after dropping NaN rows\n",
    "original_shape = df1.shape\n",
    "cleaned_shape = df.shape\n",
    "\n",
    "original_shape, cleaned_shape"
   ]
  },
  {
   "cell_type": "code",
   "execution_count": 41,
   "id": "e4799f26",
   "metadata": {},
   "outputs": [
    {
     "data": {
      "text/plain": [
       "wd         16\n",
       "station     1\n",
       "Name: unique, dtype: object"
      ]
     },
     "execution_count": 41,
     "metadata": {},
     "output_type": "execute_result"
    }
   ],
   "source": [
    "catFeatures = ['wd', 'station']\n",
    "df[catFeatures].describe(include='all').loc['unique', :]"
   ]
  },
  {
   "cell_type": "code",
   "execution_count": 42,
   "id": "744e225f",
   "metadata": {},
   "outputs": [
    {
     "data": {
      "text/html": [
       "<div>\n",
       "<style scoped>\n",
       "    .dataframe tbody tr th:only-of-type {\n",
       "        vertical-align: middle;\n",
       "    }\n",
       "\n",
       "    .dataframe tbody tr th {\n",
       "        vertical-align: top;\n",
       "    }\n",
       "\n",
       "    .dataframe thead th {\n",
       "        text-align: right;\n",
       "    }\n",
       "</style>\n",
       "<table border=\"1\" class=\"dataframe\">\n",
       "  <thead>\n",
       "    <tr style=\"text-align: right;\">\n",
       "      <th></th>\n",
       "      <th>wd_ENE</th>\n",
       "      <th>wd_ESE</th>\n",
       "      <th>wd_N</th>\n",
       "      <th>wd_NE</th>\n",
       "      <th>wd_NNE</th>\n",
       "      <th>wd_NNW</th>\n",
       "      <th>wd_NW</th>\n",
       "      <th>wd_S</th>\n",
       "      <th>wd_SE</th>\n",
       "      <th>wd_SSE</th>\n",
       "      <th>wd_SSW</th>\n",
       "      <th>wd_SW</th>\n",
       "      <th>wd_W</th>\n",
       "      <th>wd_WNW</th>\n",
       "      <th>wd_WSW</th>\n",
       "    </tr>\n",
       "  </thead>\n",
       "  <tbody>\n",
       "    <tr>\n",
       "      <th>0</th>\n",
       "      <td>False</td>\n",
       "      <td>False</td>\n",
       "      <td>False</td>\n",
       "      <td>False</td>\n",
       "      <td>False</td>\n",
       "      <td>True</td>\n",
       "      <td>False</td>\n",
       "      <td>False</td>\n",
       "      <td>False</td>\n",
       "      <td>False</td>\n",
       "      <td>False</td>\n",
       "      <td>False</td>\n",
       "      <td>False</td>\n",
       "      <td>False</td>\n",
       "      <td>False</td>\n",
       "    </tr>\n",
       "    <tr>\n",
       "      <th>1</th>\n",
       "      <td>False</td>\n",
       "      <td>False</td>\n",
       "      <td>True</td>\n",
       "      <td>False</td>\n",
       "      <td>False</td>\n",
       "      <td>False</td>\n",
       "      <td>False</td>\n",
       "      <td>False</td>\n",
       "      <td>False</td>\n",
       "      <td>False</td>\n",
       "      <td>False</td>\n",
       "      <td>False</td>\n",
       "      <td>False</td>\n",
       "      <td>False</td>\n",
       "      <td>False</td>\n",
       "    </tr>\n",
       "    <tr>\n",
       "      <th>2</th>\n",
       "      <td>False</td>\n",
       "      <td>False</td>\n",
       "      <td>False</td>\n",
       "      <td>False</td>\n",
       "      <td>False</td>\n",
       "      <td>True</td>\n",
       "      <td>False</td>\n",
       "      <td>False</td>\n",
       "      <td>False</td>\n",
       "      <td>False</td>\n",
       "      <td>False</td>\n",
       "      <td>False</td>\n",
       "      <td>False</td>\n",
       "      <td>False</td>\n",
       "      <td>False</td>\n",
       "    </tr>\n",
       "    <tr>\n",
       "      <th>3</th>\n",
       "      <td>False</td>\n",
       "      <td>False</td>\n",
       "      <td>False</td>\n",
       "      <td>False</td>\n",
       "      <td>False</td>\n",
       "      <td>False</td>\n",
       "      <td>True</td>\n",
       "      <td>False</td>\n",
       "      <td>False</td>\n",
       "      <td>False</td>\n",
       "      <td>False</td>\n",
       "      <td>False</td>\n",
       "      <td>False</td>\n",
       "      <td>False</td>\n",
       "      <td>False</td>\n",
       "    </tr>\n",
       "    <tr>\n",
       "      <th>4</th>\n",
       "      <td>False</td>\n",
       "      <td>False</td>\n",
       "      <td>True</td>\n",
       "      <td>False</td>\n",
       "      <td>False</td>\n",
       "      <td>False</td>\n",
       "      <td>False</td>\n",
       "      <td>False</td>\n",
       "      <td>False</td>\n",
       "      <td>False</td>\n",
       "      <td>False</td>\n",
       "      <td>False</td>\n",
       "      <td>False</td>\n",
       "      <td>False</td>\n",
       "      <td>False</td>\n",
       "    </tr>\n",
       "  </tbody>\n",
       "</table>\n",
       "</div>"
      ],
      "text/plain": [
       "   wd_ENE  wd_ESE   wd_N  wd_NE  wd_NNE  wd_NNW  wd_NW   wd_S  wd_SE  wd_SSE  \\\n",
       "0   False   False  False  False   False    True  False  False  False   False   \n",
       "1   False   False   True  False   False   False  False  False  False   False   \n",
       "2   False   False  False  False   False    True  False  False  False   False   \n",
       "3   False   False  False  False   False   False   True  False  False   False   \n",
       "4   False   False   True  False   False   False  False  False  False   False   \n",
       "\n",
       "   wd_SSW  wd_SW   wd_W  wd_WNW  wd_WSW  \n",
       "0   False  False  False   False   False  \n",
       "1   False  False  False   False   False  \n",
       "2   False  False  False   False   False  \n",
       "3   False  False  False   False   False  \n",
       "4   False  False  False   False   False  "
      ]
     },
     "execution_count": 42,
     "metadata": {},
     "output_type": "execute_result"
    }
   ],
   "source": [
    "catFeatures = ['wd', 'station']\n",
    "factors = pd.get_dummies(df[catFeatures],drop_first=True)\n",
    "factors.head()"
   ]
  },
  {
   "cell_type": "code",
   "execution_count": 43,
   "id": "10875bf9",
   "metadata": {},
   "outputs": [
    {
     "data": {
      "text/html": [
       "<div>\n",
       "<style scoped>\n",
       "    .dataframe tbody tr th:only-of-type {\n",
       "        vertical-align: middle;\n",
       "    }\n",
       "\n",
       "    .dataframe tbody tr th {\n",
       "        vertical-align: top;\n",
       "    }\n",
       "\n",
       "    .dataframe thead th {\n",
       "        text-align: right;\n",
       "    }\n",
       "</style>\n",
       "<table border=\"1\" class=\"dataframe\">\n",
       "  <thead>\n",
       "    <tr style=\"text-align: right;\">\n",
       "      <th></th>\n",
       "      <th>No</th>\n",
       "      <th>year</th>\n",
       "      <th>month</th>\n",
       "      <th>day</th>\n",
       "      <th>hour</th>\n",
       "      <th>PM2.5</th>\n",
       "      <th>PM10</th>\n",
       "      <th>SO2</th>\n",
       "      <th>NO2</th>\n",
       "      <th>CO</th>\n",
       "      <th>...</th>\n",
       "      <th>wd_NNW</th>\n",
       "      <th>wd_NW</th>\n",
       "      <th>wd_S</th>\n",
       "      <th>wd_SE</th>\n",
       "      <th>wd_SSE</th>\n",
       "      <th>wd_SSW</th>\n",
       "      <th>wd_SW</th>\n",
       "      <th>wd_W</th>\n",
       "      <th>wd_WNW</th>\n",
       "      <th>wd_WSW</th>\n",
       "    </tr>\n",
       "  </thead>\n",
       "  <tbody>\n",
       "    <tr>\n",
       "      <th>0</th>\n",
       "      <td>1</td>\n",
       "      <td>2013</td>\n",
       "      <td>3</td>\n",
       "      <td>1</td>\n",
       "      <td>0</td>\n",
       "      <td>4.0</td>\n",
       "      <td>4.0</td>\n",
       "      <td>4.0</td>\n",
       "      <td>7.0</td>\n",
       "      <td>300.0</td>\n",
       "      <td>...</td>\n",
       "      <td>True</td>\n",
       "      <td>False</td>\n",
       "      <td>False</td>\n",
       "      <td>False</td>\n",
       "      <td>False</td>\n",
       "      <td>False</td>\n",
       "      <td>False</td>\n",
       "      <td>False</td>\n",
       "      <td>False</td>\n",
       "      <td>False</td>\n",
       "    </tr>\n",
       "    <tr>\n",
       "      <th>1</th>\n",
       "      <td>2</td>\n",
       "      <td>2013</td>\n",
       "      <td>3</td>\n",
       "      <td>1</td>\n",
       "      <td>1</td>\n",
       "      <td>8.0</td>\n",
       "      <td>8.0</td>\n",
       "      <td>4.0</td>\n",
       "      <td>7.0</td>\n",
       "      <td>300.0</td>\n",
       "      <td>...</td>\n",
       "      <td>False</td>\n",
       "      <td>False</td>\n",
       "      <td>False</td>\n",
       "      <td>False</td>\n",
       "      <td>False</td>\n",
       "      <td>False</td>\n",
       "      <td>False</td>\n",
       "      <td>False</td>\n",
       "      <td>False</td>\n",
       "      <td>False</td>\n",
       "    </tr>\n",
       "    <tr>\n",
       "      <th>2</th>\n",
       "      <td>3</td>\n",
       "      <td>2013</td>\n",
       "      <td>3</td>\n",
       "      <td>1</td>\n",
       "      <td>2</td>\n",
       "      <td>7.0</td>\n",
       "      <td>7.0</td>\n",
       "      <td>5.0</td>\n",
       "      <td>10.0</td>\n",
       "      <td>300.0</td>\n",
       "      <td>...</td>\n",
       "      <td>True</td>\n",
       "      <td>False</td>\n",
       "      <td>False</td>\n",
       "      <td>False</td>\n",
       "      <td>False</td>\n",
       "      <td>False</td>\n",
       "      <td>False</td>\n",
       "      <td>False</td>\n",
       "      <td>False</td>\n",
       "      <td>False</td>\n",
       "    </tr>\n",
       "    <tr>\n",
       "      <th>3</th>\n",
       "      <td>4</td>\n",
       "      <td>2013</td>\n",
       "      <td>3</td>\n",
       "      <td>1</td>\n",
       "      <td>3</td>\n",
       "      <td>6.0</td>\n",
       "      <td>6.0</td>\n",
       "      <td>11.0</td>\n",
       "      <td>11.0</td>\n",
       "      <td>300.0</td>\n",
       "      <td>...</td>\n",
       "      <td>False</td>\n",
       "      <td>True</td>\n",
       "      <td>False</td>\n",
       "      <td>False</td>\n",
       "      <td>False</td>\n",
       "      <td>False</td>\n",
       "      <td>False</td>\n",
       "      <td>False</td>\n",
       "      <td>False</td>\n",
       "      <td>False</td>\n",
       "    </tr>\n",
       "    <tr>\n",
       "      <th>4</th>\n",
       "      <td>5</td>\n",
       "      <td>2013</td>\n",
       "      <td>3</td>\n",
       "      <td>1</td>\n",
       "      <td>4</td>\n",
       "      <td>3.0</td>\n",
       "      <td>3.0</td>\n",
       "      <td>12.0</td>\n",
       "      <td>12.0</td>\n",
       "      <td>300.0</td>\n",
       "      <td>...</td>\n",
       "      <td>False</td>\n",
       "      <td>False</td>\n",
       "      <td>False</td>\n",
       "      <td>False</td>\n",
       "      <td>False</td>\n",
       "      <td>False</td>\n",
       "      <td>False</td>\n",
       "      <td>False</td>\n",
       "      <td>False</td>\n",
       "      <td>False</td>\n",
       "    </tr>\n",
       "  </tbody>\n",
       "</table>\n",
       "<p>5 rows × 31 columns</p>\n",
       "</div>"
      ],
      "text/plain": [
       "   No  year  month  day  hour  PM2.5  PM10   SO2   NO2     CO  ...  wd_NNW  \\\n",
       "0   1  2013      3    1     0    4.0   4.0   4.0   7.0  300.0  ...    True   \n",
       "1   2  2013      3    1     1    8.0   8.0   4.0   7.0  300.0  ...   False   \n",
       "2   3  2013      3    1     2    7.0   7.0   5.0  10.0  300.0  ...    True   \n",
       "3   4  2013      3    1     3    6.0   6.0  11.0  11.0  300.0  ...   False   \n",
       "4   5  2013      3    1     4    3.0   3.0  12.0  12.0  300.0  ...   False   \n",
       "\n",
       "   wd_NW   wd_S  wd_SE  wd_SSE  wd_SSW  wd_SW   wd_W  wd_WNW  wd_WSW  \n",
       "0  False  False  False   False   False  False  False   False   False  \n",
       "1  False  False  False   False   False  False  False   False   False  \n",
       "2  False  False  False   False   False  False  False   False   False  \n",
       "3   True  False  False   False   False  False  False   False   False  \n",
       "4  False  False  False   False   False  False  False   False   False  \n",
       "\n",
       "[5 rows x 31 columns]"
      ]
     },
     "execution_count": 43,
     "metadata": {},
     "output_type": "execute_result"
    }
   ],
   "source": [
    "df = df.drop(catFeatures, axis=1)\n",
    "df = pd.concat([df, factors], axis=1)\n",
    "df.head()"
   ]
  },
  {
   "cell_type": "code",
   "execution_count": 44,
   "id": "b6a81095",
   "metadata": {},
   "outputs": [],
   "source": [
    "X = df.drop('PM2.5', axis=1)\n",
    "y = df['PM2.5']\n",
    "\n",
    "#Split the data into training and test data\n",
    "from sklearn.model_selection import train_test_split\n",
    "X_train, X_test, y_train, y_test = train_test_split(X, y, test_size=0.2, random_state=2023)"
   ]
  },
  {
   "cell_type": "code",
   "execution_count": 45,
   "id": "d6862189",
   "metadata": {},
   "outputs": [],
   "source": [
    "from sklearn.preprocessing import MinMaxScaler\n",
    "scaler = MinMaxScaler()\n",
    "\n",
    "X_train = scaler.fit_transform(X_train)\n",
    "X_test = scaler.transform(X_test)"
   ]
  },
  {
   "cell_type": "code",
   "execution_count": 46,
   "id": "26945494",
   "metadata": {},
   "outputs": [
    {
     "data": {
      "text/plain": [
       "array([[0.62761315, 0.5       , 0.72727273, 0.06666667, 0.95652174,\n",
       "        0.05285412, 0.0062549 , 0.10416667, 0.05050505, 0.22419343,\n",
       "        0.74255692, 0.42245989, 0.85062893, 0.        , 0.17857143,\n",
       "        0.        , 0.        , 0.        , 0.        , 0.        ,\n",
       "        0.        , 0.        , 0.        , 0.        , 1.        ,\n",
       "        0.        , 0.        , 0.        , 0.        , 0.        ],\n",
       "       [0.38385192, 0.25      , 0.72727273, 0.36666667, 0.82608696,\n",
       "        0.09408034, 0.0193881 , 0.27430556, 0.05050505, 0.05625969,\n",
       "        0.6619965 , 0.41176471, 0.83805031, 0.        , 0.08928571,\n",
       "        0.        , 0.        , 0.        , 0.        , 0.        ,\n",
       "        0.        , 0.        , 0.        , 0.        , 0.        ,\n",
       "        0.        , 0.        , 1.        , 0.        , 0.        ],\n",
       "       [0.14730628, 0.        , 0.81818182, 0.03333333, 0.2173913 ,\n",
       "        0.00422833, 0.02376583, 0.07986111, 0.01010101, 0.07991233,\n",
       "        0.55341506, 0.56327986, 0.57861635, 0.        , 0.23214286,\n",
       "        0.        , 0.        , 1.        , 0.        , 0.        ,\n",
       "        0.        , 0.        , 0.        , 0.        , 0.        ,\n",
       "        0.        , 0.        , 0.        , 0.        , 0.        ],\n",
       "       [0.50178251, 0.5       , 0.18181818, 0.1       , 0.08695652,\n",
       "        0.0422833 , 0.02376583, 0.07638889, 0.04040404, 0.12012182,\n",
       "        0.27670753, 0.68627451, 0.14308176, 0.        , 0.17857143,\n",
       "        0.        , 0.        , 0.        , 0.        , 0.        ,\n",
       "        1.        , 0.        , 0.        , 0.        , 0.        ,\n",
       "        0.        , 0.        , 0.        , 0.        , 0.        ],\n",
       "       [0.24301971, 0.25      , 0.09090909, 0.6       , 0.04347826,\n",
       "        0.15856237, 0.30831839, 0.29166667, 0.22222222, 0.00185862,\n",
       "        0.26094571, 0.65240642, 0.41194969, 0.        , 0.09821429,\n",
       "        0.        , 0.        , 0.        , 1.        , 0.        ,\n",
       "        0.        , 0.        , 0.        , 0.        , 0.        ,\n",
       "        0.        , 0.        , 0.        , 0.        , 0.        ]])"
      ]
     },
     "execution_count": 46,
     "metadata": {},
     "output_type": "execute_result"
    }
   ],
   "source": [
    "# Verify normalization\n",
    "X_test[:5]"
   ]
  },
  {
   "cell_type": "markdown",
   "id": "7d5f7391",
   "metadata": {},
   "source": [
    "### Let's create the model"
   ]
  },
  {
   "cell_type": "code",
   "execution_count": 47,
   "id": "89b7b3b2",
   "metadata": {},
   "outputs": [],
   "source": [
    "import torch\n",
    "import torch.nn as nn\n",
    "import torch.nn.functional as F\n",
    "import numpy as np"
   ]
  },
  {
   "cell_type": "code",
   "execution_count": 48,
   "id": "12860eb2",
   "metadata": {},
   "outputs": [
    {
     "data": {
      "text/plain": [
       "torch.Size([25452, 30])"
      ]
     },
     "execution_count": 48,
     "metadata": {},
     "output_type": "execute_result"
    }
   ],
   "source": [
    "X_train = torch.tensor(X_train.astype(np.float32))\n",
    "y_train = torch.tensor(y_train.values.astype(np.float32).reshape(-1,1))\n",
    "y_train.shape\n",
    "X_train.shape"
   ]
  },
  {
   "cell_type": "code",
   "execution_count": 49,
   "id": "f4607263",
   "metadata": {},
   "outputs": [
    {
     "name": "stdout",
     "output_type": "stream",
     "text": [
      "30\n",
      "1\n"
     ]
    }
   ],
   "source": [
    "input_size = X_train.shape[1]\n",
    "output_size = y_train.shape[1]\n",
    "#specify the number of neuron for the first layer\n",
    "hidden_size = [20, 10]\n",
    "print(input_size)\n",
    "print(output_size)\n",
    "\n",
    "#convert numpy to tensor from_numpy\n",
    "X_test = torch.from_numpy(X_test.astype(np.float32))"
   ]
  },
  {
   "cell_type": "markdown",
   "id": "318c64c5",
   "metadata": {},
   "source": [
    "### Build the neural network"
   ]
  },
  {
   "cell_type": "code",
   "execution_count": 50,
   "id": "2a9e5714",
   "metadata": {},
   "outputs": [],
   "source": [
    "# define the child module class derivated from parent class of torch.nn.Module\n",
    "class LinearRegressionModel(torch.nn.Module):\n",
    "    #define the constructor\n",
    "    def __init__(self, input_size,  hidden_size, output_size):\n",
    "        super(LinearRegressionModel, self).__init__()\n",
    "        self.hidden1 = torch.nn.Linear(input_size, hidden_size[0]) \n",
    "        self.hidden2 = torch.nn.Linear(hidden_size[0], hidden_size[1]) \n",
    "        self.predict = torch.nn.Linear(hidden_size[1], output_size)  \n",
    "    #overife the forward function in this child class\n",
    "    def forward(self, x):\n",
    "        x = F.relu(self.hidden1(x))  \n",
    "        x = F.relu(self.hidden2(x))\n",
    "        y_pred = self.predict(x)            \n",
    "        return y_pred"
   ]
  },
  {
   "cell_type": "code",
   "execution_count": 51,
   "id": "5e9c9797",
   "metadata": {},
   "outputs": [],
   "source": [
    "model = LinearRegressionModel(input_size, hidden_size,  output_size)"
   ]
  },
  {
   "cell_type": "code",
   "execution_count": 52,
   "id": "498ef901",
   "metadata": {},
   "outputs": [],
   "source": [
    "l = nn.MSELoss()"
   ]
  },
  {
   "cell_type": "code",
   "execution_count": 53,
   "id": "e72f84e1",
   "metadata": {},
   "outputs": [],
   "source": [
    "optimizer = torch.optim.Adam(model.parameters(), lr=0.05)"
   ]
  },
  {
   "cell_type": "code",
   "execution_count": 54,
   "id": "d70fbaef",
   "metadata": {},
   "outputs": [
    {
     "name": "stdout",
     "output_type": "stream",
     "text": [
      "epoch 0, loss = 13091.7031 and val_loss = 13839.4433\n",
      "CPU times: total: 750 ms\n",
      "Wall time: 264 ms\n"
     ]
    }
   ],
   "source": [
    "%%time\n",
    "from sklearn.metrics import mean_squared_error\n",
    "#fix the random seeds for troch and np\n",
    "torch.manual_seed(1)\n",
    "np.random.seed(0)\n",
    "\n",
    "\n",
    "#set the number of epochs\n",
    "\n",
    "num_epochs = 10\n",
    "\n",
    "train_loss = [None]*num_epochs\n",
    "valadition_loss = [None]*num_epochs\n",
    "for epoch in range(num_epochs):\n",
    "    #forward pass\n",
    "    y_pred = model(X_train.requires_grad_())\n",
    "\n",
    "    #calculate the loss\n",
    "    loss= l(y_pred, y_train)\n",
    "    #Set the gradients to be zero\n",
    "    optimizer.zero_grad()\n",
    "    \n",
    "    #backward pass: calculate gradients\n",
    "    loss.backward()\n",
    "\n",
    "    #update the weights\n",
    "    optimizer.step()\n",
    "        \n",
    "    #Stop tracking the gradient by calling detach since we don't use it anymore\n",
    "    y_pred = model(X_test).detach().numpy()\n",
    "    val_loss = mean_squared_error(y_test,y_pred)\n",
    "    train_loss[epoch] = loss.item()\n",
    "    valadition_loss[epoch] = val_loss\n",
    "    if epoch % 10 == 0:\n",
    "        print('epoch {0}, loss = {1:.4f} and val_loss = {2:.4f}'.format(epoch, loss.item(), val_loss))\n",
    "    "
   ]
  },
  {
   "cell_type": "code",
   "execution_count": 55,
   "id": "dd694a7a",
   "metadata": {},
   "outputs": [
    {
     "data": {
      "text/html": [
       "<div>\n",
       "<style scoped>\n",
       "    .dataframe tbody tr th:only-of-type {\n",
       "        vertical-align: middle;\n",
       "    }\n",
       "\n",
       "    .dataframe tbody tr th {\n",
       "        vertical-align: top;\n",
       "    }\n",
       "\n",
       "    .dataframe thead th {\n",
       "        text-align: right;\n",
       "    }\n",
       "</style>\n",
       "<table border=\"1\" class=\"dataframe\">\n",
       "  <thead>\n",
       "    <tr style=\"text-align: right;\">\n",
       "      <th></th>\n",
       "      <th>train_loss</th>\n",
       "      <th>val_loss</th>\n",
       "      <th>epoch</th>\n",
       "    </tr>\n",
       "  </thead>\n",
       "  <tbody>\n",
       "    <tr>\n",
       "      <th>5</th>\n",
       "      <td>12592.032227</td>\n",
       "      <td>13092.403185</td>\n",
       "      <td>5</td>\n",
       "    </tr>\n",
       "    <tr>\n",
       "      <th>6</th>\n",
       "      <td>12312.192383</td>\n",
       "      <td>12703.399364</td>\n",
       "      <td>6</td>\n",
       "    </tr>\n",
       "    <tr>\n",
       "      <th>7</th>\n",
       "      <td>11931.091797</td>\n",
       "      <td>12197.183964</td>\n",
       "      <td>7</td>\n",
       "    </tr>\n",
       "    <tr>\n",
       "      <th>8</th>\n",
       "      <td>11435.590820</td>\n",
       "      <td>11564.778680</td>\n",
       "      <td>8</td>\n",
       "    </tr>\n",
       "    <tr>\n",
       "      <th>9</th>\n",
       "      <td>10817.328125</td>\n",
       "      <td>10806.053075</td>\n",
       "      <td>9</td>\n",
       "    </tr>\n",
       "  </tbody>\n",
       "</table>\n",
       "</div>"
      ],
      "text/plain": [
       "     train_loss      val_loss  epoch\n",
       "5  12592.032227  13092.403185      5\n",
       "6  12312.192383  12703.399364      6\n",
       "7  11931.091797  12197.183964      7\n",
       "8  11435.590820  11564.778680      8\n",
       "9  10817.328125  10806.053075      9"
      ]
     },
     "execution_count": 55,
     "metadata": {},
     "output_type": "execute_result"
    }
   ],
   "source": [
    "#Convert the train and validation loss to a df\n",
    "trainhist = pd.DataFrame({'train_loss': train_loss, 'val_loss': valadition_loss, 'epoch':np.arange(num_epochs)})\n",
    "#Look at the latest performance\n",
    "trainhist.tail()"
   ]
  },
  {
   "cell_type": "code",
   "execution_count": 56,
   "id": "78454e28",
   "metadata": {},
   "outputs": [
    {
     "data": {
      "text/plain": [
       "<matplotlib.legend.Legend at 0x1a5d8391a50>"
      ]
     },
     "execution_count": 56,
     "metadata": {},
     "output_type": "execute_result"
    },
    {
     "data": {
      "image/png": "[encoded data removed]",
      "text/plain": [
       "<Figure size 640x480 with 1 Axes>"
      ]
     },
     "metadata": {},
     "output_type": "display_data"
    }
   ],
   "source": [
    "import matplotlib.pyplot as plt\n",
    "#Plot train loss\n",
    "sns.lineplot(x='epoch', y ='train_loss', data =trainhist)\n",
    "#Plot validation loss\n",
    "sns.lineplot(x='epoch', y ='val_loss', data =trainhist)\n",
    "#Add legends\n",
    "plt.legend(labels=['train_loss', '', 'val_loss'])"
   ]
  },
  {
   "cell_type": "markdown",
   "id": "296e8aeb",
   "metadata": {},
   "source": [
    "### Does it overfit or underfit the data? Please justify your answer."
   ]
  },
  {
   "cell_type": "markdown",
   "id": "feefb3f0",
   "metadata": {},
   "source": [
    "The model actually neither overfits or underifts the data. Both training and validation loss basically touch each other all the way out to the ten thousandth epoch. Training past around the 100th epoch isn't doing much for the model. "
   ]
  }
 ],
 "metadata": {
  "kernelspec": {
   "display_name": "Python 3 (ipykernel)",
   "language": "python",
   "name": "python3"
  },
  "language_info": {
   "codemirror_mode": {
    "name": "ipython",
    "version": 3
   },
   "file_extension": ".py",
   "mimetype": "text/x-python",
   "name": "python",
   "nbconvert_exporter": "python",
   "pygments_lexer": "ipython3",
   "version": "3.11.5"
  }
 },
 "nbformat": 4,
 "nbformat_minor": 5
}
