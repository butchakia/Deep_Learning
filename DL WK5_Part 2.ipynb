{
 "cells": [
  {
   "cell_type": "markdown",
   "metadata": {},
   "source": [
    "# DSCI 619 Deep Learning\n",
    "# Week 5: Build Recurrent Neural Network (RNN) Models\n",
    "\n",
    "http://d2l.ai/chapter_recurrent-neural-networks/index.html"
   ]
  },
  {
   "cell_type": "markdown",
   "metadata": {},
   "source": [
    "We have covered how to perform regression and classification using neural networks on the tabular data, such as the Excel workbook and images. There is a key assumption in these data. They are independent. For example, the 10th observation is independent of the 100th observation. We use feedforward neural networks to model them.\n",
    "\n",
    "There are problems that the independence assumption is not valid anymore. For example, we want to forecast the missing word for the following sentence: \n",
    "\n",
    "It is raining now. Please bring your $\\underline{\\ \\ \\ \\ \\ \\ \\  }$.\n",
    "\n",
    "By common sense, the missing word probably is \"umbrella\" since it depends on the context (Previous words). Therefore, we need another type of neural network that has a backward connection between hidden layers. Then, they can have some memory in them to model the dependence in the data. These neural networks are called Recurrent Neural Networks (RNN). We can use RNN models for text data and speech data. \n",
    "\n",
    "Typically RNN model has the following network architecture: \n",
    "\n",
    "<img src =\"RNN1.jpg\">\n",
    "\n",
    "Source: https://en.wikipedia.org/wiki/Recurrent_neural_network\n",
    "\n",
    "Note here:\n",
    "\n",
    "+ $x_t$ denotes the input vector, which depends on time t.\n",
    "+ $h_t$ is the hidden layer vector, which can memorize some historical data.\n",
    "+ $o_t$ is the output vector."
   ]
  },
  {
   "cell_type": "markdown",
   "metadata": {},
   "source": [
    "We use the default Relu (https://pytorch.org/docs/stable/generated/torch.nn.ReLU.html#torch.nn.ReLU) activation function a lot before. When we perform classification, we use sigmoid (https://pytorch.org/docs/stable/generated/torch.nn.Sigmoid.html) for binary classification and softmax(https://pytorch.org/docs/stable/generated/torch.nn.Softmax.html#torch.nn.Softmax) for multiple \n",
    "classification.\n",
    "\n",
    "In RNN, we use the following three functions: Relu, sigmoid and Hyperbolic tangent function(https://pytorch.org/docs/stable/generated/torch.nn.Tanh.html#torch.nn.Tanh).\n",
    "\n",
    "The RNN is trained by backpropagation through time. Then the RNN is unfolded into a forward feed net with multiple layers. When the gradient is passed back through many time steps, it tends to grow or vanish because the gradients are multiplied many times. It is called the exploding and vanishing gradients problem. ( https://en.wikipedia.org/wiki/Vanishing_gradient_problem).   Hochreiter & Schmidhuber proposed the Long Short-Term Memory (LSTM) to address it in 2009. \n",
    "\n"
   ]
  },
  {
   "cell_type": "markdown",
   "metadata": {},
   "source": [
    "## Long Short-Term Memory (LSTM)\n",
    "\n",
    "\n",
    "A multi-layer long short-term memory (LSTM) RNN can be applied to an input sequence. LSTM has three gates that are input, output, and forget gates.\n",
    "\n",
    "For each element in the input sequence, each layer computes the following function:\n",
    "\n",
    "$$i_t =\\sigma( W_{ii}x_t+b_{ii}+W_{hi}h_{t-1}+b_{hi})$$\n",
    "$$f_t =\\sigma (W_{if}x_t+b_{if}+W_{hf}h){t-1}+b_{hf})$$\n",
    "$$g_t =\\tanh(W_{ig}x_t+b_{ig}+W_{hg}h_{t-1}+b_{hg})$$\n",
    "$$o_t =\\sigma (W_{io}x_t+b_{io}+W_{ho}h){t-1}+b_{ho})$$\n",
    "$$c_t=f_t \\circ c_{t-1}+i_t \\circ g_t$$\n",
    "$$h_t=o_t\\circ\\tanh(c_t)$$\n",
    "\n",
    "Where:\n",
    "\n",
    "+ $h_t$ is the hidden state at time $t$\n",
    "+ $c_t$ is the cell state at time $t$\n",
    "+ $i_t$ is the input gate\n",
    "+ $f_t$ is the forget gate\n",
    "+ $g_t$ is the cell \n",
    "+ $o_t$ is the ouput gate\n",
    "+ $\\circ$ is the Hadamard product\n",
    "+$\\sigma$ is the sigmoid funciton.\n",
    "\n",
    "<center> source: https://pytorch.org/docs/stable/generated/torch.nn.LSTM.html </center>\n",
    "\n",
    "By the equations above, **LSTM will generate three values (output, hidden, and cell)**. LSTMs are used in modeling tasks related to sequences. They can perform predictions based on its history. We often use LSTMs in NLP, such as machine translation and sentiment classifications. "
   ]
  },
  {
   "cell_type": "markdown",
   "metadata": {},
   "source": [
    "## Gated Recurrent Unit (GRU)\n",
    "\n",
    "LSTM has many parameters to estimate. Kyunghyun Cho et al. introduced the gated recurrent unit(GRU) (https://en.wikipedia.org/wiki/Gated_recurrent_unit) in 2014. GRUs have few parameters than LSTMs.\n",
    "\n",
    "For each element in the input sequence, each layer computes the following function:\n",
    "\n",
    "$$r_t=\\sigma(W_{ir}x_t+b_{ir}+W_{hr}h_{(t-1)}+b_{hr})$$\n",
    "$$z_t=\\sigma(W_{iz}x_t+b_{iz}+W_{hz}h_{(t-1)}+b_{hz})$$\n",
    "$$n_t=\\tanh(W_{in}x_t+b_{in}+r_t*(W_{hn}h_{(t-1)}+b_{hn}))$$\n",
    "$$h_t=(1-z_t)*n_t+z_t*h_{(t-1)}$$\n",
    "\n",
    "where\n",
    "+ $h_t$ is the hidden state at time $t$\n",
    "+ $x_t$ is the input at time $t$\n",
    "+ $h_{(t-1)}$ is the hidden state of the layer at time $t-1$\n",
    "+ $r_t$ is the reset gate\n",
    "+ $z_t$ is the update gate\n",
    "+ $n_t$ is the new gate\n",
    "\n",
    "<center> source: https://pytorch.org/docs/stable/generated/torch.nn.GRU.html?highlight=gru#torch.nn.GRU </center>\n",
    "\n",
    "\n",
    "Chung, Gulcehre, Cho and Bengio published a paper, \"Empirical Evaluation of Gated Recurrent Neural Networks on Sequence Modeling\".\n",
    "\n",
    "In this paper we compare different types of recurrent units in recurrent neural networks (RNNs). Especially, we focus on more sophisticated units that implement a gating mechanism, such as a long short-term memory (LSTM) unit and a recently proposed gated recurrent unit (GRU). We evaluate these recurrent units on the tasks of polyphonic music modeling and speech signal modeling. Our experiments revealed that these advanced recurrent units are indeed better than more traditional recurrent units such as tanh units. Also, we found GRU to be comparable to LSTM.\n",
    "\n",
    "<center> source https://arxiv.org/pdf/1412.3555.pdf  </center>"
   ]
  },
  {
   "cell_type": "markdown",
   "metadata": {},
   "source": [
    "# Project of Text Classification Using PyTorch\n",
    "\n",
    "\n",
    "Let’s look at a real-world project of text classification using TensorFlow. We will cover how to perform text classification using RNN. (see https://pytorch.org/tutorials/beginner/text_sentiment_ngrams_tutorial.html). We work on the large movie review dataset ( see http://ai.stanford.edu/~amaas/data/sentiment/). It is a binary sentiment classification with 50,000 movie reviews. This dataset has the following two columns:\n",
    "\n",
    "+ **review**: Text\n",
    "+ **sentiment**: positive or negative \n",
    "\n",
    "Our goal is to forecast the **sentiment** based on the **review**. "
   ]
  },
  {
   "cell_type": "markdown",
   "metadata": {},
   "source": [
    "## Load and Clean the Data\n",
    "\n",
    "First, we load all the libraries for this sentiment analysis. "
   ]
  },
  {
   "cell_type": "code",
   "execution_count": 1,
   "metadata": {},
   "outputs": [],
   "source": [
    "import pandas as pd\n",
    "import numpy as np\n",
    "from collections import Counter\n",
    "import matplotlib.pyplot as plt\n",
    "\n",
    "import re\n",
    "import spacy\n",
    "\n",
    "import torch\n",
    "import torch.nn as nn\n",
    "from torch.utils.data import Dataset, DataLoader\n",
    "import torch.nn.functional as F\n",
    "from torch.nn.utils.rnn import pack_padded_sequence, pad_packed_sequence"
   ]
  },
  {
   "cell_type": "markdown",
   "metadata": {},
   "source": [
    "Next, let's load the data into memory"
   ]
  },
  {
   "cell_type": "code",
   "execution_count": 2,
   "metadata": {},
   "outputs": [
    {
     "name": "stdout",
     "output_type": "stream",
     "text": [
      "(50000, 2)\n"
     ]
    },
    {
     "data": {
      "text/html": [
       "<div>\n",
       "<style scoped>\n",
       "    .dataframe tbody tr th:only-of-type {\n",
       "        vertical-align: middle;\n",
       "    }\n",
       "\n",
       "    .dataframe tbody tr th {\n",
       "        vertical-align: top;\n",
       "    }\n",
       "\n",
       "    .dataframe thead th {\n",
       "        text-align: right;\n",
       "    }\n",
       "</style>\n",
       "<table border=\"1\" class=\"dataframe\">\n",
       "  <thead>\n",
       "    <tr style=\"text-align: right;\">\n",
       "      <th></th>\n",
       "      <th>review</th>\n",
       "      <th>sentiment</th>\n",
       "    </tr>\n",
       "  </thead>\n",
       "  <tbody>\n",
       "    <tr>\n",
       "      <th>0</th>\n",
       "      <td>One of the other reviewers has mentioned that ...</td>\n",
       "      <td>positive</td>\n",
       "    </tr>\n",
       "    <tr>\n",
       "      <th>1</th>\n",
       "      <td>A wonderful little production. &lt;br /&gt;&lt;br /&gt;The...</td>\n",
       "      <td>positive</td>\n",
       "    </tr>\n",
       "    <tr>\n",
       "      <th>2</th>\n",
       "      <td>I thought this was a wonderful way to spend ti...</td>\n",
       "      <td>positive</td>\n",
       "    </tr>\n",
       "    <tr>\n",
       "      <th>3</th>\n",
       "      <td>Basically there's a family where a little boy ...</td>\n",
       "      <td>negative</td>\n",
       "    </tr>\n",
       "    <tr>\n",
       "      <th>4</th>\n",
       "      <td>Petter Mattei's \"Love in the Time of Money\" is...</td>\n",
       "      <td>positive</td>\n",
       "    </tr>\n",
       "  </tbody>\n",
       "</table>\n",
       "</div>"
      ],
      "text/plain": [
       "                                              review sentiment\n",
       "0  One of the other reviewers has mentioned that ...  positive\n",
       "1  A wonderful little production. <br /><br />The...  positive\n",
       "2  I thought this was a wonderful way to spend ti...  positive\n",
       "3  Basically there's a family where a little boy ...  negative\n",
       "4  Petter Mattei's \"Love in the Time of Money\" is...  positive"
      ]
     },
     "execution_count": 2,
     "metadata": {},
     "output_type": "execute_result"
    }
   ],
   "source": [
    "review_file_path ='C:\\\\Users\\\\liuyu\\\\OneDrive\\\\OneDrive - Maryville University\\\\DSCI 619\\\\Modules\\\\WK5\\\\IMDB Dataset.csv'\n",
    "reviews = pd.read_csv(review_file_path)\n",
    "print(reviews.shape)\n",
    "reviews.head()"
   ]
  },
  {
   "cell_type": "markdown",
   "metadata": {},
   "source": [
    "Next, let's count the number of words in each review by adding one more feature in this data frame."
   ]
  },
  {
   "cell_type": "code",
   "execution_count": 3,
   "metadata": {},
   "outputs": [
    {
     "data": {
      "text/html": [
       "<div>\n",
       "<style scoped>\n",
       "    .dataframe tbody tr th:only-of-type {\n",
       "        vertical-align: middle;\n",
       "    }\n",
       "\n",
       "    .dataframe tbody tr th {\n",
       "        vertical-align: top;\n",
       "    }\n",
       "\n",
       "    .dataframe thead th {\n",
       "        text-align: right;\n",
       "    }\n",
       "</style>\n",
       "<table border=\"1\" class=\"dataframe\">\n",
       "  <thead>\n",
       "    <tr style=\"text-align: right;\">\n",
       "      <th></th>\n",
       "      <th>review</th>\n",
       "      <th>sentiment</th>\n",
       "      <th>review_length</th>\n",
       "    </tr>\n",
       "  </thead>\n",
       "  <tbody>\n",
       "    <tr>\n",
       "      <th>0</th>\n",
       "      <td>One of the other reviewers has mentioned that ...</td>\n",
       "      <td>positive</td>\n",
       "      <td>307</td>\n",
       "    </tr>\n",
       "    <tr>\n",
       "      <th>1</th>\n",
       "      <td>A wonderful little production. &lt;br /&gt;&lt;br /&gt;The...</td>\n",
       "      <td>positive</td>\n",
       "      <td>162</td>\n",
       "    </tr>\n",
       "    <tr>\n",
       "      <th>2</th>\n",
       "      <td>I thought this was a wonderful way to spend ti...</td>\n",
       "      <td>positive</td>\n",
       "      <td>166</td>\n",
       "    </tr>\n",
       "    <tr>\n",
       "      <th>3</th>\n",
       "      <td>Basically there's a family where a little boy ...</td>\n",
       "      <td>negative</td>\n",
       "      <td>138</td>\n",
       "    </tr>\n",
       "    <tr>\n",
       "      <th>4</th>\n",
       "      <td>Petter Mattei's \"Love in the Time of Money\" is...</td>\n",
       "      <td>positive</td>\n",
       "      <td>230</td>\n",
       "    </tr>\n",
       "  </tbody>\n",
       "</table>\n",
       "</div>"
      ],
      "text/plain": [
       "                                              review sentiment  review_length\n",
       "0  One of the other reviewers has mentioned that ...  positive            307\n",
       "1  A wonderful little production. <br /><br />The...  positive            162\n",
       "2  I thought this was a wonderful way to spend ti...  positive            166\n",
       "3  Basically there's a family where a little boy ...  negative            138\n",
       "4  Petter Mattei's \"Love in the Time of Money\" is...  positive            230"
      ]
     },
     "execution_count": 3,
     "metadata": {},
     "output_type": "execute_result"
    }
   ],
   "source": [
    "reviews['review_length']  = [len(x.split()) for x in reviews['review'].tolist()]\n",
    "reviews.head()"
   ]
  },
  {
   "cell_type": "markdown",
   "metadata": {},
   "source": [
    "We need to convert the label of sentiment to a numerical value using label encoding."
   ]
  },
  {
   "cell_type": "code",
   "execution_count": 4,
   "metadata": {},
   "outputs": [
    {
     "data": {
      "text/plain": [
       "0    25000\n",
       "1    25000\n",
       "Name: sentiment, dtype: int64"
      ]
     },
     "execution_count": 4,
     "metadata": {},
     "output_type": "execute_result"
    }
   ],
   "source": [
    "# Label encode the target\n",
    "from sklearn import preprocessing\n",
    "le = preprocessing.LabelEncoder()\n",
    "reviews['sentiment'] = le.fit_transform(reviews['sentiment'])\n",
    "reviews.sentiment.value_counts()"
   ]
  },
  {
   "cell_type": "markdown",
   "metadata": {},
   "source": [
    "It is a balanced binary classification with 50% positive cases and 50% negative cases."
   ]
  },
  {
   "cell_type": "markdown",
   "metadata": {},
   "source": [
    "Next, we need to clean the texts. We use the regular expressions (see https://docs.python.org/3/library/re.html). It is a powerful tool for us to clean texts using very compact codes. We perform the following tasks to clean the texts:\n",
    "\n",
    "+ Remove all special characters, punctuation and spaces\n",
    "+ Remove special characters, <br />\n",
    "+ Remove all words with length <=2\n",
    "+ Tokenizes the text, i.e. segments it into words using Spacy\n",
    "\n",
    "We need to **install Spacy** library. To install spaCy, we need to follow the official instructions at spaCy( https://spacy.io/usage#installation)\n",
    "\n",
    "1.\tType Anaconda Prompt in the search box at the left corner of windows and click Anaconda Prompt.\n",
    "2.\tRun the following command to install spaCy in the Anaconda Prompt\n",
    "\n",
    "   **conda install -c conda-forge spacy**\n",
    "3.\tRun the following command to install the spaCy model in the Anaconda Prompt\n",
    "\n",
    "   **python -m spacy download en_core_web_sm**   "
   ]
  },
  {
   "cell_type": "code",
   "execution_count": 5,
   "metadata": {},
   "outputs": [],
   "source": [
    "#tokenization\n",
    "import spacy\n",
    "import en_core_web_sm \n",
    "# Load the pretrained statistical models for English\n",
    "nlp = en_core_web_sm.load()\n",
    "\n",
    "def clean_text (text):\n",
    "    # Remove all special characters, punctuation and spaces\n",
    "    text = re.sub(r'[^A-Za-z0-9]+',' ',text)\n",
    "    # Replace special characters,<br />,  in the file\n",
    "    text = re.sub(r\"<br />\", \" \", text)\n",
    "    # Remove length <=2\n",
    "    text = re.sub(r'\\b[a-zA-Z]{1,2}\\b', '', text)\n",
    "    # Tokenizes the text, i.e. segments it into words\n",
    "    return [token.text for token in nlp.tokenizer(text) if not token.is_stop]"
   ]
  },
  {
   "cell_type": "markdown",
   "metadata": {},
   "source": [
    "Next, we construct a counter to count the occurrences of each word/token."
   ]
  },
  {
   "cell_type": "code",
   "execution_count": 6,
   "metadata": {},
   "outputs": [],
   "source": [
    "# Count number of occurences of each word\n",
    "Vocab_counts = Counter()\n",
    "for index, row in reviews.iterrows():\n",
    "    Vocab_counts.update(clean_text(row['review']))"
   ]
  },
  {
   "cell_type": "code",
   "execution_count": 7,
   "metadata": {},
   "outputs": [
    {
     "data": {
      "text/plain": [
       "[(' ', 1806613),\n",
       " ('  ', 378357),\n",
       " ('movie', 86609),\n",
       " ('film', 78691),\n",
       " ('   ', 65038),\n",
       " ('like', 38649),\n",
       " ('good', 28531),\n",
       " ('time', 24547),\n",
       " ('story', 22377),\n",
       " ('bad', 17444)]"
      ]
     },
     "execution_count": 7,
     "metadata": {},
     "output_type": "execute_result"
    }
   ],
   "source": [
    "Vocab_counts.most_common(10)"
   ]
  },
  {
   "cell_type": "markdown",
   "metadata": {},
   "source": [
    "There are more than 127K unique words. We only keep the words occurring more than four times in the reviews."
   ]
  },
  {
   "cell_type": "code",
   "execution_count": 8,
   "metadata": {},
   "outputs": [
    {
     "name": "stdout",
     "output_type": "stream",
     "text": [
      "There are 127443 unique words!\n",
      "There are 45734 unique words with length>4!\n"
     ]
    }
   ],
   "source": [
    "\n",
    "print(f\"There are {len(Vocab_counts.keys())} unique words!\")\n",
    "for word in list(Vocab_counts):\n",
    "    if Vocab_counts[word] <=4:\n",
    "        del Vocab_counts[word]\n",
    "print(f\"There are {len(Vocab_counts.keys())} unique words with length>4!\")"
   ]
  },
  {
   "cell_type": "markdown",
   "metadata": {},
   "source": [
    "\n",
    "\n",
    "We need to map the words/tokens to numerical values. We create a simple word to index mapping."
   ]
  },
  {
   "cell_type": "code",
   "execution_count": 9,
   "metadata": {},
   "outputs": [],
   "source": [
    "\n",
    "# Creating vocabulary mapping\n",
    "# Initialize it with empty and unkown words\n",
    "vocab2index = {\"\":0, \"UNK\":1}\n",
    "vocabs = [\"\", \"UNK\"]\n",
    "for word in Vocab_counts:\n",
    "    vocab2index[word] = len(vocabs)\n",
    "    vocabs.append(word)\n"
   ]
  },
  {
   "cell_type": "markdown",
   "metadata": {},
   "source": [
    "The following codes convert each review to a tuple of word2index and the corresponding length."
   ]
  },
  {
   "cell_type": "code",
   "execution_count": 10,
   "metadata": {},
   "outputs": [],
   "source": [
    "def integer_encode_sentence(text, vocab2index, N= 100):\n",
    "    tokens = clean_text(text)\n",
    "    integer_encode = np.zeros(N, dtype=int)\n",
    "    #Return UNK if the specified key does not exist.\n",
    "    encoded_sent = np.array([vocab2index.get(word, vocab2index[\"UNK\"]) for word in tokens])\n",
    "    length = min(N, len(encoded_sent))\n",
    "    integer_encode[:length] = encoded_sent[:length]\n",
    "    return integer_encode, length"
   ]
  },
  {
   "cell_type": "markdown",
   "metadata": {},
   "source": [
    "Next, we convert all reviews to the numerical indices."
   ]
  },
  {
   "cell_type": "code",
   "execution_count": 11,
   "metadata": {},
   "outputs": [],
   "source": [
    "reviews['integer_encode'] = reviews['review'].apply(lambda x: np.array(integer_encode_sentence(x,vocab2index ), dtype=object))"
   ]
  },
  {
   "cell_type": "code",
   "execution_count": 12,
   "metadata": {},
   "outputs": [
    {
     "data": {
      "text/html": [
       "<div>\n",
       "<style scoped>\n",
       "    .dataframe tbody tr th:only-of-type {\n",
       "        vertical-align: middle;\n",
       "    }\n",
       "\n",
       "    .dataframe tbody tr th {\n",
       "        vertical-align: top;\n",
       "    }\n",
       "\n",
       "    .dataframe thead th {\n",
       "        text-align: right;\n",
       "    }\n",
       "</style>\n",
       "<table border=\"1\" class=\"dataframe\">\n",
       "  <thead>\n",
       "    <tr style=\"text-align: right;\">\n",
       "      <th></th>\n",
       "      <th>review</th>\n",
       "      <th>sentiment</th>\n",
       "      <th>review_length</th>\n",
       "      <th>integer_encode</th>\n",
       "    </tr>\n",
       "  </thead>\n",
       "  <tbody>\n",
       "    <tr>\n",
       "      <th>0</th>\n",
       "      <td>One of the other reviewers has mentioned that ...</td>\n",
       "      <td>1</td>\n",
       "      <td>307</td>\n",
       "      <td>[[2, 3, 4, 5, 6, 2, 7, 8, 9, 10, 2, 2, 11, 12,...</td>\n",
       "    </tr>\n",
       "    <tr>\n",
       "      <th>1</th>\n",
       "      <td>A wonderful little production. &lt;br /&gt;&lt;br /&gt;The...</td>\n",
       "      <td>1</td>\n",
       "      <td>162</td>\n",
       "      <td>[[2, 125, 126, 127, 8, 128, 129, 2, 130, 131, ...</td>\n",
       "    </tr>\n",
       "    <tr>\n",
       "      <th>2</th>\n",
       "      <td>I thought this was a wonderful way to spend ti...</td>\n",
       "      <td>1</td>\n",
       "      <td>166</td>\n",
       "      <td>[[2, 188, 2, 125, 189, 2, 190, 132, 8, 191, 19...</td>\n",
       "    </tr>\n",
       "    <tr>\n",
       "      <th>3</th>\n",
       "      <td>Basically there's a family where a little boy ...</td>\n",
       "      <td>0</td>\n",
       "      <td>138</td>\n",
       "      <td>[[249, 8, 250, 2, 126, 251, 252, 253, 8, 254, ...</td>\n",
       "    </tr>\n",
       "    <tr>\n",
       "      <th>4</th>\n",
       "      <td>Petter Mattei's \"Love in the Time of Money\" is...</td>\n",
       "      <td>1</td>\n",
       "      <td>230</td>\n",
       "      <td>[[1, 290, 2, 291, 2, 292, 2, 293, 8, 294, 295,...</td>\n",
       "    </tr>\n",
       "  </tbody>\n",
       "</table>\n",
       "</div>"
      ],
      "text/plain": [
       "                                              review  sentiment  \\\n",
       "0  One of the other reviewers has mentioned that ...          1   \n",
       "1  A wonderful little production. <br /><br />The...          1   \n",
       "2  I thought this was a wonderful way to spend ti...          1   \n",
       "3  Basically there's a family where a little boy ...          0   \n",
       "4  Petter Mattei's \"Love in the Time of Money\" is...          1   \n",
       "\n",
       "   review_length                                     integer_encode  \n",
       "0            307  [[2, 3, 4, 5, 6, 2, 7, 8, 9, 10, 2, 2, 11, 12,...  \n",
       "1            162  [[2, 125, 126, 127, 8, 128, 129, 2, 130, 131, ...  \n",
       "2            166  [[2, 188, 2, 125, 189, 2, 190, 132, 8, 191, 19...  \n",
       "3            138  [[249, 8, 250, 2, 126, 251, 252, 253, 8, 254, ...  \n",
       "4            230  [[1, 290, 2, 291, 2, 292, 2, 293, 8, 294, 295,...  "
      ]
     },
     "execution_count": 12,
     "metadata": {},
     "output_type": "execute_result"
    }
   ],
   "source": [
    "reviews.head()"
   ]
  },
  {
   "cell_type": "markdown",
   "metadata": {},
   "source": [
    "We mapped review text into an array containing the following two items:\n",
    "\n",
    "+ First item is an array containing the corresponding word index for all words/tokens.\n",
    "+ Second item is a scalar storing the length of the review text."
   ]
  },
  {
   "cell_type": "code",
   "execution_count": 13,
   "metadata": {},
   "outputs": [
    {
     "data": {
      "text/plain": [
       "array([array([ 2,  3,  4,  5,  6,  2,  7,  8,  9, 10,  2,  2, 11, 12, 13, 14, 15,\n",
       "        2,  2, 16, 17, 18,  2, 19, 20,  2, 10, 21,  2, 22,  2,  2,  2, 23,\n",
       "       24,  2, 25, 26,  2, 27, 28,  2, 29, 30,  2, 19,  2, 31,  2, 32, 33,\n",
       "        2, 21, 34, 35,  8,  2, 36, 37,  2, 38, 39, 40, 41,  1,  2, 42, 43,\n",
       "        2, 44, 45,  2, 46, 47,  2, 48, 49, 50, 51, 52,  1,  2, 53,  2, 54,\n",
       "        2, 55,  2, 45,  2, 56,  2, 57, 58,  1, 59, 60, 61, 62,  2]),\n",
       "       100], dtype=object)"
      ]
     },
     "execution_count": 13,
     "metadata": {},
     "output_type": "execute_result"
    }
   ],
   "source": [
    "reviews['integer_encode'][0]"
   ]
  },
  {
   "cell_type": "markdown",
   "metadata": {},
   "source": [
    "## Split the Data into Training and Test Data \n",
    "\n",
    "We take out the features in the integer_encode column and label in the sentiment column. "
   ]
  },
  {
   "cell_type": "code",
   "execution_count": 16,
   "metadata": {},
   "outputs": [],
   "source": [
    "X = list(reviews['integer_encode'])\n",
    "y = list(reviews['sentiment'])\n"
   ]
  },
  {
   "cell_type": "markdown",
   "metadata": {},
   "source": [
    "We perform the stratified train/test split using scikit-learn. "
   ]
  },
  {
   "cell_type": "code",
   "execution_count": 17,
   "metadata": {},
   "outputs": [],
   "source": [
    "from sklearn.model_selection import train_test_split\n",
    "X_train, X_test, y_train, y_test = train_test_split(X, y,stratify=y, test_size=0.2, random_state =1001)"
   ]
  },
  {
   "cell_type": "markdown",
   "metadata": {},
   "source": [
    "## Write Custom Datasets\n",
    "\n",
    "torch.utils.data.Dataset is an abstract class representing a dataset. We derive a child class based on  the build-in Dataset class in PyTorch by overriding the following three-member functions:\n",
    "\n",
    "+ Constructor: **__init__** initialize the features and label\n",
    "+ Size of the input data: **__len__**\n",
    "+ Return the data and label at a given index : **__getitem__**"
   ]
  },
  {
   "cell_type": "code",
   "execution_count": 22,
   "metadata": {},
   "outputs": [
    {
     "name": "stdout",
     "output_type": "stream",
     "text": [
      "Help on class Dataset in module torch.utils.data.dataset:\n",
      "\n",
      "class Dataset(typing.Generic)\n",
      " |  Dataset(*args, **kwds)\n",
      " |  \n",
      " |  An abstract class representing a :class:`Dataset`.\n",
      " |  \n",
      " |  All datasets that represent a map from keys to data samples should subclass\n",
      " |  it. All subclasses should overwrite :meth:`__getitem__`, supporting fetching a\n",
      " |  data sample for a given key. Subclasses could also optionally overwrite\n",
      " |  :meth:`__len__`, which is expected to return the size of the dataset by many\n",
      " |  :class:`~torch.utils.data.Sampler` implementations and the default options\n",
      " |  of :class:`~torch.utils.data.DataLoader`.\n",
      " |  \n",
      " |  .. note::\n",
      " |    :class:`~torch.utils.data.DataLoader` by default constructs a index\n",
      " |    sampler that yields integral indices.  To make it work with a map-style\n",
      " |    dataset with non-integral indices/keys, a custom sampler must be provided.\n",
      " |  \n",
      " |  Method resolution order:\n",
      " |      Dataset\n",
      " |      typing.Generic\n",
      " |      builtins.object\n",
      " |  \n",
      " |  Methods defined here:\n",
      " |  \n",
      " |  __add__(self, other: 'Dataset[T_co]') -> 'ConcatDataset[T_co]'\n",
      " |  \n",
      " |  __getitem__(self, index) -> +T_co\n",
      " |  \n",
      " |  ----------------------------------------------------------------------\n",
      " |  Data descriptors defined here:\n",
      " |  \n",
      " |  __dict__\n",
      " |      dictionary for instance variables (if defined)\n",
      " |  \n",
      " |  __weakref__\n",
      " |      list of weak references to the object (if defined)\n",
      " |  \n",
      " |  ----------------------------------------------------------------------\n",
      " |  Data and other attributes defined here:\n",
      " |  \n",
      " |  __orig_bases__ = (typing.Generic[+T_co],)\n",
      " |  \n",
      " |  __parameters__ = (+T_co,)\n",
      " |  \n",
      " |  ----------------------------------------------------------------------\n",
      " |  Class methods inherited from typing.Generic:\n",
      " |  \n",
      " |  __class_getitem__(params) from builtins.type\n",
      " |  \n",
      " |  __init_subclass__(*args, **kwargs) from builtins.type\n",
      " |      This method is called when a class is subclassed.\n",
      " |      \n",
      " |      The default implementation does nothing. It may be\n",
      " |      overridden to extend subclasses.\n",
      " |  \n",
      " |  ----------------------------------------------------------------------\n",
      " |  Static methods inherited from typing.Generic:\n",
      " |  \n",
      " |  __new__(cls, *args, **kwds)\n",
      " |      Create and return a new object.  See help(type) for accurate signature.\n",
      "\n"
     ]
    }
   ],
   "source": [
    "help(Dataset)"
   ]
  },
  {
   "cell_type": "code",
   "execution_count": 18,
   "metadata": {},
   "outputs": [],
   "source": [
    "class ReviewsDataset(Dataset):\n",
    "    # Initialize the dataset\n",
    "    def __init__(self, X, y):\n",
    "        self.X = X\n",
    "        self.y = y\n",
    "    # Get the length/number of observations    \n",
    "    def __len__(self):\n",
    "        return len(self.y)\n",
    "    # Return the features, label and the length of the review\n",
    "    def __getitem__(self, idx):\n",
    "        return torch.from_numpy(self.X[idx][0].astype(np.int32)), self.y[idx], self.X[idx][1]"
   ]
  },
  {
   "cell_type": "markdown",
   "metadata": {},
   "source": [
    "Next, we create the training and test datasets based on the custom Dataset by providing the features and label."
   ]
  },
  {
   "cell_type": "code",
   "execution_count": 20,
   "metadata": {},
   "outputs": [],
   "source": [
    "train_data = ReviewsDataset(X_train, y_train)\n",
    "test_data = ReviewsDataset(X_test, y_test)"
   ]
  },
  {
   "cell_type": "markdown",
   "metadata": {},
   "source": [
    "Next, we can call the DataLoader that supports automatic batching and single and multiprocess data loading and automatic memory pining, etc.\n",
    "\n",
    "https://pytorch.org/docs/stable/data.html"
   ]
  },
  {
   "cell_type": "code",
   "execution_count": 26,
   "metadata": {},
   "outputs": [
    {
     "name": "stdout",
     "output_type": "stream",
     "text": [
      "Help on class DataLoader in module torch.utils.data.dataloader:\n",
      "\n",
      "class DataLoader(typing.Generic)\n",
      " |  DataLoader(*args, **kwds)\n",
      " |  \n",
      " |  Data loader. Combines a dataset and a sampler, and provides an iterable over\n",
      " |  the given dataset.\n",
      " |  \n",
      " |  The :class:`~torch.utils.data.DataLoader` supports both map-style and\n",
      " |  iterable-style datasets with single- or multi-process loading, customizing\n",
      " |  loading order and optional automatic batching (collation) and memory pinning.\n",
      " |  \n",
      " |  See :py:mod:`torch.utils.data` documentation page for more details.\n",
      " |  \n",
      " |  Arguments:\n",
      " |      dataset (Dataset): dataset from which to load the data.\n",
      " |      batch_size (int, optional): how many samples per batch to load\n",
      " |          (default: ``1``).\n",
      " |      shuffle (bool, optional): set to ``True`` to have the data reshuffled\n",
      " |          at every epoch (default: ``False``).\n",
      " |      sampler (Sampler or Iterable, optional): defines the strategy to draw\n",
      " |          samples from the dataset. Can be any ``Iterable`` with ``__len__``\n",
      " |          implemented. If specified, :attr:`shuffle` must not be specified.\n",
      " |      batch_sampler (Sampler or Iterable, optional): like :attr:`sampler`, but\n",
      " |          returns a batch of indices at a time. Mutually exclusive with\n",
      " |          :attr:`batch_size`, :attr:`shuffle`, :attr:`sampler`,\n",
      " |          and :attr:`drop_last`.\n",
      " |      num_workers (int, optional): how many subprocesses to use for data\n",
      " |          loading. ``0`` means that the data will be loaded in the main process.\n",
      " |          (default: ``0``)\n",
      " |      collate_fn (callable, optional): merges a list of samples to form a\n",
      " |          mini-batch of Tensor(s).  Used when using batched loading from a\n",
      " |          map-style dataset.\n",
      " |      pin_memory (bool, optional): If ``True``, the data loader will copy Tensors\n",
      " |          into CUDA pinned memory before returning them.  If your data elements\n",
      " |          are a custom type, or your :attr:`collate_fn` returns a batch that is a custom type,\n",
      " |          see the example below.\n",
      " |      drop_last (bool, optional): set to ``True`` to drop the last incomplete batch,\n",
      " |          if the dataset size is not divisible by the batch size. If ``False`` and\n",
      " |          the size of dataset is not divisible by the batch size, then the last batch\n",
      " |          will be smaller. (default: ``False``)\n",
      " |      timeout (numeric, optional): if positive, the timeout value for collecting a batch\n",
      " |          from workers. Should always be non-negative. (default: ``0``)\n",
      " |      worker_init_fn (callable, optional): If not ``None``, this will be called on each\n",
      " |          worker subprocess with the worker id (an int in ``[0, num_workers - 1]``) as\n",
      " |          input, after seeding and before data loading. (default: ``None``)\n",
      " |      prefetch_factor (int, optional, keyword-only arg): Number of sample loaded\n",
      " |          in advance by each worker. ``2`` means there will be a total of\n",
      " |          2 * num_workers samples prefetched across all workers. (default: ``2``)\n",
      " |      persistent_workers (bool, optional): If ``True``, the data loader will not shutdown\n",
      " |          the worker processes after a dataset has been consumed once. This allows to \n",
      " |          maintain the workers `Dataset` instances alive. (default: ``False``)\n",
      " |  \n",
      " |  \n",
      " |  .. warning:: If the ``spawn`` start method is used, :attr:`worker_init_fn`\n",
      " |               cannot be an unpicklable object, e.g., a lambda function. See\n",
      " |               :ref:`multiprocessing-best-practices` on more details related\n",
      " |               to multiprocessing in PyTorch.\n",
      " |  \n",
      " |  .. warning:: ``len(dataloader)`` heuristic is based on the length of the sampler used.\n",
      " |               When :attr:`dataset` is an :class:`~torch.utils.data.IterableDataset`,\n",
      " |               it instead returns an estimate based on ``len(dataset) / batch_size``, with proper\n",
      " |               rounding depending on :attr:`drop_last`, regardless of multi-process loading\n",
      " |               configurations. This represents the best guess PyTorch can make because PyTorch\n",
      " |               trusts user :attr:`dataset` code in correctly handling multi-process\n",
      " |               loading to avoid duplicate data.\n",
      " |  \n",
      " |               However, if sharding results in multiple workers having incomplete last batches,\n",
      " |               this estimate can still be inaccurate, because (1) an otherwise complete batch can\n",
      " |               be broken into multiple ones and (2) more than one batch worth of samples can be\n",
      " |               dropped when :attr:`drop_last` is set. Unfortunately, PyTorch can not detect such\n",
      " |               cases in general.\n",
      " |  \n",
      " |               See `Dataset Types`_ for more details on these two types of datasets and how\n",
      " |               :class:`~torch.utils.data.IterableDataset` interacts with\n",
      " |               `Multi-process data loading`_.\n",
      " |  \n",
      " |  Method resolution order:\n",
      " |      DataLoader\n",
      " |      typing.Generic\n",
      " |      builtins.object\n",
      " |  \n",
      " |  Methods defined here:\n",
      " |  \n",
      " |  __init__(self, dataset: torch.utils.data.dataset.Dataset[+T_co], batch_size: Union[int, NoneType] = 1, shuffle: bool = False, sampler: Union[torch.utils.data.sampler.Sampler[int], NoneType] = None, batch_sampler: Union[torch.utils.data.sampler.Sampler[Sequence[int]], NoneType] = None, num_workers: int = 0, collate_fn: Callable[[List[~T]], Any] = None, pin_memory: bool = False, drop_last: bool = False, timeout: float = 0, worker_init_fn: Callable[[int], NoneType] = None, multiprocessing_context=None, generator=None, *, prefetch_factor: int = 2, persistent_workers: bool = False)\n",
      " |      Initialize self.  See help(type(self)) for accurate signature.\n",
      " |  \n",
      " |  __iter__(self) -> '_BaseDataLoaderIter'\n",
      " |      # We quote '_BaseDataLoaderIter' since it isn't defined yet and the definition can't be moved up\n",
      " |      # since '_BaseDataLoaderIter' references 'DataLoader'.\n",
      " |  \n",
      " |  __len__(self) -> int\n",
      " |  \n",
      " |  __setattr__(self, attr, val)\n",
      " |      Implement setattr(self, name, value).\n",
      " |  \n",
      " |  ----------------------------------------------------------------------\n",
      " |  Data descriptors defined here:\n",
      " |  \n",
      " |  __dict__\n",
      " |      dictionary for instance variables (if defined)\n",
      " |  \n",
      " |  __weakref__\n",
      " |      list of weak references to the object (if defined)\n",
      " |  \n",
      " |  multiprocessing_context\n",
      " |  \n",
      " |  ----------------------------------------------------------------------\n",
      " |  Data and other attributes defined here:\n",
      " |  \n",
      " |  __annotations__ = {'_iterator': typing.Union[ForwardRef('_BaseDataLoad...\n",
      " |  \n",
      " |  __orig_bases__ = (typing.Generic[+T_co],)\n",
      " |  \n",
      " |  __parameters__ = (+T_co,)\n",
      " |  \n",
      " |  ----------------------------------------------------------------------\n",
      " |  Class methods inherited from typing.Generic:\n",
      " |  \n",
      " |  __class_getitem__(params) from builtins.type\n",
      " |  \n",
      " |  __init_subclass__(*args, **kwargs) from builtins.type\n",
      " |      This method is called when a class is subclassed.\n",
      " |      \n",
      " |      The default implementation does nothing. It may be\n",
      " |      overridden to extend subclasses.\n",
      " |  \n",
      " |  ----------------------------------------------------------------------\n",
      " |  Static methods inherited from typing.Generic:\n",
      " |  \n",
      " |  __new__(cls, *args, **kwds)\n",
      " |      Create and return a new object.  See help(type) for accurate signature.\n",
      "\n"
     ]
    }
   ],
   "source": [
    "help(torch.utils.data.DataLoader)"
   ]
  },
  {
   "cell_type": "markdown",
   "metadata": {},
   "source": [
    "## Define the LSTM model\n",
    "\n",
    "\n",
    "Our network has several layers:\n",
    "+ The first layer is the embedding layer which converts words to a vector by keeping their \"meaning\". Similar words, such as cats and dogs, are close to each other. Please see https://pytorch.org/tutorials/beginner/nlp/word_embeddings_tutorial.html\n",
    "+ The second layer is the LSTM to capture the \"context\" of the words/tokens (see https://pytorch.org/docs/stable/generated/torch.nn.LSTM.html?highlight=lstm#torch.nn.LSTM)\n",
    "+ The last layer is a classifier with two neurons for binary classification with two cases. "
   ]
  },
  {
   "cell_type": "code",
   "execution_count": 27,
   "metadata": {},
   "outputs": [],
   "source": [
    "class RNN_LSTM(torch.nn.Module) :\n",
    "    def __init__(self, vocab_size, embedding_dim, hidden_dim) :\n",
    "        super().__init__()\n",
    "        # Embedding layer: specify the size of the dictionary, the size of the each embedding layer, and pads zero\n",
    "        self.embedding = nn.Embedding(vocab_size, embedding_dim, padding_idx=0)\n",
    "        # LSTM: Specify the input_size = the out size of the Embedding layer\n",
    "        # LSTM: Specify the number of feautres in the hidden state h\n",
    "        # LSTM: Specify the bactch_first = True: then the input and output tensors are provided as batch\n",
    "        self.lstm = nn.LSTM(embedding_dim, hidden_dim, batch_first=True)\n",
    "        # Classifier for binary classification using two neurons\n",
    "        self.linear = nn.Linear(hidden_dim, 2)\n",
    "        # Drop out layer\n",
    "        self.dropout = nn.Dropout(0.3)\n",
    "    \n",
    "    # Forward propagation in neural networks     \n",
    "    def forward(self, x, l): # inputs are features: x,  and length of the review: l\n",
    "        \n",
    "        # Perform embedding\n",
    "        x = self.embedding(x)\n",
    "        # perform droput\n",
    "        x = self.dropout(x)\n",
    "        #https://stackoverflow.com/questions/51030782/why-do-we-pack-the-sequences-in-pytorch\n",
    "        x_pack = pack_padded_sequence(x, l, batch_first=True, enforce_sorted=False)\n",
    "        # Run the LSTM on the x_pack\n",
    "        out_pack, (ht, ct) = self.lstm(x_pack)\n",
    "        # Perform linear operator at the latest item on the hidden state\n",
    "        out = self.linear(ht[-1])\n",
    "        return out"
   ]
  },
  {
   "cell_type": "markdown",
   "metadata": {},
   "source": [
    "# Define the Training and Validation Modules\n",
    "\n",
    "We define two functions of training and validation. These functions help us store the loss, accuracy for both the training dataset and validation dataset. "
   ]
  },
  {
   "cell_type": "code",
   "execution_count": 28,
   "metadata": {},
   "outputs": [],
   "source": [
    "def train_model(model, epochs=10, lr=0.001):\n",
    "    # Initialize the data frame to store the training and validation loss and accuracy\n",
    "    data = np.full((epochs, 5), -1)\n",
    "    history = pd.DataFrame(data, columns=['epoch', 'loss', 'accuracy', 'val_loss', 'val_accuracy'])\n",
    "   \n",
    "    # Filter out all the parameters that require gradients\n",
    "    parameters = filter(lambda p: p.requires_grad, model.parameters())\n",
    "    # Setup the Adam algorithm\n",
    "    optimizer = torch.optim.Adam(parameters, lr=lr)\n",
    "    # Loop over the epochs\n",
    "    for i in range(epochs):\n",
    "        # Sets the module in training mode\n",
    "        model.train()\n",
    "        # Initialize the total loss for all observations\n",
    "        sum_loss = 0.0\n",
    "        # Initialize the the number of casese that the model correctly predicts\n",
    "        correct = 0.0\n",
    "        # Initialize the total observations\n",
    "        total = 0\n",
    "        # Loop over each batch by using train_dataloader\n",
    "        # Each batch contains the features:x, label:y, and, the length of the review texts\n",
    "        for x, y, length in train_dataloader:\n",
    "            x = x.long()\n",
    "            y = y.long()\n",
    "            # Predict the labels using features and length\n",
    "            y_pred = model(x, length)\n",
    "            # Set the gradients to zero before starting to do backpropragation\n",
    "            # because PyTorch accumulates the gradients on subsequent backward passes. \n",
    "            optimizer.zero_grad()\n",
    "            # Compute the loss\n",
    "            loss = F.cross_entropy(y_pred, y)\n",
    "            # Compute gradient of loss w.r.t all the parameters in loss that have requires_grad = True \n",
    "            # and store them in parameter.grad attribute for every parameter.\n",
    "            loss.backward()\n",
    "            # Updates all the parameters based on parameter.grad\n",
    "            optimizer.step()\n",
    "            # Predict the label\n",
    "            pred = torch.max(y_pred, 1)[1]\n",
    "            # Update correctly predicted classes\n",
    "            correct += (pred == y).float().sum()\n",
    "            # Update the sum of the loss\n",
    "            sum_loss += loss.item()*y.shape[0]\n",
    "            # Update the total observations\n",
    "            total += y.shape[0]\n",
    "        # Compute the validation loss and validation accuracy using test dataset\n",
    "        val_loss, val_acc = validation_metrics(model, test_dataloader)\n",
    "        # Print out the losses and accuracies\n",
    "        print(f\"epoch {i+1}/{epochs} - loss: {sum_loss/total:.4f} - accuracy: {correct/total:.4f} - val_loss: {val_loss:.4f}, val_accuracy {val_acc:.4f}\")\n",
    "        # Store the losses and accuracies\n",
    "        history.loc[history.index[i], 'epoch'] = i\n",
    "        history.loc[history.index[i], 'loss'] = sum_loss/total\n",
    "        c=correct/total\n",
    "        history.loc[history.index[i], 'accuracy'] = c.numpy()\n",
    "        history.loc[history.index[i], 'val_loss'] = val_loss\n",
    "        history.loc[history.index[i], 'val_accuracy'] = val_acc.numpy()        \n",
    "    return(history)\n",
    "\n",
    "# Compute the validation loss and accuracy\n",
    "def validation_metrics (model, test_dataloader):\n",
    "    # Sets the module in evaluation mode\n",
    "    model.eval()\n",
    "    correct = 0\n",
    "    total = 0\n",
    "    sum_loss = 0.0\n",
    "\n",
    "    # Loop over each batch by using train_dataloader\n",
    "    # Each batch contains the features:x, label:y, and, the length of the review texts\n",
    "    for x, y, length in test_dataloader:\n",
    "        x = x.long()\n",
    "        y = y.long()\n",
    "        # Predict the labels\n",
    "        y_hat = model(x, length)\n",
    "        # Compute the losses\n",
    "        loss = F.cross_entropy(y_hat, y)\n",
    "        # Find the predicted label\n",
    "        pred = torch.max(y_hat, 1)[1]\n",
    "        # Update correctly predicted classes\n",
    "        correct += (pred == y).float().sum()\n",
    "        # Update the total observations\n",
    "        total += y.shape[0]\n",
    "        # Update the sum of the loss\n",
    "        sum_loss += loss.item()*y.shape[0]\n",
    "    # Return the average loss and accuracy\n",
    "    return sum_loss/total, correct/total"
   ]
  },
  {
   "cell_type": "markdown",
   "metadata": {},
   "source": [
    "Next, We initialize the LSTM model"
   ]
  },
  {
   "cell_type": "code",
   "execution_count": 29,
   "metadata": {},
   "outputs": [],
   "source": [
    "model_LSTM = RNN_LSTM(vocab_size, 64, 64)"
   ]
  },
  {
   "cell_type": "markdown",
   "metadata": {},
   "source": [
    "We train the model"
   ]
  },
  {
   "cell_type": "code",
   "execution_count": 30,
   "metadata": {},
   "outputs": [
    {
     "name": "stdout",
     "output_type": "stream",
     "text": [
      "epoch 1/15 - loss: 0.6950 - accuracy: 0.5076 - val_loss: 0.6914, val_accuracy 0.5226\n",
      "epoch 2/15 - loss: 0.6884 - accuracy: 0.5375 - val_loss: 0.6864, val_accuracy 0.5386\n",
      "epoch 3/15 - loss: 0.6817 - accuracy: 0.5603 - val_loss: 0.6754, val_accuracy 0.5755\n",
      "epoch 4/15 - loss: 0.6640 - accuracy: 0.5950 - val_loss: 0.6309, val_accuracy 0.6616\n",
      "epoch 5/15 - loss: 0.6084 - accuracy: 0.6716 - val_loss: 0.6169, val_accuracy 0.7014\n",
      "epoch 6/15 - loss: 0.5582 - accuracy: 0.7192 - val_loss: 0.6138, val_accuracy 0.7280\n",
      "epoch 7/15 - loss: 0.5149 - accuracy: 0.7513 - val_loss: 0.5934, val_accuracy 0.7510\n",
      "epoch 8/15 - loss: 0.4750 - accuracy: 0.7767 - val_loss: 0.7129, val_accuracy 0.7512\n",
      "epoch 9/15 - loss: 0.4467 - accuracy: 0.7963 - val_loss: 0.7148, val_accuracy 0.7664\n",
      "epoch 10/15 - loss: 0.4272 - accuracy: 0.8065 - val_loss: 0.7409, val_accuracy 0.7563\n",
      "epoch 11/15 - loss: 0.4079 - accuracy: 0.8185 - val_loss: 0.8039, val_accuracy 0.7632\n",
      "epoch 12/15 - loss: 0.3889 - accuracy: 0.8301 - val_loss: 0.6658, val_accuracy 0.7899\n",
      "epoch 13/15 - loss: 0.3830 - accuracy: 0.8318 - val_loss: 0.7689, val_accuracy 0.7816\n",
      "epoch 14/15 - loss: 0.3624 - accuracy: 0.8425 - val_loss: 0.7396, val_accuracy 0.7863\n",
      "epoch 15/15 - loss: 0.3422 - accuracy: 0.8532 - val_loss: 0.7713, val_accuracy 0.7815\n",
      "Wall time: 51min 48s\n"
     ]
    }
   ],
   "source": [
    "%%time\n",
    "history = train_model(model_LSTM, epochs=15, lr=0.001)"
   ]
  },
  {
   "cell_type": "markdown",
   "metadata": {},
   "source": [
    "## Model Diagnostics of LSTM\n",
    "\n",
    "We check our model by plotting the losses and accuracies.\n"
   ]
  },
  {
   "cell_type": "code",
   "execution_count": 31,
   "metadata": {},
   "outputs": [
    {
     "data": {
      "image/png": "[encoded data removed]",
      "text/plain": [
       "<Figure size 720x720 with 2 Axes>"
      ]
     },
     "metadata": {
      "needs_background": "light"
     },
     "output_type": "display_data"
    }
   ],
   "source": [
    "acc = history['accuracy']\n",
    "val_acc = history['val_accuracy']\n",
    "\n",
    "loss = history['loss']\n",
    "val_loss = history['val_loss']\n",
    "\n",
    "epochs = history['epoch']\n",
    "\n",
    "plt.figure(figsize=(10, 10))\n",
    "plt.subplot(1, 2, 1)\n",
    "plt.plot(epochs, acc, label='Training Accuracy')\n",
    "plt.plot(epochs, val_acc, label='Validation Accuracy')\n",
    "plt.legend(loc='lower right')\n",
    "plt.title('Training and Validation Accuracy')\n",
    "\n",
    "plt.subplot(1, 2, 2)\n",
    "plt.plot(epochs, loss, label='Training Loss')\n",
    "plt.plot(epochs, val_loss, label='Validation Loss')\n",
    "plt.legend(loc='lower left')\n",
    "plt.title('Training and Validation Loss')\n",
    "plt.show()"
   ]
  },
  {
   "cell_type": "markdown",
   "metadata": {},
   "source": [
    "## GRU Model\n",
    "We build a GRU model using nn.GRU() function. This model is very similar to LSTM function."
   ]
  },
  {
   "cell_type": "code",
   "execution_count": 33,
   "metadata": {},
   "outputs": [],
   "source": [
    "\n",
    "class RNN_GRU(torch.nn.Module) :\n",
    "    def __init__(self, vocab_size, embedding_dim, hidden_dim) :\n",
    "        super().__init__()\n",
    "        self.embedding = nn.Embedding(vocab_size, embedding_dim, padding_idx=0)\n",
    "        self.gru = nn.GRU(hidden_dim, hidden_dim)\n",
    "        self.linear = nn.Linear(hidden_dim, 2)\n",
    "        self.dropout = nn.Dropout(0.3)\n",
    "        \n",
    "    def forward(self, x, l):\n",
    "        x = self.embedding(x)\n",
    "        x = self.dropout(x)\n",
    "        #https://stackoverflow.com/questions/51030782/why-do-we-pack-the-sequences-in-pytorch\n",
    "        x_pack = pack_padded_sequence(x, l, batch_first=True, enforce_sorted=False)\n",
    "        packed_output, ht = self.gru(x_pack)\n",
    "        # unpack the output from GRU\n",
    "        output, input_sizes = pad_packed_sequence(packed_output, batch_first=True)\n",
    "        y = output[:, -1, :]\n",
    "\n",
    "        out = self.linear(y)\n",
    "        return out"
   ]
  },
  {
   "cell_type": "markdown",
   "metadata": {},
   "source": [
    "Create the GRU model"
   ]
  },
  {
   "cell_type": "code",
   "execution_count": 34,
   "metadata": {},
   "outputs": [],
   "source": [
    "model_GRU = RNN_GRU(vocab_size, 64, 64)"
   ]
  },
  {
   "cell_type": "markdown",
   "metadata": {},
   "source": [
    "We train our GRU model"
   ]
  },
  {
   "cell_type": "code",
   "execution_count": 36,
   "metadata": {},
   "outputs": [
    {
     "name": "stdout",
     "output_type": "stream",
     "text": [
      "epoch 1/15 - loss: 0.6983 - accuracy: 0.5001 - val_loss: 0.6961, val_accuracy 0.5045\n",
      "epoch 2/15 - loss: 0.6932 - accuracy: 0.5078 - val_loss: 0.6937, val_accuracy 0.5042\n",
      "epoch 3/15 - loss: 0.6910 - accuracy: 0.5173 - val_loss: 0.6929, val_accuracy 0.5090\n",
      "epoch 4/15 - loss: 0.6889 - accuracy: 0.5252 - val_loss: 0.6926, val_accuracy 0.5109\n",
      "epoch 5/15 - loss: 0.6875 - accuracy: 0.5292 - val_loss: 0.6914, val_accuracy 0.5138\n",
      "epoch 6/15 - loss: 0.6829 - accuracy: 0.5405 - val_loss: 0.6877, val_accuracy 0.5303\n",
      "epoch 7/15 - loss: 0.6732 - accuracy: 0.5588 - val_loss: 0.6954, val_accuracy 0.5717\n",
      "epoch 8/15 - loss: 0.6447 - accuracy: 0.5974 - val_loss: 0.6691, val_accuracy 0.5924\n",
      "epoch 9/15 - loss: 0.6189 - accuracy: 0.6244 - val_loss: 0.6623, val_accuracy 0.6158\n",
      "epoch 10/15 - loss: 0.5967 - accuracy: 0.6424 - val_loss: 0.6293, val_accuracy 0.6319\n",
      "epoch 11/15 - loss: 0.5763 - accuracy: 0.6566 - val_loss: 0.6451, val_accuracy 0.6401\n",
      "epoch 12/15 - loss: 0.5604 - accuracy: 0.6668 - val_loss: 0.6715, val_accuracy 0.6417\n",
      "epoch 13/15 - loss: 0.5470 - accuracy: 0.6747 - val_loss: 0.6416, val_accuracy 0.6465\n",
      "epoch 14/15 - loss: 0.5349 - accuracy: 0.6825 - val_loss: 0.6476, val_accuracy 0.6545\n",
      "epoch 15/15 - loss: 0.5192 - accuracy: 0.6910 - val_loss: 0.6672, val_accuracy 0.6569\n",
      "Wall time: 55min 44s\n"
     ]
    }
   ],
   "source": [
    "%%time\n",
    "history = train_model(model_GRU, epochs=15, lr=0.001)"
   ]
  },
  {
   "cell_type": "markdown",
   "metadata": {},
   "source": [
    "## Model Diagnostics of GRU\n",
    "\n",
    "We check our model by plotting the losses and accuracies."
   ]
  },
  {
   "cell_type": "code",
   "execution_count": 37,
   "metadata": {},
   "outputs": [
    {
     "data": {
      "image/png": "[encoded data removed]",
      "text/plain": [
       "<Figure size 720x720 with 2 Axes>"
      ]
     },
     "metadata": {
      "needs_background": "light"
     },
     "output_type": "display_data"
    }
   ],
   "source": [
    "acc = history['accuracy']\n",
    "val_acc = history['val_accuracy']\n",
    "\n",
    "loss = history['loss']\n",
    "val_loss = history['val_loss']\n",
    "\n",
    "epochs = history['epoch']\n",
    "\n",
    "plt.figure(figsize=(10, 10))\n",
    "plt.subplot(1, 2, 1)\n",
    "plt.plot(epochs, acc, label='Training Accuracy')\n",
    "plt.plot(epochs, val_acc, label='Validation Accuracy')\n",
    "plt.legend(loc='lower right')\n",
    "plt.title('Training and Validation Accuracy')\n",
    "\n",
    "plt.subplot(1, 2, 2)\n",
    "plt.plot(epochs, loss, label='Training Loss')\n",
    "plt.plot(epochs, val_loss, label='Validation Loss')\n",
    "plt.legend(loc='lower left')\n",
    "plt.title('Training and Validation Loss')\n",
    "plt.show()"
   ]
  },
  {
   "cell_type": "markdown",
   "metadata": {},
   "source": [
    "## LSTM and GRU Model\n",
    "\n",
    "We perform sentiment analysi using both LSTM and GRU models."
   ]
  },
  {
   "cell_type": "code",
   "execution_count": 38,
   "metadata": {},
   "outputs": [],
   "source": [
    "class RNN_LSTM_GRU(torch.nn.Module) :\n",
    "    def __init__(self, vocab_size, embedding_dim, hidden_dim) :\n",
    "        super().__init__()\n",
    "        self.embedding = nn.Embedding(vocab_size, embedding_dim, padding_idx=0)\n",
    "        self.lstm = nn.LSTM(embedding_dim, hidden_dim, batch_first=True)\n",
    "        self.gru = nn.GRU(hidden_dim, hidden_dim)\n",
    "        self.linear = nn.Linear(hidden_dim, 2)\n",
    "        self.dropout = nn.Dropout(0.3)\n",
    "        \n",
    "    def forward(self, x, l):\n",
    "        x = self.embedding(x)\n",
    "        x = self.dropout(x)\n",
    "        #https://stackoverflow.com/questions/51030782/why-do-we-pack-the-sequences-in-pytorch\n",
    "        x_pack = pack_padded_sequence(x, l, batch_first=True, enforce_sorted=False)\n",
    "        out_pack, (ht, ct) = self.lstm(x_pack)\n",
    "        packed_output, ht = self.gru(out_pack)\n",
    "        # unpack the output from GRU\n",
    "        output, input_sizes = pad_packed_sequence(packed_output, batch_first=True)\n",
    "        # Map 3D to 2D, then it can be passed into a classifier\n",
    "        y = output[:, -1, :]\n",
    "        out = self.linear(y)\n",
    "        return out"
   ]
  },
  {
   "cell_type": "markdown",
   "metadata": {},
   "source": [
    "We creat a LSTM and GRU model."
   ]
  },
  {
   "cell_type": "code",
   "execution_count": 39,
   "metadata": {},
   "outputs": [],
   "source": [
    "model_LSTM_GRU = RNN_LSTM_GRU(vocab_size, 64, 64)"
   ]
  },
  {
   "cell_type": "markdown",
   "metadata": {},
   "source": [
    "Next, We train the model."
   ]
  },
  {
   "cell_type": "code",
   "execution_count": 40,
   "metadata": {},
   "outputs": [
    {
     "name": "stdout",
     "output_type": "stream",
     "text": [
      "epoch 1/15 - loss: 0.6930 - accuracy: 0.5100 - val_loss: 0.6928, val_accuracy 0.5082\n",
      "epoch 2/15 - loss: 0.6914 - accuracy: 0.5231 - val_loss: 0.6915, val_accuracy 0.5161\n",
      "epoch 3/15 - loss: 0.6878 - accuracy: 0.5347 - val_loss: 0.6865, val_accuracy 0.5324\n",
      "epoch 4/15 - loss: 0.6689 - accuracy: 0.5695 - val_loss: 0.6497, val_accuracy 0.5948\n",
      "epoch 5/15 - loss: 0.6418 - accuracy: 0.6027 - val_loss: 0.6292, val_accuracy 0.6141\n",
      "epoch 6/15 - loss: 0.6178 - accuracy: 0.6254 - val_loss: 0.6174, val_accuracy 0.6228\n",
      "epoch 7/15 - loss: 0.6012 - accuracy: 0.6381 - val_loss: 0.5973, val_accuracy 0.6405\n",
      "epoch 8/15 - loss: 0.5761 - accuracy: 0.6549 - val_loss: 0.5894, val_accuracy 0.6484\n",
      "epoch 9/15 - loss: 0.5573 - accuracy: 0.6683 - val_loss: 0.5804, val_accuracy 0.6563\n",
      "epoch 10/15 - loss: 0.5439 - accuracy: 0.6766 - val_loss: 0.5698, val_accuracy 0.6595\n",
      "epoch 11/15 - loss: 0.5334 - accuracy: 0.6824 - val_loss: 0.5713, val_accuracy 0.6609\n",
      "epoch 12/15 - loss: 0.5216 - accuracy: 0.6890 - val_loss: 0.5658, val_accuracy 0.6646\n",
      "epoch 13/15 - loss: 0.5119 - accuracy: 0.6938 - val_loss: 0.5670, val_accuracy 0.6667\n",
      "epoch 14/15 - loss: 0.5001 - accuracy: 0.7014 - val_loss: 0.5609, val_accuracy 0.6747\n",
      "epoch 15/15 - loss: 0.4960 - accuracy: 0.7044 - val_loss: 0.5529, val_accuracy 0.6770\n",
      "Wall time: 1h 46min 2s\n"
     ]
    }
   ],
   "source": [
    "%%time\n",
    "history = train_model(model_LSTM_GRU, epochs=15, lr=0.001)"
   ]
  },
  {
   "cell_type": "markdown",
   "metadata": {},
   "source": [
    "## Model Diagnostics of LSTM and GRU\n",
    "\n",
    "We check our model by plotting the losses and accuracies."
   ]
  },
  {
   "cell_type": "code",
   "execution_count": 41,
   "metadata": {},
   "outputs": [
    {
     "data": {
      "image/png": "[encoded data removed]",
      "text/plain": [
       "<Figure size 720x720 with 2 Axes>"
      ]
     },
     "metadata": {
      "needs_background": "light"
     },
     "output_type": "display_data"
    }
   ],
   "source": [
    "acc = history['accuracy']\n",
    "val_acc = history['val_accuracy']\n",
    "\n",
    "loss = history['loss']\n",
    "val_loss = history['val_loss']\n",
    "\n",
    "epochs = history['epoch']\n",
    "\n",
    "plt.figure(figsize=(10, 10))\n",
    "plt.subplot(1, 2, 1)\n",
    "plt.plot(epochs, acc, label='Training Accuracy')\n",
    "plt.plot(epochs, val_acc, label='Validation Accuracy')\n",
    "plt.legend(loc='lower right')\n",
    "plt.title('Training and Validation Accuracy')\n",
    "\n",
    "plt.subplot(1, 2, 2)\n",
    "plt.plot(epochs, loss, label='Training Loss')\n",
    "plt.plot(epochs, val_loss, label='Validation Loss')\n",
    "plt.legend(loc='lower left')\n",
    "plt.title('Training and Validation Loss')\n",
    "plt.show()"
   ]
  },
  {
   "cell_type": "markdown",
   "metadata": {},
   "source": [
    "# Summary\n",
    "\n",
    "+ We can use regular expressions to clean texts.\n",
    "+ Recurrent Neural Networks (RNN) are powerful tools to model sequential data such as texts and voices\n",
    "+ We use text vectorization to convert words to indices.\n",
    "+ We can convert word indices to dense vectors using embedding layers\n",
    "+ LSTM and GRU can deal with the vanishing gradient problems.\n",
    "+ We perform the text sentiment analysis using LSTM model.\n",
    "+ We apply GRU model to perform text classification.\n",
    "+ We learn how to evaluate the RNN models. \n"
   ]
  }
 ],
 "metadata": {
  "kernelspec": {
   "display_name": "Python 3 (ipykernel)",
   "language": "python",
   "name": "python3"
  },
  "language_info": {
   "codemirror_mode": {
    "name": "ipython",
    "version": 3
   },
   "file_extension": ".py",
   "mimetype": "text/x-python",
   "name": "python",
   "nbconvert_exporter": "python",
   "pygments_lexer": "ipython3",
   "version": "3.11.5"
  }
 },
 "nbformat": 4,
 "nbformat_minor": 4
}
