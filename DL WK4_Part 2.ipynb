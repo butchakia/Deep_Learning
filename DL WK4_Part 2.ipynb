{
 "cells": [
  {
   "cell_type": "markdown",
   "metadata": {},
   "source": [
    "# DSCI 619 Deep Learning\n",
    "# Week 4: Build Convolutional Neural Network (CNN) Models\n",
    "\n"
   ]
  },
  {
   "cell_type": "markdown",
   "metadata": {},
   "source": [
    "# Project of CIFAR-10 Image Classification Using PyTorch\n",
    "\n",
    "\n",
    "Let’s look at a real-world project of image classification using TensorFlow. We will cover how to perform image classification using CNN. (see https://pytorch.org/tutorials/beginner/blitz/cifar10_tutorial.html?highlight=image%20classification)\n",
    "This CIFAR-10 dataset (https://www.cs.toronto.edu/~kriz/cifar.html) containing 60,000 32x32 color images in 10 classes. It is a balanced classification with  6000 images for each class. The training dataset has 50,000 images, and the test data contains 10,000 images."
   ]
  },
  {
   "cell_type": "markdown",
   "metadata": {},
   "source": [
    "## Load and Clean the Data\n",
    "\n",
    "First, we load the libraries for CNN"
   ]
  },
  {
   "cell_type": "code",
   "execution_count": 1,
   "metadata": {},
   "outputs": [],
   "source": [
    "import torch\n",
    "import torchvision\n",
    "#import torchvision.transforms as transforms"
   ]
  },
  {
   "cell_type": "markdown",
   "metadata": {},
   "source": [
    "Next, we need to load the built-in dataset. The output of torchvision datasets is PIL images of range [0,1]. Next, we normalize it by subtracting the mean and dividing by the standard deviation.\n",
    "We compose these transforms together using compositions of transforms. (https://pytorch.org/docs/stable/torchvision/transforms.html)\n"
   ]
  },
  {
   "cell_type": "code",
   "execution_count": 2,
   "metadata": {},
   "outputs": [
    {
     "name": "stdout",
     "output_type": "stream",
     "text": [
      "Files already downloaded and verified\n",
      "Files already downloaded and verified\n"
     ]
    }
   ],
   "source": [
    "MU= 0.5\n",
    "SIGMA = 0.5\n",
    "transform = torchvision.transforms.Compose(\n",
    "    [torchvision.transforms.ToTensor(),\n",
    "     torchvision.transforms.Normalize((MU, MU, MU), (SIGMA, SIGMA, SIGMA))])\n",
    "\n",
    "train_dataset = torchvision.datasets.CIFAR10(root='./data', train=True,\n",
    "                                        download=True, transform=transform)\n",
    "train_loader = torch.utils.data.DataLoader(train_dataset, batch_size=4,\n",
    "                                          shuffle=True, num_workers=2)\n",
    "\n",
    "test_dataset = torchvision.datasets.CIFAR10(root='./data', train=False,\n",
    "                                       download=True, transform=transform)\n",
    "test_loader = torch.utils.data.DataLoader(test_dataset, batch_size=4,\n",
    "                                         shuffle=False, num_workers=2)\n",
    "\n",
    "class_label = ('airplane', 'automobile', 'bird', 'cat',\n",
    "           'deer', 'dog', 'frog', 'horse', 'ship', 'truck')"
   ]
  },
  {
   "cell_type": "markdown",
   "metadata": {},
   "source": [
    "Next, let's check the sizes of the datasets"
   ]
  },
  {
   "cell_type": "code",
   "execution_count": 3,
   "metadata": {},
   "outputs": [
    {
     "name": "stdout",
     "output_type": "stream",
     "text": [
      " The images shape = torch.Size([4, 3, 32, 32]), and the label encoding = tensor([4, 3, 7, 8])\n"
     ]
    }
   ],
   "source": [
    "# get some random training images\n",
    "data_iter = iter(train_loader)\n",
    "# Get next batch of 4 images\n",
    "images, labels = data_iter.next()\n",
    "print(f' The images shape = {images.shape}, and the label encoding = {labels}')"
   ]
  },
  {
   "cell_type": "markdown",
   "metadata": {},
   "source": [
    "It is easy for us to see that:\n",
    "\n",
    "+ The label is a one-dimensional tensor as we see before.\n",
    "+ But the features are four-dimensional vectors, unlike the typical two-dimensional vector early.\n",
    "  It has the format of **(N, C, H, W)** in TensorFlow\n",
    "    + N: The first dimension denotes the number of images; for example, there are 4 images in a batch specified in the torch.utils.data.DataLoader.\n",
    "    + C: A channel is the same size as a color image with only one of these primary colors. (see https://en.wikipedia.org/wiki/Channel_(digital_image)) For example, A grayscale image has just one channel. A color image typically has three channels, red, green, and blue. In general, we may think the channel holds some information about the image. It could be a larger number, such as 64. \n",
    "    + H: It specifies the width of an image in pixels. (see https://en.wikipedia.org/wiki/Pixel). For most images, pixel values range from 0 (black) to 255 (white). (see https://www.whydomath.org/node/wavlets/imagebasics.html)\n",
    "    + W: It specifies the height of an image in pixels.\n",
    "    \n",
    "\n",
    "Keep in mind that the **features must be a 4 D vector of (N, C, H, W) in PyTorch**. If the images in a different format (N, H, W, C) can be converted to (N, C, H, W) using np.einsum or np.transpose. (see https://stackoverflow.com/questions/23943379/swapping-the-dimensions-of-a-numpy-array or https://stackoverflow.com/questions/37689423/convert-between-nhwc-and-nchw-in-tensorflow) "
   ]
  },
  {
   "cell_type": "markdown",
   "metadata": {},
   "source": [
    "\n",
    "## Visualize the Images\n",
    "\n",
    "If we try to print out the 3D array, we have $3\\times 32\\times 32= 3072$ elements. The information is overwhelming."
   ]
  },
  {
   "cell_type": "code",
   "execution_count": 4,
   "metadata": {},
   "outputs": [
    {
     "data": {
      "text/plain": [
       "tensor([[[-0.3098, -0.3490, -0.3961,  ..., -0.2471, -0.3176, -0.3176],\n",
       "         [-0.3176, -0.3490, -0.3961,  ..., -0.3412, -0.3412, -0.3725],\n",
       "         [-0.3333, -0.3412, -0.3647,  ..., -0.3647, -0.3725, -0.3804],\n",
       "         ...,\n",
       "         [-0.1843, -0.2000, -0.2706,  ..., -0.2000, -0.2078, -0.1922],\n",
       "         [-0.2314, -0.2000, -0.2157,  ..., -0.1686, -0.2000, -0.1922],\n",
       "         [-0.2863, -0.2392, -0.2157,  ..., -0.1765, -0.2000, -0.1922]],\n",
       "\n",
       "        [[-0.0196, -0.0510, -0.0588,  ..., -0.0275, -0.0588, -0.0431],\n",
       "         [ 0.0196, -0.0039, -0.0196,  ..., -0.0118,  0.0275,  0.0039],\n",
       "         [ 0.0196,  0.0118,  0.0353,  ..., -0.0039,  0.0431,  0.0275],\n",
       "         ...,\n",
       "         [ 0.2000,  0.1765,  0.1059,  ...,  0.1686,  0.1137,  0.1294],\n",
       "         [ 0.1765,  0.1922,  0.1843,  ...,  0.1843,  0.1216,  0.1373],\n",
       "         [ 0.1451,  0.1765,  0.1922,  ...,  0.1843,  0.1216,  0.1608]],\n",
       "\n",
       "        [[-0.4118, -0.4275, -0.4510,  ..., -0.3412, -0.4039, -0.3804],\n",
       "         [-0.4353, -0.4353, -0.4667,  ..., -0.4039, -0.4039, -0.4275],\n",
       "         [-0.4824, -0.4745, -0.4745,  ..., -0.4588, -0.4588, -0.4745],\n",
       "         ...,\n",
       "         [-0.4745, -0.4824, -0.5843,  ..., -0.5608, -0.5686, -0.5451],\n",
       "         [-0.5294, -0.4824, -0.4980,  ..., -0.5294, -0.5294, -0.5608],\n",
       "         [-0.5922, -0.5373, -0.4980,  ..., -0.5137, -0.5059, -0.5608]]])"
      ]
     },
     "execution_count": 4,
     "metadata": {},
     "output_type": "execute_result"
    }
   ],
   "source": [
    "images[0]"
   ]
  },
  {
   "cell_type": "code",
   "execution_count": 5,
   "metadata": {},
   "outputs": [
    {
     "data": {
      "image/png": "[encoded data removed]",
      "text/plain": [
       "<Figure size 720x720 with 4 Axes>"
      ]
     },
     "metadata": {},
     "output_type": "display_data"
    }
   ],
   "source": [
    "import matplotlib.pyplot as plt\n",
    "import numpy as np\n",
    "import os\n",
    "import random\n",
    "\n",
    "\n",
    "# Fix the seed to reproduce the results\n",
    "SEED = 1001\n",
    "os.environ['PYTHONHASHSEED']=str(SEED)\n",
    "os.environ['TF_CUDNN_DETERMINISTIC'] = '1'  # new flag present in tf 2.0+\n",
    "random.seed(SEED)\n",
    "np.random.seed(SEED)\n",
    "torch.manual_seed(SEED)\n",
    "\n",
    "\n",
    "plt.figure(figsize=(10,10))\n",
    "for i in range(4):\n",
    "    plt.subplot(1,4,i+1)\n",
    "    plt.xticks([])\n",
    "    plt.yticks([])\n",
    "    # Unnormalize it\n",
    "    img = images[i]\n",
    "    img = img *SIGMA + MU    \n",
    "    npimg = img.numpy()\n",
    "    # Display the image, imshow only support(H, W, C)\n",
    "    plt.imshow(np.transpose(npimg, (1, 2, 0)))\n",
    "    # Label it by mapping the class id to class labels\n",
    "    plt.xlabel(class_label[labels[i]])\n",
    "plt.show()"
   ]
  },
  {
   "cell_type": "markdown",
   "metadata": {},
   "source": [
    "## Create a Simple CNN Model\n",
    "\n",
    "When we do image classification, unlike typical class classification such as loan application based on  numerical features such as income and employment, etc., the image classification is very challenging in the following ways:\n",
    "\n",
    "+ The feature is not 1 D Tensor. It is a 3-dimensional matrix such as 32*32*3 with 3072 elements.\n",
    "+ There could be a dog in the image. But the dog's location could be anywhere, such as in the top left corner, center, bottom right corner, etc., our algorithm should handle the translation invariance.\n",
    "\n",
    "Let's see how human eyes and brain can detect the Maryville Logo (**M**) in the following image: \n",
    "\n",
    "<img src = \"MU.jpg\">"
   ]
  },
  {
   "cell_type": "markdown",
   "metadata": {},
   "source": [
    "When we search it, our eyes and brain only focus on a small region, for example, the size of $3\\times 3$ window, then we scan it from left to the right and top to bottom using the small rolling window to cover the whole image. Our eyes may detect three **M** in this image. The key idea here is to focus on a small region/window and check this rolling window with the shape of **M** in our brain. The Convolution Neural Networks (CNN) apply the same idea to detect the **M**.\n",
    "\n",
    "+ It uses a convolution filter (or kernel window, or convolution window) that is typically very small such as $2\\times 2, 3\\times 3$, etc.\n",
    "+ It performs the convolution operator(see: https://en.wikipedia.org/wiki/Convolution) to check the similarity.\n",
    "Roughly speaking, it is the cross-correlation operation that is similar to the Pearson correlation coefficient(see: https://en.wikipedia.org/wiki/Pearson_correlation_coefficient)."
   ]
  },
  {
   "cell_type": "markdown",
   "metadata": {},
   "source": [
    "For example, for a given $6 \\times 6$ image and a filter window size of $3 \\times 3$, The following graph summarizes the convolution operation:\n",
    "\n",
    "<img src = \"CNN.png\">\n",
    "\n",
    "Source: https://stanford.edu/~shervine/teaching/cs-230/cheatsheet-convolutional-neural-networks\n",
    "\n",
    "This filter performs elementwise multiplication for corresponding pixes in the sliding windows and the filter windows. It maps $3\\times 3$ matrix to a scalar.  We can estimate the filter's weights from the data. This figure can help us detect edges in images.\n",
    "\n",
    "The dynamic graphs above move 1-pixel horizontally and vertically. It is called the stride =1. When we roll the filter window from left to right or top to bottom, we may move more than 1 pixel, such as 2 pixels. It is called the **strides** of the convolution along with the height and width.\n",
    "\n",
    "By the graph above, we can see that it lose pixels after convolution is applied. We can add pixel values of zeros around the input image. \n",
    "\n",
    "Padding is very important in CNN. It is summarized in the following:\n",
    "\n",
    "1. It's easier to design networks if we preserve the height and width and don't have to worry too much about tensor dimensions when going from one layer to another because dimensions will just \"work\".\n",
    "\n",
    "2. It allows us to design deeper networks. Without padding, a reduction in volume size would reduce too quickly.\n",
    "\n",
    "3. Padding improves performance by keeping information at the borders. \n",
    "\n",
    "Source: https://stats.stackexchange.com/questions/246512/convolutional-layers-to-pad-or-not-to-pad\n"
   ]
  },
  {
   "cell_type": "markdown",
   "metadata": {},
   "source": [
    "After we apply the convolution layer, we typically apply a pooling layer (see https://d2l.ai/chapter_convolutional-neural-networks/pooling.html)  using a small pooling window as $ 2 \\times 2$. It helps reduce the dimensionality of the output. There are two popular pooling methods:\n",
    "+ Maximum pooling takes the maximum pixel in the pooling window. It is the most commonly used method in CNN.\n",
    "+ Average pooling takes the average of pixels in the pooling.\n",
    "\n",
    "We can apply many layers of convolution and pooling to summarize the image. Finally, We typically get a 4-dimensional matrix of $N\\times C\\times H \\times W$. \n",
    "\n",
    "We will use two functions of **torch.nn.Conv2d** (https://pytorch.org/docs/stable/generated/torch.nn.Conv2d.html)  and **torch.nn.MaxPool2d** (https://pytorch.org/docs/stable/generated/torch.nn.MaxPool2d.html) to perform image classification."
   ]
  },
  {
   "cell_type": "markdown",
   "metadata": {},
   "source": [
    "Let's create our first CNN model using PyTorch\n",
    "+ First convolution with in_channels =3 that is the channels of the input image. We specify the out_channels = 32 and kernel_size = 3; which means the same value of 3  is used for the height and width dimension.\n",
    "+ Max Pooling layer with a kernel size of $2 \\times 2$ \n",
    "+ Second Convolution layer with in_channels =32 that is the out_channels of the first convolution layer.  We specify the out_channels = 64 and kernel_size = 3; which means the same value of 3  is used for the height and width dimension."
   ]
  },
  {
   "cell_type": "markdown",
   "metadata": {},
   "source": [
    "### Add Classifier at the End\n",
    "The target has ten cases. It is a classification problem. We have learned how to perform classification using neuron networks on a 2-dimensional features matrix of $ N\\times C$. But the inputs (the output of the last layer above is a 4D matrix). Therefore we need to convert the 4D matrix to a 2D matrix. We need to flatten the input from a 4D to a 2D matrix manually using **nn.Linear** method. (see: https://pytorch.org/docs/stable/generated/torch.nn.Linear.html) \n",
    "\n",
    "+ The first Linear method with in_features = $64 \\times 6 \\times 6$ that must be calculated carefully using some mathematical formula. (see https://arxiv.org/abs/1603.07285). But We have a shortcut to get the size of the in_features by **printing it out immediately before the first nn.Linear method**. We will show you in a few cells. We choose the out_features = 128.\n",
    "+ The second Linear method with in_features =128 that is the out_features of the previous Linear layer. We specify the out_features =64.\n",
    "+ The **last layer** (third Linear method) with in_features =64 is the out_features of the previous Linear layer. Since there are ten unique cases in the label, the last layer must use ten neurons. We specify the out_features = 10. \n",
    "\n"
   ]
  },
  {
   "cell_type": "code",
   "execution_count": 6,
   "metadata": {},
   "outputs": [],
   "source": [
    "import torch.nn as nn\n",
    "import torch.nn.functional as F\n",
    "\n",
    "\n",
    "class CNNNet(nn.Module):\n",
    "    def __init__(self):\n",
    "        super(CNNNet, self).__init__()\n",
    "        self.conv1 = nn.Conv2d(3, 32, 3)\n",
    "        self.pool = nn.MaxPool2d(2, 2)\n",
    "        self.conv2 = nn.Conv2d(32, 64, 3)\n",
    "        # the in_feautures o 64 * 6 * 6 to be determined later\n",
    "        self.fc1 = nn.Linear(64 * 6 * 6, 128)\n",
    "        self.fc2 = nn.Linear(128, 64)\n",
    "        self.fc3 = nn.Linear(64, 10)\n",
    "\n",
    "    def forward(self, x):\n",
    "        #print(x.shape)\n",
    "        x = self.pool(F.relu(self.conv1(x)))\n",
    "        x = self.pool(F.relu(self.conv2(x)))\n",
    "        #print(f' x= {x.shape}')\n",
    "        #sys.exit()\n",
    "        # the volum number of 64 * 6 * 6 to be determine later\n",
    "        # -1 means the the actual value for the first dimension will be inferred\n",
    "        # so that the number of elements in the view matches the original number of elements.\n",
    "        x = x.view(-1, 64 * 6 * 6)\n",
    "        x = F.relu(self.fc1(x))\n",
    "        x = F.relu(self.fc2(x))\n",
    "        x = self.fc3(x)\n",
    "        return x\n",
    "CNNNet = CNNNet()"
   ]
  },
  {
   "cell_type": "markdown",
   "metadata": {},
   "source": [
    "## Configure the Model\n",
    "\n",
    "We specify the optimizer as SGD (see https://pytorch.org/docs/stable/optim.html?highlight=optim%20sgd#torch.optim.SGD) with learning rate and momentum. It is a multiclass classification problems. The loss function should be **nn.CrossEntropyLoss()** (see https://pytorch.org/docs/stable/generated/torch.nn.CrossEntropyLoss.html). "
   ]
  },
  {
   "cell_type": "code",
   "execution_count": 7,
   "metadata": {},
   "outputs": [],
   "source": [
    "import torch.optim as optim\n",
    "\n",
    "criterion = nn.CrossEntropyLoss()\n",
    "optimizer = optim.SGD(CNNNet.parameters(), lr=0.001, momentum=0.9)"
   ]
  },
  {
   "cell_type": "markdown",
   "metadata": {},
   "source": [
    "## Train the CNN Model\n",
    "\n",
    "We need to write a nested loop to train the CNN model. The outer loop takes care of the epochs. The inner loop takes care of the iterations based on the batch size. There are 50,000 images in the training dataset, and the batch size = 4. Therefore, the iteration= $\\frac{50,000}{4}=12,500$. We also need to compute the loss for each epoch by aggregating the loss of all 12,500 iterations. "
   ]
  },
  {
   "cell_type": "code",
   "execution_count": 8,
   "metadata": {},
   "outputs": [
    {
     "name": "stdout",
     "output_type": "stream",
     "text": [
      "[Epoch: 1, batch: [0 to 1000]] loss =2.24\n",
      "[Epoch: 1, batch: [1000 to 2000]] loss =2.01\n",
      "[Epoch: 1, batch: [2000 to 3000]] loss =1.82\n",
      "[Epoch: 1, batch: [3000 to 4000]] loss =1.68\n",
      "[Epoch: 1, batch: [4000 to 5000]] loss =1.60\n",
      "[Epoch: 1, batch: [5000 to 6000]] loss =1.51\n",
      "[Epoch: 1, batch: [6000 to 7000]] loss =1.44\n",
      "[Epoch: 1, batch: [7000 to 8000]] loss =1.40\n",
      "[Epoch: 1, batch: [8000 to 9000]] loss =1.40\n",
      "[Epoch: 1, batch: [9000 to 10000]] loss =1.31\n",
      "[Epoch: 1, batch: [10000 to 11000]] loss =1.28\n",
      "[Epoch: 1, batch: [11000 to 12000]] loss =1.29\n",
      "[Epoch: 2, batch: [0 to 1000]] loss =1.19\n",
      "[Epoch: 2, batch: [1000 to 2000]] loss =1.19\n",
      "[Epoch: 2, batch: [2000 to 3000]] loss =1.16\n",
      "[Epoch: 2, batch: [3000 to 4000]] loss =1.14\n",
      "[Epoch: 2, batch: [4000 to 5000]] loss =1.09\n",
      "[Epoch: 2, batch: [5000 to 6000]] loss =1.09\n",
      "[Epoch: 2, batch: [6000 to 7000]] loss =1.08\n",
      "[Epoch: 2, batch: [7000 to 8000]] loss =1.07\n",
      "[Epoch: 2, batch: [8000 to 9000]] loss =1.10\n",
      "[Epoch: 2, batch: [9000 to 10000]] loss =1.07\n",
      "[Epoch: 2, batch: [10000 to 11000]] loss =1.02\n",
      "[Epoch: 2, batch: [11000 to 12000]] loss =1.02\n",
      "Complet Training of {EPOCHS} epochs!\n",
      "Wall time: 2min 51s\n"
     ]
    }
   ],
   "source": [
    "%%time\n",
    "import sys\n",
    "report_batchs = 1000\n",
    "EPOCHS = 2\n",
    "# Pass the whole dataset multiple times to CNN Model\n",
    "for epoch in range(EPOCHS):  \n",
    "\n",
    "    running_loss = 0.0\n",
    "    # take out a batch if size 4 from the training data\n",
    "    for i, data in enumerate(train_loader, 0):\n",
    "        # Get the inputs/features and labels\n",
    "        inputs, labels = data\n",
    "\n",
    "        # Reset gradients = 0\n",
    "        optimizer.zero_grad()\n",
    "\n",
    "        # Forward progagation to compute the outputs\n",
    "        outputs = CNNNet(inputs)\n",
    "        loss = criterion(outputs, labels)\n",
    "        # Backward propagation and compute the gradient\n",
    "        loss.backward()\n",
    "        # Update the weights \n",
    "        optimizer.step()\n",
    "\n",
    "        # print statistics\n",
    "        running_loss += loss.item()\n",
    "        if i % report_batchs == report_batchs -1:\n",
    "            print(f'[Epoch: {epoch + 1}, batch: [{i+1-report_batchs} to {i+1}]] loss ={running_loss / report_batchs:.2f}')\n",
    "            running_loss = 0.0\n",
    "print('Complet Training of {EPOCHS} epochs!')"
   ]
  },
  {
   "cell_type": "markdown",
   "metadata": {},
   "source": [
    "### Determine the Shape of the First Linear Layer\n",
    "\n",
    "We can easily print out the shape of the first linear layer by inserting a print command immediately before it."
   ]
  },
  {
   "cell_type": "code",
   "execution_count": 9,
   "metadata": {},
   "outputs": [
    {
     "name": "stdout",
     "output_type": "stream",
     "text": [
      " x= torch.Size([4, 64, 6, 6])\n"
     ]
    },
    {
     "ename": "SystemExit",
     "evalue": "",
     "output_type": "error",
     "traceback": [
      "An exception has occurred, use %tb to see the full traceback.\n",
      "\u001b[1;31mSystemExit\u001b[0m\n"
     ]
    },
    {
     "name": "stderr",
     "output_type": "stream",
     "text": [
      "C:\\Users\\liuyu\\anaconda3\\lib\\site-packages\\IPython\\core\\interactiveshell.py:3426: UserWarning: To exit: use 'exit', 'quit', or Ctrl-D.\n",
      "  warn(\"To exit: use 'exit', 'quit', or Ctrl-D.\", stacklevel=1)\n"
     ]
    }
   ],
   "source": [
    "import torch.nn as nn\n",
    "import torch.nn.functional as F\n",
    "\n",
    "# Define the CNN Model\n",
    "class CNNNet(nn.Module):\n",
    "    def __init__(self):\n",
    "        super(CNNNet, self).__init__()\n",
    "        self.conv1 = nn.Conv2d(3, 32, 3)\n",
    "        self.pool = nn.MaxPool2d(2, 2)\n",
    "        self.conv2 = nn.Conv2d(32, 64, 3)\n",
    "        # the in_feautures  to be determined; we just use a place holder such as 10*10*10\n",
    "        self.fc1 = nn.Linear(10 * 10 * 10, 128)\n",
    "        self.fc2 = nn.Linear(128, 64)\n",
    "        self.fc3 = nn.Linear(64, 10)\n",
    "\n",
    "    def forward(self, x):\n",
    "        #print(x.shape)\n",
    "        x = self.pool(F.relu(self.conv1(x)))\n",
    "        x = self.pool(F.relu(self.conv2(x)))\n",
    "        # We just ADD the print command to print out the shape immediately BEFORE we flatten it using view\n",
    "        print(f' x= {x.shape}')\n",
    "        # Don't forget exit since we only need to print it once\n",
    "        sys.exit()\n",
    "        # the volum number of to be determine, we just use a place holder of 10*10*10\n",
    "        # -1 means the the actual value for the first dimension will be inferred\n",
    "        # so that the number of elements in the view matches the original number of elements.\n",
    "        x = x.view(-1, 10 * 10 * 10)\n",
    "        x = F.relu(self.fc1(x))\n",
    "        x = F.relu(self.fc2(x))\n",
    "        x = self.fc3(x)\n",
    "        return x\n",
    "CNNNet = CNNNet()\n",
    "\n",
    "# Configure the CNN\n",
    "import torch.optim as optim\n",
    "\n",
    "criterion = nn.CrossEntropyLoss()\n",
    "optimizer = optim.SGD(CNNNet.parameters(), lr=0.001, momentum=0.9)\n",
    "\n",
    "# Train the model\n",
    "\n",
    "import sys\n",
    "report_batchs = 1000\n",
    "EPOCHS = 2\n",
    "# Pass the whole dataset multiple times to CNN Model\n",
    "for epoch in range(EPOCHS):  \n",
    "\n",
    "    running_loss = 0.0\n",
    "    # take out a batch if size 4 from the training data\n",
    "    for i, data in enumerate(train_loader, 0):\n",
    "        # Get the inputs/features and labels\n",
    "        inputs, labels = data\n",
    "\n",
    "        # Reset gradients = 0\n",
    "        optimizer.zero_grad()\n",
    "\n",
    "        # Forward progagation to compute the outputs\n",
    "        outputs = CNNNet(inputs)\n",
    "        loss = criterion(outputs, labels)\n",
    "        # Backward propagation and compute the gradient\n",
    "        loss.backward()\n",
    "        # Update the weights \n",
    "        optimizer.step()\n",
    "\n",
    "        # print statistics\n",
    "        running_loss += loss.item()\n",
    "        if i % report_batchs == report_batchs -1:\n",
    "            print(f'[Epoch: {epoch + 1}, batch: [{i+1-report_batchs} to {i+1}]] loss ={running_loss / report_batchs:.2f}')\n",
    "            running_loss = 0.0\n",
    "print('Complet Training of {EPOCHS} epochs!')"
   ]
  },
  {
   "cell_type": "markdown",
   "metadata": {},
   "source": [
    "By looking at the output above, we can easily see that the shape of the input is the size of [4, 64, 6, 6] in **[N, C, H, W]**. Where\n",
    "+ N = 4; There are four images since the batch size is 4\n",
    "+ C = 64, We specified 64 channels in the last Conv2D\n",
    "+ H = 6 pixels\n",
    "+ W = 6 pixels\n",
    "\n",
    "Therefore, we need to convert the 4 D to 2D by converting [C, H, W] to a column vector with a size of = $C \\times H \\times W$\n",
    "i.e. \n",
    "\n",
    "+ In the first nn.Linear method, the in_feautures = $64 \\times  6 \\times 6$\n",
    "+ The second parameter in the x = x.view(-1, ) should be $64 \\times  6 \\times 6$"
   ]
  },
  {
   "cell_type": "markdown",
   "metadata": {},
   "source": [
    "## Evaluate the Model on the Test Dataset\n",
    "\n",
    "We want to evaluate the CNN model by forecast the test dataset and check the accuracy on one batch of size 4. "
   ]
  },
  {
   "cell_type": "code",
   "execution_count": 9,
   "metadata": {},
   "outputs": [
    {
     "data": {
      "image/png": "[encoded data removed]",
      "text/plain": [
       "<Figure size 720x720 with 4 Axes>"
      ]
     },
     "metadata": {},
     "output_type": "display_data"
    }
   ],
   "source": [
    "# take out one batch of size of 4 from test dataset\n",
    "dataiter = iter(test_loader)\n",
    "images, labels = dataiter.next()\n",
    "outputs = CNNNet(images)\n",
    "# Take out the index of the emaximum value \n",
    "_, predicted_labels = torch.max(outputs, 1)\n",
    "\n",
    "plt.figure(figsize=(10,10))\n",
    "for i in range(4):\n",
    "    plt.subplot(1,4,i+1)\n",
    "    plt.xticks([])\n",
    "    plt.yticks([])\n",
    "    # Unnormalize it\n",
    "    img = images[i]\n",
    "    img = img *SIGMA + MU    \n",
    "    npimg = img.numpy()\n",
    "    # Display the image, imshow only support(H, W, C)\n",
    "    plt.imshow(np.transpose(npimg, (1, 2, 0)))\n",
    "    # Label it by mapping the class id to class labels\n",
    "    plt.xlabel(class_label[predicted_labels[i]])\n",
    "plt.show()"
   ]
  },
  {
   "cell_type": "markdown",
   "metadata": {},
   "source": [
    "Finally let's summarize the classification report for the test dataset. There are ten cases in the label. We will compute the accuracy for each class. When we evaluate the model, we don't need to update the weights. Therefore, we don't need to use gradient by specifying torch.no_grad."
   ]
  },
  {
   "cell_type": "code",
   "execution_count": 10,
   "metadata": {},
   "outputs": [
    {
     "name": "stdout",
     "output_type": "stream",
     "text": [
      "Accuracy of airplane = 73.40\n",
      "Accuracy of automobile = 80.90\n",
      "Accuracy of bird = 51.70\n",
      "Accuracy of cat = 54.50\n",
      "Accuracy of deer = 47.40\n",
      "Accuracy of dog = 52.40\n",
      "Accuracy of frog = 77.70\n",
      "Accuracy of horse = 78.30\n",
      "Accuracy of ship = 71.40\n",
      "Accuracy of truck = 74.10\n"
     ]
    }
   ],
   "source": [
    "class_correct = list(0. for i in range(10))\n",
    "class_total = list(0. for i in range(10))\n",
    "# No need to estimate gradient\n",
    "with torch.no_grad():\n",
    "    # loop over the test dataset by taking out a batch of size 4 each time\n",
    "    for data in test_loader:\n",
    "        # Seperate the features and labels\n",
    "        images, labels = data\n",
    "        # Forecast the labels for a batch of size 4\n",
    "        outputs = CNNNet(images)\n",
    "        # Get the index of the maximum value , which is the predicted class index\n",
    "        _, predicted = torch.max(outputs, 1)\n",
    "        # Check wehter the predicted labels matche the actual label index\n",
    "        c = (predicted == labels).squeeze()\n",
    "        # Handle one batch of size 4 images\n",
    "        for i in range(4):\n",
    "            label = labels[i]\n",
    "            # Update the counters of corrected classes and total classes\n",
    "            class_correct[label] += c[i].item()\n",
    "            class_total[label] += 1\n",
    "#print it out\n",
    "for i in range(10):\n",
    "    print(f'Accuracy of {class_label[i]} = {100 * class_correct[i] / class_total[i]:.2f}')"
   ]
  },
  {
   "cell_type": "markdown",
   "metadata": {},
   "source": [
    "# Create the Image Classification Model Using Transfer Learning from a Pre-trained Network\n",
    "\n",
    "Instead of training the model from scratch, we can take advantage of the pre-trained neuron network on a large dataset. It is very time-consuming to train it. We don't need to reinvent the wheel. We can stand on the shoulders of the giants. \n",
    "\n",
    "PyTorch includes the following pre-trained neuron networks. (see https://pytorch.org/vision/0.8/models.html)\n",
    "\n",
    "+ AlexNet\n",
    "+ VGG\n",
    "+ ResNet\n",
    "+ SqueezeNet\n",
    "+ DenseNet\n",
    "+ Inception v3\n",
    "+ GoogLeNet\n",
    "+ ShuffleNet v2\n",
    "+ MobileNet v2\n",
    "+ ResNeXt\n",
    "+ Wide ResNet\n",
    "+ MNASNet\n",
    "\n",
    "We typically need to **override the last layer/top (fully-connected layer)** of the neuron network and **add our classifier in the end**.\n",
    "\n",
    "For illustration purpose, we use the **torchvision.models.resnet34** (see https://arxiv.org/abs/1512.03385). We use the pre-trained modeld by specifying  **pretrained=True**\n"
   ]
  },
  {
   "cell_type": "code",
   "execution_count": 11,
   "metadata": {},
   "outputs": [],
   "source": [
    "model_resnet34 = torchvision.models.resnet34(pretrained=True)\n",
    "for param in model_resnet34.parameters():\n",
    "    param.requires_grad = False\n",
    "\n",
    "# Parameters of newly constructed modules have requires_grad=True by default\n",
    "num_ftrs = model_resnet34.fc.in_features\n",
    "model_resnet34.fc = nn.Linear(num_ftrs, 10)\n",
    "\n",
    "criterion = nn.CrossEntropyLoss()\n",
    "\n",
    "# Observe that only parameters of final layer are being optimized as\n",
    "# opposed to before.\n",
    "optimizer = optim.SGD(model_resnet34.fc.parameters(), lr=0.001, momentum=0.9)\n",
    "\n"
   ]
  },
  {
   "cell_type": "code",
   "execution_count": 12,
   "metadata": {},
   "outputs": [
    {
     "name": "stdout",
     "output_type": "stream",
     "text": [
      "[Epoch: 1, batch: [0 to 1000]] loss =2.56\n",
      "[Epoch: 1, batch: [1000 to 2000]] loss =2.58\n",
      "[Epoch: 1, batch: [2000 to 3000]] loss =2.55\n",
      "[Epoch: 1, batch: [3000 to 4000]] loss =2.59\n",
      "[Epoch: 1, batch: [4000 to 5000]] loss =2.57\n",
      "[Epoch: 1, batch: [5000 to 6000]] loss =2.63\n",
      "[Epoch: 1, batch: [6000 to 7000]] loss =2.60\n",
      "[Epoch: 1, batch: [7000 to 8000]] loss =2.53\n",
      "[Epoch: 1, batch: [8000 to 9000]] loss =2.56\n",
      "[Epoch: 1, batch: [9000 to 10000]] loss =2.57\n",
      "[Epoch: 1, batch: [10000 to 11000]] loss =2.56\n",
      "[Epoch: 1, batch: [11000 to 12000]] loss =2.65\n",
      "[Epoch: 2, batch: [0 to 1000]] loss =2.55\n",
      "[Epoch: 2, batch: [1000 to 2000]] loss =2.59\n",
      "[Epoch: 2, batch: [2000 to 3000]] loss =2.66\n",
      "[Epoch: 2, batch: [3000 to 4000]] loss =2.63\n",
      "[Epoch: 2, batch: [4000 to 5000]] loss =2.57\n",
      "[Epoch: 2, batch: [5000 to 6000]] loss =2.62\n",
      "[Epoch: 2, batch: [6000 to 7000]] loss =2.50\n",
      "[Epoch: 2, batch: [7000 to 8000]] loss =2.64\n",
      "[Epoch: 2, batch: [8000 to 9000]] loss =2.64\n",
      "[Epoch: 2, batch: [9000 to 10000]] loss =2.60\n",
      "[Epoch: 2, batch: [10000 to 11000]] loss =2.60\n",
      "[Epoch: 2, batch: [11000 to 12000]] loss =2.60\n",
      "Complet Training of {EPOCHS} epochs!\n",
      "Wall time: 26min 46s\n"
     ]
    }
   ],
   "source": [
    "%%time\n",
    "import sys\n",
    "report_batchs = 1000\n",
    "EPOCHS = 2\n",
    "# Pass the whole dataset multiple times to CNN Model\n",
    "for epoch in range(EPOCHS):  \n",
    "\n",
    "    running_loss = 0.0\n",
    "    # take out a batch if size 4 from the training data\n",
    "    for i, data in enumerate(train_loader, 0):\n",
    "        # Get the inputs/features and labels\n",
    "        inputs, labels = data\n",
    "\n",
    "        # Reset gradients = 0\n",
    "        optimizer.zero_grad()\n",
    "\n",
    "        # Forward progagation to compute the outputs\n",
    "        outputs = model_resnet34(inputs)\n",
    "        loss = criterion(outputs, labels)\n",
    "        # Backward propagation and compute the gradient\n",
    "        loss.backward()\n",
    "        # Update the weights \n",
    "        optimizer.step()\n",
    "\n",
    "        # print statistics\n",
    "        running_loss += loss.item()\n",
    "        if i % report_batchs == report_batchs -1:\n",
    "            print(f'[Epoch: {epoch + 1}, batch: [{i+1-report_batchs} to {i+1}]] loss ={running_loss / report_batchs:.2f}')\n",
    "            running_loss = 0.0\n",
    "print('Complet Training of {EPOCHS} epochs!')"
   ]
  },
  {
   "cell_type": "markdown",
   "metadata": {},
   "source": [
    "## Evaluate the Model on the Test Dataset\n",
    "\n",
    "We want to evaluate the CNN model by forecast the test dataset and check the accuracy on one batch of size 4. "
   ]
  },
  {
   "cell_type": "code",
   "execution_count": 13,
   "metadata": {},
   "outputs": [
    {
     "data": {
      "image/png": "[encoded data removed]",
      "text/plain": [
       "<Figure size 720x720 with 4 Axes>"
      ]
     },
     "metadata": {},
     "output_type": "display_data"
    }
   ],
   "source": [
    "# take out one batch of size of 4 from test dataset\n",
    "dataiter = iter(test_loader)\n",
    "images, labels = dataiter.next()\n",
    "outputs = model_resnet34(images)\n",
    "# Take out the index of the emaximum value \n",
    "_, predicted_labels = torch.max(outputs, 1)\n",
    "\n",
    "plt.figure(figsize=(10,10))\n",
    "for i in range(4):\n",
    "    plt.subplot(1,4,i+1)\n",
    "    plt.xticks([])\n",
    "    plt.yticks([])\n",
    "    # Unnormalize it\n",
    "    img = images[i]\n",
    "    img = img *SIGMA + MU    \n",
    "    npimg = img.numpy()\n",
    "    # Display the image, imshow only support(H, W, C)\n",
    "    plt.imshow(np.transpose(npimg, (1, 2, 0)))\n",
    "    # Label it by mapping the class id to class labels\n",
    "    plt.xlabel(class_label[predicted_labels[i]])\n",
    "plt.show()"
   ]
  },
  {
   "cell_type": "code",
   "execution_count": 14,
   "metadata": {},
   "outputs": [
    {
     "name": "stdout",
     "output_type": "stream",
     "text": [
      "Accuracy of airplane = 57.60\n",
      "Accuracy of automobile = 46.20\n",
      "Accuracy of bird = 12.80\n",
      "Accuracy of cat = 13.70\n",
      "Accuracy of deer = 24.80\n",
      "Accuracy of dog = 23.80\n",
      "Accuracy of frog = 17.60\n",
      "Accuracy of horse = 38.60\n",
      "Accuracy of ship = 8.60\n",
      "Accuracy of truck = 30.00\n"
     ]
    }
   ],
   "source": [
    "class_correct = list(0. for i in range(10))\n",
    "class_total = list(0. for i in range(10))\n",
    "# No need to estimate gradient\n",
    "with torch.no_grad():\n",
    "    # loop over the test dataset by taking out a batch of size 4 each time\n",
    "    for data in test_loader:\n",
    "        # Seperate the features and labels\n",
    "        images, labels = data\n",
    "        # Forecast the labels for a batch of size 4\n",
    "        outputs = model_resnet34(images)\n",
    "        # Get the index of the maximum value , which is the predicted class index\n",
    "        _, predicted = torch.max(outputs, 1)\n",
    "        # Check wehter the predicted labels matche the actual label index\n",
    "        c = (predicted == labels).squeeze()\n",
    "        # Handle one batch of size 4 images\n",
    "        for i in range(4):\n",
    "            label = labels[i]\n",
    "            # Update the counters of corrected classes and total classes\n",
    "            class_correct[label] += c[i].item()\n",
    "            class_total[label] += 1\n",
    "#print it out\n",
    "for i in range(10):\n",
    "    print(f'Accuracy of {class_label[i]} = {100 * class_correct[i] / class_total[i]:.2f}')"
   ]
  },
  {
   "cell_type": "markdown",
   "metadata": {},
   "source": [
    "# Summary\n",
    "\n",
    "+ We can use convolution layers to extract features.\n",
    "+ We apply pooling layers to reduce the dimensionality.\n",
    "+ We need to visualize the images instead of numerically summarize it.\n",
    "+ We perform image classification using CNN.\n",
    "+ We load and preprocess images from local storage.\n",
    "+ We Configure the dataset for Better performance.\n",
    "+ We perform the image data augmentation techniques to train our models.\n",
    "+ We know how to fix the pre-trained model weights in transfer learning.\n",
    "+ We need to add a classifier in transfer learning.\n",
    "+ We learn how to train the model based on transfer learning.\n",
    "+ We can evaluate the image classification model. \n"
   ]
  }
 ],
 "metadata": {
  "kernelspec": {
   "display_name": "Python 3 (ipykernel)",
   "language": "python",
   "name": "python3"
  },
  "language_info": {
   "codemirror_mode": {
    "name": "ipython",
    "version": 3
   },
   "file_extension": ".py",
   "mimetype": "text/x-python",
   "name": "python",
   "nbconvert_exporter": "python",
   "pygments_lexer": "ipython3",
   "version": "3.11.5"
  }
 },
 "nbformat": 4,
 "nbformat_minor": 4
}
