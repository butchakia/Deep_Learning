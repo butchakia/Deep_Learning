{
 "cells": [
  {
   "cell_type": "markdown",
   "id": "advanced-bulletin",
   "metadata": {},
   "source": [
    "# DSCI 619 Deep Learning\n",
    "# Week 6: Build a Simple Recurrent Sequence-to-Sequence Model"
   ]
  },
  {
   "cell_type": "markdown",
   "id": "frequent-clear",
   "metadata": {},
   "source": [
    "**Objectives**\n",
    "\n",
    "After you complete this module, students will be able to:\n",
    "\n",
    "\n",
    "+ Use the encoder to encode the input texts\n",
    "+ Apply the decoder to predict the  next token\n",
    "+ Understand the encoder-decoder architecture\n",
    "+ Choose the loss function for the decoder\n",
    "+ Train the sequence to sequence model\n",
    "+ Predict the output sequence token\n",
    "\n",
    "Sequence to sequence model is a family of deep learning approaches used for natural language processing such as language translation etc. We will cover a simple recurrent sequence to sequence model. First, we cover the encoder.  Next, we will cover the decoder. Third, we will show how to use both encoder and decoder to perform language translation.  \n",
    "\n",
    "**Readings**\n",
    "\n",
    "+ Sequence to Sequence Learning (https://d2l.ai/chapter_recurrent-modern/seq2seq.html)\n",
    "+ A ten-minute introduction to sequence-to-sequence learning in Keras (RNN)(https://blog.keras.io/a-ten-minute-introduction-to-sequence-to-sequence-learning-in-keras.html)\n",
    "+ Character-level recurrent sequence-to-sequence model (https://keras.io/examples/nlp/lstm_seq2seq/)\n",
    "\n"
   ]
  },
  {
   "cell_type": "markdown",
   "id": "challenging-hungary",
   "metadata": {},
   "source": [
    "# Week 6: Build a Simple Recurrent Sequence-to-sequence Model\n",
    "\n",
    "## Short Introduction to Recurrent Sequence to Sequence Model"
   ]
  },
  {
   "cell_type": "markdown",
   "id": "extended-defendant",
   "metadata": {},
   "source": [
    "It is well known that Google translate (https://translate.google.com/) is a very powerful tool to translate a text from one language into another. For example, if we enter the following text in English in the left textbox:\n",
    "\n",
    "<center> It's a beautiful day! </center>\n",
    "\n",
    "We choose the target language as Spanish. Then, Google translate produces the following output:\n",
    "\n",
    "<center> ¡Es un hermoso día! </center>\n",
    "\n",
    "\n",
    "It is based on the neural machine translation system. (see https://arxiv.org/abs/1609.08144). These models are based on RNN and LSTM etc. The sequence to sequence model converts sequences from one language, such as in English to sequences in another langue, such as in Spanish.\n",
    "\n",
    "The sequence to sequence model typically has an encoder and a decoder. This RNN encoder-decoder takes a sequence, such as English text, as input and generates another sequence, such as Spanish text,  as output. \n",
    "\n",
    "We will build a simple recurrent sequence to sequence model. This project is taken from Keras' official code examples. You can find it at Kera's official website (https://keras.io/examples/nlp/lstm_seq2seq/). "
   ]
  },
  {
   "cell_type": "markdown",
   "id": "anticipated-carroll",
   "metadata": {},
   "source": [
    "## Import the library and Fix the Seeds\n",
    "\n",
    "First, we import the libraries we need. Then we fix the seeds, and we can reproduce the results."
   ]
  },
  {
   "cell_type": "code",
   "execution_count": 1,
   "id": "resident-winter",
   "metadata": {},
   "outputs": [],
   "source": [
    "import os\n",
    "import random\n",
    "import numpy as np\n",
    "import tensorflow as tf\n",
    "from tensorflow import keras\n",
    "\n",
    "# Fix the seeds\n",
    "# https://stackoverflow.com/questions/1805265/how-to-fix-value-produced-by-random\n",
    "SEED = 101\n",
    "os.environ['PYTHONHASHSEED']=str(SEED)\n",
    "os.environ['TF_CUDNN_DETERMINISTIC'] = '1'  \n",
    "random.seed(SEED)\n",
    "np.random.seed(SEED)\n",
    "tf.random.set_seed(SEED)"
   ]
  },
  {
   "cell_type": "markdown",
   "id": "center-springer",
   "metadata": {},
   "source": [
    "## Data: Tab-delimited Bilingual Sentence Pairs\n",
    "\n",
    "Our data is taken from the Tatoeba Project (https://tatoeba.org/eng). It provides more than eighty Tab-delimited Bilingual Sentence Pairs (http://www.manythings.org/anki/). The data files have the following format:\n",
    "\n",
    "<center> English + TAB + The Other Language + TAB + Attribution </center>\n",
    "\n",
    "For example:\n",
    "\n",
    "Go.\tVa !\tCC-BY 2.0 (France) Attribution: tatoeba.org #2877272 (CM) & #1158250 (Wittydev)\n",
    "\n",
    "Go.\tMarche.\tCC-BY 2.0 (France) Attribution: tatoeba.org #2877272 (CM) & #8090732 (Micsmithel)\n",
    "\n",
    "\n",
    "We build a model to translate simple English to Spanish.\n"
   ]
  },
  {
   "cell_type": "markdown",
   "id": "female-romania",
   "metadata": {},
   "source": [
    "## Clean and Preprocessing Data\n",
    "\n",
    "### Set the Hyperparameters"
   ]
  },
  {
   "cell_type": "code",
   "execution_count": 2,
   "id": "promotional-switzerland",
   "metadata": {},
   "outputs": [],
   "source": [
    "# Set the batch size\n",
    "batch_size = 64  \n",
    "# Set the epochs number\n",
    "epochs = 100  \n",
    "# Latent dimensionality of the encoding space.\n",
    "latent_dim = 256  \n",
    "# Number of samples to use.\n",
    "num_samples = 10000  \n",
    "# Data file \n",
    "data_path = \"C:/Users/liuyu/OneDrive/OneDrive - Maryville University/DSCI 619/Modules/WK6/data/eng-spa.txt\""
   ]
  },
  {
   "cell_type": "markdown",
   "id": "productive-extent",
   "metadata": {},
   "source": [
    "### Separate Input Texts and Target Texts\n",
    "\n",
    "Since each row contains both the input texts and target texts, we need to separate them into inputs and targets. We also need to obtain the unique input characters and target characters. Our model will use it to produce predictions for the next character in our model. "
   ]
  },
  {
   "cell_type": "code",
   "execution_count": 3,
   "id": "amazing-sailing",
   "metadata": {},
   "outputs": [],
   "source": [
    "# Obtain the features (input) and labels (target)\n",
    "input_texts = []\n",
    "target_texts = []\n",
    "# Unique characters in the inputs and targets\n",
    "input_characters = set()\n",
    "target_characters = set()\n",
    "# Load the data into memory\n",
    "with open(data_path, \"r\", encoding=\"utf-8\") as f:\n",
    "    lines = f.read().split(\"\\n\")\n",
    "# Process line by line\n",
    "for line in lines[: min(num_samples, len(lines) - 1)]:\n",
    "    # Data format English + TAB + The Other Language + TAB + Attribution\n",
    "    # It returns: English, The other language, and Attribution, which is discarded\n",
    "    input_text, target_text, _ = line.split(\"\\t\")\n",
    "    # We use \"tab\" as the \"start sequence\" character\n",
    "    # for the targets, and \"\\n\" as \"end sequence\" character.\n",
    "    target_text = \"\\t\" + target_text + \"\\n\"\n",
    "    input_texts.append(input_text)\n",
    "    target_texts.append(target_text)\n",
    "    # Get the unique char from the input texts\n",
    "    for char in input_text:\n",
    "        if char not in input_characters:\n",
    "            input_characters.add(char)\n",
    "    # Get the unique char from the target texts\n",
    "    for char in target_text:\n",
    "        if char not in target_characters:\n",
    "            target_characters.add(char)\n",
    "\n"
   ]
  },
  {
   "cell_type": "markdown",
   "id": "optical-victim",
   "metadata": {},
   "source": [
    "Next, we sort the input characters and output characters. We then get the length of the encoder tokens and decoder tokens. Finally, we figure out the maximum size of the input texts and output texts."
   ]
  },
  {
   "cell_type": "code",
   "execution_count": 4,
   "id": "parallel-jurisdiction",
   "metadata": {},
   "outputs": [
    {
     "name": "stdout",
     "output_type": "stream",
     "text": [
      "Number of samples:= 10000\n",
      "Number of unique input tokens: = 69\n",
      "Number of unique output tokens: = 84\n",
      "Max sequence length for inputs: = 16\n",
      "Max sequence length for outputs: = 78\n"
     ]
    }
   ],
   "source": [
    "input_characters = sorted(list(input_characters))\n",
    "target_characters = sorted(list(target_characters))\n",
    "num_encoder_tokens = len(input_characters)\n",
    "num_decoder_tokens = len(target_characters)\n",
    "max_encoder_seq_length = max([len(txt) for txt in input_texts])\n",
    "max_decoder_seq_length = max([len(txt) for txt in target_texts])\n",
    "\n",
    "print(f'Number of samples:= {len(input_texts)}')\n",
    "print(f\"Number of unique input tokens: = {num_encoder_tokens}\")\n",
    "print(f\"Number of unique output tokens: = {num_decoder_tokens}\")\n",
    "print(f\"Max sequence length for inputs: = {max_encoder_seq_length}\")\n",
    "print(f\"Max sequence length for outputs: = {max_decoder_seq_length}\")\n",
    "\n"
   ]
  },
  {
   "cell_type": "markdown",
   "id": "functional-winning",
   "metadata": {},
   "source": [
    "### Map Input and Target Characters to Numbers\n",
    "\n",
    "Machine learning and deep learning models can only handle numerical data. Therefore, we need to convert the input and target characters to numerical values. A simple mapping of characters to indices is used. The mapping is stored in a dictionary. The key is the char, and the value is its index. It is very easy to search by the key. \n"
   ]
  },
  {
   "cell_type": "code",
   "execution_count": 5,
   "id": "functioning-transfer",
   "metadata": {},
   "outputs": [],
   "source": [
    "input_token_index = dict([(char, i) for i, char in enumerate(input_characters)])\n",
    "target_token_index = dict([(char, i) for i, char in enumerate(target_characters)])\n",
    "\n"
   ]
  },
  {
   "cell_type": "code",
   "execution_count": 6,
   "id": "informational-termination",
   "metadata": {},
   "outputs": [
    {
     "data": {
      "text/plain": [
       "{' ': 0,\n",
       " '!': 1,\n",
       " '$': 2,\n",
       " \"'\": 3,\n",
       " ',': 4,\n",
       " '-': 5,\n",
       " '.': 6,\n",
       " '0': 7,\n",
       " '1': 8,\n",
       " '2': 9,\n",
       " '3': 10,\n",
       " '4': 11,\n",
       " '5': 12,\n",
       " '6': 13,\n",
       " '7': 14,\n",
       " '8': 15,\n",
       " '9': 16,\n",
       " ':': 17,\n",
       " '?': 18,\n",
       " 'A': 19,\n",
       " 'B': 20,\n",
       " 'C': 21,\n",
       " 'D': 22,\n",
       " 'E': 23,\n",
       " 'F': 24,\n",
       " 'G': 25,\n",
       " 'H': 26,\n",
       " 'I': 27,\n",
       " 'J': 28,\n",
       " 'K': 29,\n",
       " 'L': 30,\n",
       " 'M': 31,\n",
       " 'N': 32,\n",
       " 'O': 33,\n",
       " 'P': 34,\n",
       " 'Q': 35,\n",
       " 'R': 36,\n",
       " 'S': 37,\n",
       " 'T': 38,\n",
       " 'U': 39,\n",
       " 'V': 40,\n",
       " 'W': 41,\n",
       " 'Y': 42,\n",
       " 'a': 43,\n",
       " 'b': 44,\n",
       " 'c': 45,\n",
       " 'd': 46,\n",
       " 'e': 47,\n",
       " 'f': 48,\n",
       " 'g': 49,\n",
       " 'h': 50,\n",
       " 'i': 51,\n",
       " 'j': 52,\n",
       " 'k': 53,\n",
       " 'l': 54,\n",
       " 'm': 55,\n",
       " 'n': 56,\n",
       " 'o': 57,\n",
       " 'p': 58,\n",
       " 'q': 59,\n",
       " 'r': 60,\n",
       " 's': 61,\n",
       " 't': 62,\n",
       " 'u': 63,\n",
       " 'v': 64,\n",
       " 'w': 65,\n",
       " 'x': 66,\n",
       " 'y': 67,\n",
       " 'z': 68}"
      ]
     },
     "execution_count": 6,
     "metadata": {},
     "output_type": "execute_result"
    }
   ],
   "source": [
    "input_token_index"
   ]
  },
  {
   "cell_type": "code",
   "execution_count": 7,
   "id": "natural-retail",
   "metadata": {},
   "outputs": [
    {
     "data": {
      "text/plain": [
       "{'\\t': 0,\n",
       " '\\n': 1,\n",
       " ' ': 2,\n",
       " '!': 3,\n",
       " '\"': 4,\n",
       " \"'\": 5,\n",
       " ',': 6,\n",
       " '-': 7,\n",
       " '.': 8,\n",
       " '0': 9,\n",
       " '1': 10,\n",
       " '2': 11,\n",
       " '3': 12,\n",
       " '4': 13,\n",
       " '5': 14,\n",
       " '6': 15,\n",
       " '7': 16,\n",
       " '8': 17,\n",
       " ':': 18,\n",
       " '?': 19,\n",
       " 'A': 20,\n",
       " 'B': 21,\n",
       " 'C': 22,\n",
       " 'D': 23,\n",
       " 'E': 24,\n",
       " 'F': 25,\n",
       " 'G': 26,\n",
       " 'H': 27,\n",
       " 'I': 28,\n",
       " 'J': 29,\n",
       " 'L': 30,\n",
       " 'M': 31,\n",
       " 'N': 32,\n",
       " 'O': 33,\n",
       " 'P': 34,\n",
       " 'Q': 35,\n",
       " 'R': 36,\n",
       " 'S': 37,\n",
       " 'T': 38,\n",
       " 'U': 39,\n",
       " 'V': 40,\n",
       " 'W': 41,\n",
       " 'Y': 42,\n",
       " 'a': 43,\n",
       " 'b': 44,\n",
       " 'c': 45,\n",
       " 'd': 46,\n",
       " 'e': 47,\n",
       " 'f': 48,\n",
       " 'g': 49,\n",
       " 'h': 50,\n",
       " 'i': 51,\n",
       " 'j': 52,\n",
       " 'k': 53,\n",
       " 'l': 54,\n",
       " 'm': 55,\n",
       " 'n': 56,\n",
       " 'o': 57,\n",
       " 'p': 58,\n",
       " 'q': 59,\n",
       " 'r': 60,\n",
       " 's': 61,\n",
       " 't': 62,\n",
       " 'u': 63,\n",
       " 'v': 64,\n",
       " 'w': 65,\n",
       " 'x': 66,\n",
       " 'y': 67,\n",
       " 'z': 68,\n",
       " '¡': 69,\n",
       " '«': 70,\n",
       " '»': 71,\n",
       " '¿': 72,\n",
       " 'Á': 73,\n",
       " 'É': 74,\n",
       " 'Ó': 75,\n",
       " 'Ú': 76,\n",
       " 'á': 77,\n",
       " 'é': 78,\n",
       " 'í': 79,\n",
       " 'ñ': 80,\n",
       " 'ó': 81,\n",
       " 'ú': 82,\n",
       " 'ü': 83}"
      ]
     },
     "execution_count": 7,
     "metadata": {},
     "output_type": "execute_result"
    }
   ],
   "source": [
    "target_token_index"
   ]
  },
  {
   "cell_type": "markdown",
   "id": "composed-lecture",
   "metadata": {},
   "source": [
    "### Convert Input and Target Texts to Numerical Values\n",
    "\n",
    "We need to convert the features (input texts) and labels( target texts) to numerical values. They are converted to  3-dimensional matrix:\n",
    "+ The first dimension denotes the number of samples\n",
    "+ The second dimension shows the maximum length of the input texts or output texts\n",
    "+ The third dimension denotes the number of unique characters\n",
    "\n",
    "Each element of the matrix has only two values, 0 or 1. \n",
    "+ 0 means the corresponding character doesn't show up in the texts.\n",
    "+ 1 means the corresponding character shows up in the texts. \n"
   ]
  },
  {
   "cell_type": "code",
   "execution_count": 8,
   "id": "reasonable-stations",
   "metadata": {},
   "outputs": [],
   "source": [
    "# Initialize the 3 D matrix\n",
    "encoder_input_data = np.zeros(\n",
    "    (len(input_texts), max_encoder_seq_length, num_encoder_tokens), dtype=\"float32\"\n",
    ")\n",
    "decoder_input_data = np.zeros(\n",
    "    (len(target_texts), max_decoder_seq_length, num_decoder_tokens), dtype=\"float32\"\n",
    ")\n",
    "decoder_target_data = np.zeros(\n",
    "    (len(target_texts), max_decoder_seq_length, num_decoder_tokens), dtype=\"float32\"\n",
    ")\n",
    "\n",
    "# Convert the input texts and target texts to numerical values\n",
    "for i, (input_text, target_text) in enumerate(zip(input_texts, target_texts)):\n",
    "    # Convert input texts to numerical values\n",
    "    for t, char in enumerate(input_text):\n",
    "        encoder_input_data[i, t, input_token_index[char]] = 1.0\n",
    "    # Pad the remaining using space that is mapped to 1\n",
    "    encoder_input_data[i, t + 1 :, input_token_index[\" \"]] = 1.0\n",
    "    # Convert target texts to numerical values\n",
    "    for t, char in enumerate(target_text):\n",
    "        # decoder input is used to forecast decoder target\n",
    "        # decoder_target_data is ahead of decoder_input_data by one timestep\n",
    "        decoder_input_data[i, t, target_token_index[char]] = 1.0\n",
    "        if t > 0:\n",
    "            # decoder_target_data will be ahead by one timestep\n",
    "            # and will not include the start character.\n",
    "            decoder_target_data[i, t - 1, target_token_index[char]] = 1.0\n",
    "    # Pad the remaining using space that is mapped to 1\n",
    "    decoder_input_data[i, t + 1 :, target_token_index[\" \"]] = 1.0\n",
    "    decoder_target_data[i, t:, target_token_index[\" \"]] = 1.0"
   ]
  },
  {
   "cell_type": "markdown",
   "id": "fatty-pizza",
   "metadata": {},
   "source": [
    "Let's look at the 3D matrices:"
   ]
  },
  {
   "cell_type": "code",
   "execution_count": 9,
   "id": "elementary-border",
   "metadata": {},
   "outputs": [
    {
     "data": {
      "text/plain": [
       "array([[[0., 0., 0., ..., 0., 0., 0.],\n",
       "        [0., 0., 0., ..., 0., 0., 0.],\n",
       "        [0., 0., 0., ..., 0., 0., 0.],\n",
       "        ...,\n",
       "        [1., 0., 0., ..., 0., 0., 0.],\n",
       "        [1., 0., 0., ..., 0., 0., 0.],\n",
       "        [1., 0., 0., ..., 0., 0., 0.]],\n",
       "\n",
       "       [[0., 0., 0., ..., 0., 0., 0.],\n",
       "        [0., 0., 0., ..., 0., 0., 0.],\n",
       "        [0., 0., 0., ..., 0., 0., 0.],\n",
       "        ...,\n",
       "        [1., 0., 0., ..., 0., 0., 0.],\n",
       "        [1., 0., 0., ..., 0., 0., 0.],\n",
       "        [1., 0., 0., ..., 0., 0., 0.]],\n",
       "\n",
       "       [[0., 0., 0., ..., 0., 0., 0.],\n",
       "        [0., 0., 0., ..., 0., 0., 0.],\n",
       "        [0., 0., 0., ..., 0., 0., 0.],\n",
       "        ...,\n",
       "        [1., 0., 0., ..., 0., 0., 0.],\n",
       "        [1., 0., 0., ..., 0., 0., 0.],\n",
       "        [1., 0., 0., ..., 0., 0., 0.]],\n",
       "\n",
       "       ...,\n",
       "\n",
       "       [[0., 0., 0., ..., 0., 0., 0.],\n",
       "        [0., 0., 0., ..., 0., 0., 0.],\n",
       "        [0., 0., 0., ..., 0., 0., 0.],\n",
       "        ...,\n",
       "        [0., 0., 0., ..., 0., 0., 0.],\n",
       "        [0., 0., 0., ..., 0., 0., 0.],\n",
       "        [0., 0., 0., ..., 0., 0., 0.]],\n",
       "\n",
       "       [[0., 0., 0., ..., 0., 0., 0.],\n",
       "        [0., 0., 0., ..., 0., 0., 0.],\n",
       "        [0., 0., 0., ..., 0., 0., 0.],\n",
       "        ...,\n",
       "        [0., 0., 0., ..., 0., 0., 0.],\n",
       "        [0., 0., 0., ..., 0., 0., 0.],\n",
       "        [0., 0., 0., ..., 0., 0., 0.]],\n",
       "\n",
       "       [[0., 0., 0., ..., 0., 0., 0.],\n",
       "        [0., 0., 0., ..., 0., 0., 0.],\n",
       "        [0., 0., 0., ..., 0., 0., 0.],\n",
       "        ...,\n",
       "        [0., 0., 0., ..., 0., 0., 0.],\n",
       "        [0., 0., 0., ..., 0., 0., 0.],\n",
       "        [0., 0., 0., ..., 0., 0., 0.]]], dtype=float32)"
      ]
     },
     "execution_count": 9,
     "metadata": {},
     "output_type": "execute_result"
    }
   ],
   "source": [
    "encoder_input_data"
   ]
  },
  {
   "cell_type": "code",
   "execution_count": 10,
   "id": "pressed-rebate",
   "metadata": {},
   "outputs": [
    {
     "data": {
      "text/plain": [
       "array([[[1., 0., 0., ..., 0., 0., 0.],\n",
       "        [0., 0., 0., ..., 0., 0., 0.],\n",
       "        [0., 0., 0., ..., 0., 0., 0.],\n",
       "        ...,\n",
       "        [0., 0., 1., ..., 0., 0., 0.],\n",
       "        [0., 0., 1., ..., 0., 0., 0.],\n",
       "        [0., 0., 1., ..., 0., 0., 0.]],\n",
       "\n",
       "       [[1., 0., 0., ..., 0., 0., 0.],\n",
       "        [0., 0., 0., ..., 0., 0., 0.],\n",
       "        [0., 0., 0., ..., 0., 0., 0.],\n",
       "        ...,\n",
       "        [0., 0., 1., ..., 0., 0., 0.],\n",
       "        [0., 0., 1., ..., 0., 0., 0.],\n",
       "        [0., 0., 1., ..., 0., 0., 0.]],\n",
       "\n",
       "       [[1., 0., 0., ..., 0., 0., 0.],\n",
       "        [0., 0., 0., ..., 0., 0., 0.],\n",
       "        [0., 0., 0., ..., 0., 0., 0.],\n",
       "        ...,\n",
       "        [0., 0., 1., ..., 0., 0., 0.],\n",
       "        [0., 0., 1., ..., 0., 0., 0.],\n",
       "        [0., 0., 1., ..., 0., 0., 0.]],\n",
       "\n",
       "       ...,\n",
       "\n",
       "       [[1., 0., 0., ..., 0., 0., 0.],\n",
       "        [0., 0., 0., ..., 0., 0., 0.],\n",
       "        [0., 0., 0., ..., 0., 0., 0.],\n",
       "        ...,\n",
       "        [0., 0., 1., ..., 0., 0., 0.],\n",
       "        [0., 0., 1., ..., 0., 0., 0.],\n",
       "        [0., 0., 1., ..., 0., 0., 0.]],\n",
       "\n",
       "       [[1., 0., 0., ..., 0., 0., 0.],\n",
       "        [0., 0., 0., ..., 0., 0., 0.],\n",
       "        [0., 0., 0., ..., 0., 0., 0.],\n",
       "        ...,\n",
       "        [0., 0., 1., ..., 0., 0., 0.],\n",
       "        [0., 0., 1., ..., 0., 0., 0.],\n",
       "        [0., 0., 1., ..., 0., 0., 0.]],\n",
       "\n",
       "       [[1., 0., 0., ..., 0., 0., 0.],\n",
       "        [0., 0., 0., ..., 0., 0., 0.],\n",
       "        [0., 0., 0., ..., 0., 0., 0.],\n",
       "        ...,\n",
       "        [0., 0., 1., ..., 0., 0., 0.],\n",
       "        [0., 0., 1., ..., 0., 0., 0.],\n",
       "        [0., 0., 1., ..., 0., 0., 0.]]], dtype=float32)"
      ]
     },
     "execution_count": 10,
     "metadata": {},
     "output_type": "execute_result"
    }
   ],
   "source": [
    "decoder_input_data"
   ]
  },
  {
   "cell_type": "code",
   "execution_count": 11,
   "id": "latest-antigua",
   "metadata": {},
   "outputs": [
    {
     "data": {
      "text/plain": [
       "array([[[0., 0., 0., ..., 0., 0., 0.],\n",
       "        [0., 0., 0., ..., 0., 0., 0.],\n",
       "        [0., 0., 0., ..., 0., 0., 0.],\n",
       "        ...,\n",
       "        [0., 0., 1., ..., 0., 0., 0.],\n",
       "        [0., 0., 1., ..., 0., 0., 0.],\n",
       "        [0., 0., 1., ..., 0., 0., 0.]],\n",
       "\n",
       "       [[0., 0., 0., ..., 0., 0., 0.],\n",
       "        [0., 0., 0., ..., 0., 0., 0.],\n",
       "        [0., 0., 0., ..., 0., 0., 0.],\n",
       "        ...,\n",
       "        [0., 0., 1., ..., 0., 0., 0.],\n",
       "        [0., 0., 1., ..., 0., 0., 0.],\n",
       "        [0., 0., 1., ..., 0., 0., 0.]],\n",
       "\n",
       "       [[0., 0., 0., ..., 0., 0., 0.],\n",
       "        [0., 0., 0., ..., 0., 0., 0.],\n",
       "        [0., 0., 0., ..., 0., 0., 0.],\n",
       "        ...,\n",
       "        [0., 0., 1., ..., 0., 0., 0.],\n",
       "        [0., 0., 1., ..., 0., 0., 0.],\n",
       "        [0., 0., 1., ..., 0., 0., 0.]],\n",
       "\n",
       "       ...,\n",
       "\n",
       "       [[0., 0., 0., ..., 0., 0., 0.],\n",
       "        [0., 0., 0., ..., 0., 0., 0.],\n",
       "        [0., 0., 0., ..., 0., 0., 0.],\n",
       "        ...,\n",
       "        [0., 0., 1., ..., 0., 0., 0.],\n",
       "        [0., 0., 1., ..., 0., 0., 0.],\n",
       "        [0., 0., 1., ..., 0., 0., 0.]],\n",
       "\n",
       "       [[0., 0., 0., ..., 0., 0., 0.],\n",
       "        [0., 0., 0., ..., 0., 0., 0.],\n",
       "        [0., 0., 0., ..., 0., 0., 0.],\n",
       "        ...,\n",
       "        [0., 0., 1., ..., 0., 0., 0.],\n",
       "        [0., 0., 1., ..., 0., 0., 0.],\n",
       "        [0., 0., 1., ..., 0., 0., 0.]],\n",
       "\n",
       "       [[0., 0., 0., ..., 0., 0., 0.],\n",
       "        [0., 0., 0., ..., 0., 0., 0.],\n",
       "        [0., 0., 0., ..., 0., 0., 0.],\n",
       "        ...,\n",
       "        [0., 0., 1., ..., 0., 0., 0.],\n",
       "        [0., 0., 1., ..., 0., 0., 0.],\n",
       "        [0., 0., 1., ..., 0., 0., 0.]]], dtype=float32)"
      ]
     },
     "execution_count": 11,
     "metadata": {},
     "output_type": "execute_result"
    }
   ],
   "source": [
    "decoder_target_data"
   ]
  },
  {
   "cell_type": "markdown",
   "id": "norwegian-korea",
   "metadata": {},
   "source": [
    "## Build the Model\n",
    "\n",
    "This RNN model has two key layers. \n",
    "+ A LSTM encoder layer: it processes the input texts/sequence and returns its own internal state.  The outputs of the encoder is discarded.The hidden states will be used as the \"context\" of the decoder in the next step.\n",
    "+ A LSTM decoder layer: it is trained to predict the next characters of the target sequence, given previous characters of the target sequence. Specifically, it is trained to turn the target sequences into the same sequences but offset by one timestep in the future, a training process called \"teacher forcing\" in this context. Importantly, the encoder uses as initial state the state vectors from the encoder, which is how the decoder obtains information about what it is supposed to generate. Effectively, the decoder learns to generate targets[t+1...] given targets[...t], conditioned on the input sequence.\n",
    "\n",
    "Source: https://blog.keras.io/a-ten-minute-introduction-to-sequence-to-sequence-learning-in-keras.html"
   ]
  },
  {
   "cell_type": "code",
   "execution_count": 12,
   "id": "aging-chuck",
   "metadata": {},
   "outputs": [],
   "source": [
    "## Begin Define the encoder layes\n",
    "# Define an input sequence\n",
    "encoder_inputs = keras.Input(shape=(None, num_encoder_tokens))\n",
    "# Define the LSTM which will return the hidden states\n",
    "encoder = keras.layers.LSTM(latent_dim, return_state=True)\n",
    "# Apply LSTM and return the ouputs and hidden states\n",
    "encoder_outputs, state_h, state_c = encoder(encoder_inputs)\n",
    "# Discard the outputs and only keep the states.\n",
    "encoder_states = [state_h, state_c]\n",
    "## End Define the encoder layes\n",
    "\n",
    "\n",
    "## Begin Define the decoder layes\n",
    "# Define the decoder inputs\n",
    "decoder_inputs = keras.Input(shape=(None, num_decoder_tokens))\n",
    "\n",
    "decoder_lstm = keras.layers.LSTM(latent_dim, return_sequences=True, return_state=True)\n",
    "# Set up the decoder, using `encoder_states` as initial state.\n",
    "# Kee the outputs and discard the hidden states\n",
    "decoder_outputs, _, _ = decoder_lstm(decoder_inputs, initial_state=encoder_states)\n",
    "# Forecast he decoder outputs using a classifier based on the decoder outputs\n",
    "decoder_dense = keras.layers.Dense(num_decoder_tokens, activation=\"softmax\")\n",
    "decoder_outputs = decoder_dense(decoder_outputs)\n",
    "## End Define the decoder layes\n",
    "\n",
    "# Define the model that will turn\n",
    "# `encoder_input_data` & `decoder_input_data` into `decoder_target_data`\n",
    "model = keras.Model([encoder_inputs, decoder_inputs], decoder_outputs)"
   ]
  },
  {
   "cell_type": "markdown",
   "id": "textile-florida",
   "metadata": {},
   "source": [
    "## Configure the Model\n",
    "\n",
    "We forecast the decoder characters. It is a multiclass classification problem. We configure the model by specifying the optimizer and the loss function as categorical cross-entropy."
   ]
  },
  {
   "cell_type": "code",
   "execution_count": 13,
   "id": "piano-wisdom",
   "metadata": {},
   "outputs": [],
   "source": [
    "model.compile(\n",
    "    optimizer=\"rmsprop\", loss=\"categorical_crossentropy\", metrics=[\"accuracy\"]\n",
    ")\n"
   ]
  },
  {
   "cell_type": "markdown",
   "id": "magnetic-poultry",
   "metadata": {},
   "source": [
    "## Train the Model\n",
    "\n",
    "We train the model by providing the inputs that have two items of encoder_input_data and decoder_input_data. We take advantage of early stopping during the training. \n",
    "\n",
    "https://www.tensorflow.org/api_docs/python/tf/keras/callbacks/EarlyStopping\n"
   ]
  },
  {
   "cell_type": "code",
   "execution_count": 14,
   "id": "bottom-drive",
   "metadata": {},
   "outputs": [
    {
     "name": "stdout",
     "output_type": "stream",
     "text": [
      "Epoch 1/100\n",
      "125/125 [==============================] - 24s 195ms/step - loss: 0.8095 - accuracy: 0.8077 - val_loss: 0.7966 - val_accuracy: 0.7936\n",
      "Epoch 2/100\n",
      "125/125 [==============================] - 24s 188ms/step - loss: 0.5767 - accuracy: 0.8438 - val_loss: 0.5970 - val_accuracy: 0.8330\n",
      "Epoch 3/100\n",
      "125/125 [==============================] - 24s 191ms/step - loss: 0.4824 - accuracy: 0.8647 - val_loss: 0.5308 - val_accuracy: 0.8428\n",
      "Epoch 4/100\n",
      "125/125 [==============================] - 25s 199ms/step - loss: 0.4405 - accuracy: 0.8712 - val_loss: 0.5212 - val_accuracy: 0.8474\n",
      "Epoch 5/100\n",
      "125/125 [==============================] - 25s 196ms/step - loss: 0.4025 - accuracy: 0.8803 - val_loss: 0.4864 - val_accuracy: 0.8539\n",
      "Epoch 6/100\n",
      "125/125 [==============================] - 25s 196ms/step - loss: 0.3788 - accuracy: 0.8860 - val_loss: 0.4437 - val_accuracy: 0.8653\n",
      "Epoch 7/100\n",
      "125/125 [==============================] - 25s 196ms/step - loss: 0.3580 - accuracy: 0.8917 - val_loss: 0.4383 - val_accuracy: 0.8656\n",
      "Epoch 8/100\n",
      "125/125 [==============================] - 25s 198ms/step - loss: 0.3390 - accuracy: 0.8972 - val_loss: 0.4110 - val_accuracy: 0.8758\n",
      "Epoch 9/100\n",
      "125/125 [==============================] - 25s 201ms/step - loss: 0.3224 - accuracy: 0.9026 - val_loss: 0.3974 - val_accuracy: 0.8794\n",
      "Epoch 10/100\n",
      "125/125 [==============================] - 25s 198ms/step - loss: 0.3075 - accuracy: 0.9072 - val_loss: 0.3890 - val_accuracy: 0.8821\n",
      "Epoch 11/100\n",
      "125/125 [==============================] - 25s 200ms/step - loss: 0.2945 - accuracy: 0.9109 - val_loss: 0.3747 - val_accuracy: 0.8874\n",
      "Epoch 12/100\n",
      "125/125 [==============================] - 25s 197ms/step - loss: 0.2823 - accuracy: 0.9147 - val_loss: 0.3700 - val_accuracy: 0.8891\n",
      "Epoch 13/100\n",
      "125/125 [==============================] - 25s 199ms/step - loss: 0.2711 - accuracy: 0.9183 - val_loss: 0.3645 - val_accuracy: 0.8913\n",
      "Epoch 14/100\n",
      "125/125 [==============================] - 25s 198ms/step - loss: 0.2612 - accuracy: 0.9211 - val_loss: 0.3580 - val_accuracy: 0.8932\n",
      "Epoch 15/100\n",
      "125/125 [==============================] - 24s 196ms/step - loss: 0.2517 - accuracy: 0.9242 - val_loss: 0.3541 - val_accuracy: 0.8946\n",
      "Epoch 16/100\n",
      "125/125 [==============================] - 24s 195ms/step - loss: 0.2428 - accuracy: 0.9266 - val_loss: 0.3511 - val_accuracy: 0.8958\n",
      "Epoch 17/100\n",
      "125/125 [==============================] - 24s 195ms/step - loss: 0.2344 - accuracy: 0.9292 - val_loss: 0.3509 - val_accuracy: 0.8967\n",
      "Epoch 18/100\n",
      "125/125 [==============================] - 25s 198ms/step - loss: 0.2262 - accuracy: 0.9318 - val_loss: 0.3462 - val_accuracy: 0.8972\n",
      "Epoch 19/100\n",
      "125/125 [==============================] - 25s 197ms/step - loss: 0.2184 - accuracy: 0.9342 - val_loss: 0.3466 - val_accuracy: 0.8986\n",
      "Epoch 20/100\n",
      "125/125 [==============================] - 25s 197ms/step - loss: 0.2112 - accuracy: 0.9362 - val_loss: 0.3455 - val_accuracy: 0.8992\n",
      "Epoch 21/100\n",
      "125/125 [==============================] - 25s 198ms/step - loss: 0.2039 - accuracy: 0.9385 - val_loss: 0.3457 - val_accuracy: 0.8993\n",
      "Epoch 22/100\n",
      "125/125 [==============================] - 25s 199ms/step - loss: 0.1967 - accuracy: 0.9405 - val_loss: 0.3444 - val_accuracy: 0.9001\n",
      "Epoch 23/100\n",
      "125/125 [==============================] - 23s 187ms/step - loss: 0.1901 - accuracy: 0.9424 - val_loss: 0.3438 - val_accuracy: 0.9007\n",
      "Epoch 24/100\n",
      "125/125 [==============================] - 24s 193ms/step - loss: 0.1839 - accuracy: 0.9445 - val_loss: 0.3480 - val_accuracy: 0.9007\n",
      "Epoch 25/100\n",
      "125/125 [==============================] - 27s 216ms/step - loss: 0.1776 - accuracy: 0.9463 - val_loss: 0.3494 - val_accuracy: 0.9010\n",
      "Epoch 26/100\n",
      "125/125 [==============================] - 25s 199ms/step - loss: 0.1715 - accuracy: 0.9480 - val_loss: 0.3471 - val_accuracy: 0.9015\n",
      "Epoch 27/100\n",
      "125/125 [==============================] - 25s 197ms/step - loss: 0.1655 - accuracy: 0.9500 - val_loss: 0.3504 - val_accuracy: 0.9019\n",
      "Epoch 28/100\n",
      "125/125 [==============================] - 24s 196ms/step - loss: 0.1600 - accuracy: 0.9517 - val_loss: 0.3530 - val_accuracy: 0.9013\n",
      "Epoch 29/100\n",
      "125/125 [==============================] - 25s 197ms/step - loss: 0.1547 - accuracy: 0.9534 - val_loss: 0.3539 - val_accuracy: 0.9018\n",
      "Epoch 30/100\n",
      "125/125 [==============================] - 25s 198ms/step - loss: 0.1492 - accuracy: 0.9547 - val_loss: 0.3588 - val_accuracy: 0.9017\n",
      "Epoch 31/100\n",
      "125/125 [==============================] - 25s 197ms/step - loss: 0.1446 - accuracy: 0.9563 - val_loss: 0.3615 - val_accuracy: 0.9013\n",
      "WARNING:tensorflow:From C:\\Users\\liuyu\\anaconda3\\lib\\site-packages\\tensorflow\\python\\training\\tracking\\tracking.py:111: Model.state_updates (from tensorflow.python.keras.engine.training) is deprecated and will be removed in a future version.\n",
      "Instructions for updating:\n",
      "This property should not be used in TensorFlow 2.0, as updates are applied automatically.\n",
      "WARNING:tensorflow:From C:\\Users\\liuyu\\anaconda3\\lib\\site-packages\\tensorflow\\python\\training\\tracking\\tracking.py:111: Layer.updates (from tensorflow.python.keras.engine.base_layer) is deprecated and will be removed in a future version.\n",
      "Instructions for updating:\n",
      "This property should not be used in TensorFlow 2.0, as updates are applied automatically.\n",
      "INFO:tensorflow:Assets written to: s2s\\assets\n"
     ]
    }
   ],
   "source": [
    "from tensorflow.keras.callbacks import EarlyStopping\n",
    "# Setup early stopping criteria\n",
    "early_stopping = EarlyStopping(\n",
    "    monitor='val_accuracy', \n",
    "    patience=5, \n",
    "    min_delta=0.001, \n",
    "    mode='max'\n",
    ")\n",
    "history = model.fit(\n",
    "    [encoder_input_data, decoder_input_data],\n",
    "    decoder_target_data,\n",
    "    batch_size=batch_size,\n",
    "    epochs=epochs,\n",
    "    validation_split=0.2,\n",
    "    callbacks=[early_stopping],\n",
    ")\n",
    "# Save model\n",
    "model.save(\"s2s\")"
   ]
  },
  {
   "cell_type": "markdown",
   "id": "urban-problem",
   "metadata": {},
   "source": [
    "## Model Diagnostics\n",
    "Let's look at the in-sample fit and out-of-sample fit."
   ]
  },
  {
   "cell_type": "code",
   "execution_count": 15,
   "id": "greek-individual",
   "metadata": {},
   "outputs": [
    {
     "data": {
      "text/plain": [
       "<matplotlib.legend.Legend at 0x2348b73e610>"
      ]
     },
     "execution_count": 15,
     "metadata": {},
     "output_type": "execute_result"
    },
    {
     "data": {
      "image/png": "[encoded data removed]",
      "text/plain": [
       "<Figure size 432x288 with 1 Axes>"
      ]
     },
     "metadata": {
      "needs_background": "light"
     },
     "output_type": "display_data"
    }
   ],
   "source": [
    "import seaborn as sns\n",
    "import pandas as pd\n",
    "import matplotlib.pyplot as plt\n",
    "\n",
    "train_history = pd.DataFrame(history.history)\n",
    "train_history['epoch'] = history.epoch\n",
    "# Plot train loss\n",
    "sns.lineplot(x='epoch', y ='loss', data =train_history)\n",
    "# Plot validation loss\n",
    "sns.lineplot(x='epoch', y ='val_loss', data =train_history)\n",
    "# Add legends\n",
    "plt.legend(labels=['train_loss', 'val_loss'])"
   ]
  },
  {
   "cell_type": "code",
   "execution_count": 16,
   "id": "earlier-values",
   "metadata": {},
   "outputs": [
    {
     "data": {
      "text/plain": [
       "<matplotlib.legend.Legend at 0x2348484e730>"
      ]
     },
     "execution_count": 16,
     "metadata": {},
     "output_type": "execute_result"
    },
    {
     "data": {
      "image/png": "[encoded data removed]",
      "text/plain": [
       "<Figure size 432x288 with 1 Axes>"
      ]
     },
     "metadata": {
      "needs_background": "light"
     },
     "output_type": "display_data"
    }
   ],
   "source": [
    "sns.lineplot(x='epoch', y ='accuracy', data =train_history)\n",
    "# Plot validation loss\n",
    "sns.lineplot(x='epoch', y ='val_accuracy', data =train_history)\n",
    "# Add legends\n",
    "plt.legend(labels=['train_accuracy', 'val_accuracy'])"
   ]
  },
  {
   "cell_type": "markdown",
   "id": "impaired-clarity",
   "metadata": {},
   "source": [
    "## Run Inference\n",
    "\n",
    "When we want to decode unknown input sequences, we go through a slightly different process using the encoder and decoder by providing the inputs and corresponding states. The states contain the context info of the texts."
   ]
  },
  {
   "cell_type": "markdown",
   "id": "german-ozone",
   "metadata": {},
   "source": [
    "We need to identify the layers to use in the inference model. Let's look at the model architecture. "
   ]
  },
  {
   "cell_type": "code",
   "execution_count": 17,
   "id": "crazy-links",
   "metadata": {},
   "outputs": [
    {
     "name": "stdout",
     "output_type": "stream",
     "text": [
      "Model: \"functional_1\"\n",
      "__________________________________________________________________________________________________\n",
      "Layer (type)                    Output Shape         Param #     Connected to                     \n",
      "==================================================================================================\n",
      "input_1 (InputLayer)            [(None, None, 69)]   0                                            \n",
      "__________________________________________________________________________________________________\n",
      "input_2 (InputLayer)            [(None, None, 84)]   0                                            \n",
      "__________________________________________________________________________________________________\n",
      "lstm (LSTM)                     [(None, 256), (None, 333824      input_1[0][0]                    \n",
      "__________________________________________________________________________________________________\n",
      "lstm_1 (LSTM)                   [(None, None, 256),  349184      input_2[0][0]                    \n",
      "                                                                 lstm[0][1]                       \n",
      "                                                                 lstm[0][2]                       \n",
      "__________________________________________________________________________________________________\n",
      "dense (Dense)                   (None, None, 84)     21588       lstm_1[0][0]                     \n",
      "==================================================================================================\n",
      "Total params: 704,596\n",
      "Trainable params: 704,596\n",
      "Non-trainable params: 0\n",
      "__________________________________________________________________________________________________\n"
     ]
    }
   ],
   "source": [
    "model.summary()"
   ]
  },
  {
   "cell_type": "code",
   "execution_count": 18,
   "id": "spanish-adelaide",
   "metadata": {},
   "outputs": [
    {
     "data": {
      "image/png": "[encoded data removed]",
      "text/plain": [
       "<IPython.core.display.Image object>"
      ]
     },
     "execution_count": 18,
     "metadata": {},
     "output_type": "execute_result"
    }
   ],
   "source": [
    "tf.keras.utils.plot_model(model, show_shapes=True)"
   ]
  },
  {
   "cell_type": "markdown",
   "id": "young-sphere",
   "metadata": {},
   "source": [
    "It is easy to see that it has five layers:\n",
    "+ two input layers\n",
    "+ two LSTM layers\n",
    "+ one classifier layer"
   ]
  },
  {
   "cell_type": "code",
   "execution_count": 19,
   "id": "illegal-johns",
   "metadata": {},
   "outputs": [
    {
     "data": {
      "text/plain": [
       "[<tensorflow.python.keras.engine.input_layer.InputLayer at 0x2340a0abc10>,\n",
       " <tensorflow.python.keras.engine.input_layer.InputLayer at 0x2342ed68a60>,\n",
       " <tensorflow.python.keras.layers.recurrent_v2.LSTM at 0x2340a0abbe0>,\n",
       " <tensorflow.python.keras.layers.recurrent_v2.LSTM at 0x2342f0ad340>,\n",
       " <tensorflow.python.keras.layers.core.Dense at 0x2342f0d2d00>]"
      ]
     },
     "execution_count": 19,
     "metadata": {},
     "output_type": "execute_result"
    }
   ],
   "source": [
    "model.layers"
   ]
  },
  {
   "cell_type": "code",
   "execution_count": 20,
   "id": "essential-reminder",
   "metadata": {},
   "outputs": [
    {
     "data": {
      "text/plain": [
       "[<tf.Tensor 'input_1:0' shape=(None, None, 69) dtype=float32>,\n",
       " <tf.Tensor 'input_2:0' shape=(None, None, 84) dtype=float32>]"
      ]
     },
     "execution_count": 20,
     "metadata": {},
     "output_type": "execute_result"
    }
   ],
   "source": [
    "model.input"
   ]
  },
  {
   "cell_type": "markdown",
   "id": "religious-brass",
   "metadata": {},
   "source": [
    "### Create the Inference Model\n",
    "\n",
    "The inference model is very similar to the previous model. The main differences are in the hidden state's info."
   ]
  },
  {
   "cell_type": "code",
   "execution_count": 21,
   "id": "flexible-nylon",
   "metadata": {},
   "outputs": [],
   "source": [
    "# Define the inference models\n",
    "# Restore the model and construct the encoder and decoder.\n",
    "model = keras.models.load_model(\"s2s\")\n",
    "\n",
    "# Set up the encoder model\n",
    "encoder_inputs = model.input[0]  # input_1\n",
    "encoder_outputs, state_h_enc, state_c_enc = model.layers[2].output  # lstm_1\n",
    "encoder_states = [state_h_enc, state_c_enc]\n",
    "encoder_model = keras.Model(encoder_inputs, encoder_states)\n",
    "\n",
    "# Set up the decoder layer\n",
    "decoder_inputs = model.input[1]  # input_2\n",
    "# Set up the inputs for the hidden states\n",
    "decoder_state_input_h = keras.Input(shape=(latent_dim,), name=\"input_3\")\n",
    "decoder_state_input_c = keras.Input(shape=(latent_dim,), name=\"input_4\")\n",
    "decoder_states_inputs = [decoder_state_input_h, decoder_state_input_c]\n",
    "decoder_lstm = model.layers[3]\n",
    "decoder_outputs, state_h_dec, state_c_dec = decoder_lstm(\n",
    "    decoder_inputs, initial_state=decoder_states_inputs\n",
    ")\n",
    "decoder_states = [state_h_dec, state_c_dec]\n",
    "decoder_dense = model.layers[4]\n",
    "decoder_outputs = decoder_dense(decoder_outputs)\n",
    "\n",
    "# The decoder model with inputs and states inputs with the context info\n",
    "# The decoder model with outputs = decoder outputs and states with the context info\n",
    "decoder_model = keras.Model(\n",
    "    [decoder_inputs] + decoder_states_inputs, [decoder_outputs] + decoder_states\n",
    ")\n",
    "\n"
   ]
  },
  {
   "cell_type": "markdown",
   "id": "expanded-booking",
   "metadata": {},
   "source": [
    "### Forecast the Target Texts\n",
    "\n",
    "Next, we predict the target texts using the inference model. First, we need to have an inverse transformation to map the indices to the corresponding characters.\n"
   ]
  },
  {
   "cell_type": "code",
   "execution_count": 22,
   "id": "decimal-happening",
   "metadata": {},
   "outputs": [],
   "source": [
    "# Map the indicesto the corresponding characters\n",
    "reverse_input_char_index = dict((i, char) for char, i in input_token_index.items())\n",
    "reverse_target_char_index = dict((i, char) for char, i in target_token_index.items())\n"
   ]
  },
  {
   "cell_type": "markdown",
   "id": "checked-least",
   "metadata": {},
   "source": [
    "Next, we need to map the input texts to the target texts by performing the following tasks:\n",
    "\n",
    "+ Encode the input texts as state vectors\n",
    "+ Generate an empty target text of length 1\n",
    "+ Loop over the sequence\n",
    "    + Predict the output based on the target sequence and hidden states\n",
    "    + Update the target sequence\n",
    "    + Update the hidden sates "
   ]
  },
  {
   "cell_type": "code",
   "execution_count": 23,
   "id": "comfortable-powell",
   "metadata": {},
   "outputs": [],
   "source": [
    "\n",
    "def decode_sequence(input_seq):\n",
    "    # Encode the input as state vectors.\n",
    "    states_value = encoder_model.predict(input_seq)\n",
    "\n",
    "    # Generate empty target sequence of length 1.\n",
    "    target_seq = np.zeros((1, 1, num_decoder_tokens))\n",
    "    # Populate the first character of target sequence with the start character.\n",
    "    target_seq[0, 0, target_token_index[\"\\t\"]] = 1.0\n",
    "\n",
    "    # Sampling loop for a batch of sequences\n",
    "    # (to simplify, here we assume a batch of size 1).\n",
    "    stop_condition = False\n",
    "    decoded_sentence = \"\"\n",
    "    while not stop_condition:\n",
    "        # forcast the outputs and hidden states\n",
    "        output_tokens, h, c = decoder_model.predict([target_seq] + states_value)\n",
    "        # Get the indices of the non-empty character\n",
    "        sampled_token_index = np.argmax(output_tokens[0, -1, :])\n",
    "        # Map the indices to the corresponding character\n",
    "        sampled_char = reverse_target_char_index[sampled_token_index]\n",
    "        # Concatenate the predicted char\n",
    "        decoded_sentence += sampled_char\n",
    "\n",
    "        # Exit condition: either hit max length\n",
    "        # or find stop character.\n",
    "        if sampled_char == \"\\n\" or len(decoded_sentence) > max_decoder_seq_length:\n",
    "            stop_condition = True\n",
    "\n",
    "        # Update the target sequence (of length 1).\n",
    "        target_seq = np.zeros((1, 1, num_decoder_tokens))\n",
    "        target_seq[0, 0, sampled_token_index] = 1.0\n",
    "\n",
    "        # Update states\n",
    "        states_value = [h, c]\n",
    "    return decoded_sentence"
   ]
  },
  {
   "cell_type": "code",
   "execution_count": 24,
   "id": "neutral-edmonton",
   "metadata": {},
   "outputs": [
    {
     "name": "stdout",
     "output_type": "stream",
     "text": [
      "-\n",
      "Input sentence: Go.\n",
      "Decoded sentence: Vete a la mana.\n",
      "\n",
      "-\n",
      "Input sentence: Go.\n",
      "Decoded sentence: Vete a la mana.\n",
      "\n",
      "-\n",
      "Input sentence: Go.\n",
      "Decoded sentence: Vete a la mana.\n",
      "\n",
      "-\n",
      "Input sentence: Go.\n",
      "Decoded sentence: Vete a la mana.\n",
      "\n",
      "-\n",
      "Input sentence: Hi.\n",
      "Decoded sentence: Hole.\n",
      "\n",
      "-\n",
      "Input sentence: Run!\n",
      "Decoded sentence: ¡Corre!\n",
      "\n",
      "-\n",
      "Input sentence: Run!\n",
      "Decoded sentence: ¡Corre!\n",
      "\n",
      "-\n",
      "Input sentence: Run!\n",
      "Decoded sentence: ¡Corre!\n",
      "\n",
      "-\n",
      "Input sentence: Run!\n",
      "Decoded sentence: ¡Corre!\n",
      "\n",
      "-\n",
      "Input sentence: Run.\n",
      "Decoded sentence: Sé tante.\n",
      "\n"
     ]
    }
   ],
   "source": [
    "for seq_index in range(10):\n",
    "    # Take one sequence (part of the training set)\n",
    "    # for trying out decoding.\n",
    "    input_seq = encoder_input_data[seq_index : seq_index + 1]\n",
    "    decoded_sentence = decode_sequence(input_seq)\n",
    "    print(\"-\")\n",
    "    print(\"Input sentence:\", input_texts[seq_index])\n",
    "    print(\"Decoded sentence:\", decoded_sentence)"
   ]
  },
  {
   "cell_type": "markdown",
   "id": "nominated-korea",
   "metadata": {},
   "source": [
    "### Forecast on the New Inputs\n"
   ]
  },
  {
   "cell_type": "code",
   "execution_count": 25,
   "id": "owned-sweden",
   "metadata": {},
   "outputs": [],
   "source": [
    "\n",
    "New_input_text = \"great\"\n",
    "encoder_input_data = np.zeros(\n",
    "    (1, max_encoder_seq_length, num_encoder_tokens), dtype=\"float32\"\n",
    ")\n",
    "\n",
    "for t, char in enumerate(New_input_text):\n",
    "    encoder_input_data[0, t, input_token_index[char]] = 1.0\n",
    "    # Pad the remaining using space that is mapped to 1\n",
    "    encoder_input_data[0, t + 1 :, input_token_index[\" \"]] = 1.0\n"
   ]
  },
  {
   "cell_type": "code",
   "execution_count": 26,
   "id": "liked-effort",
   "metadata": {},
   "outputs": [
    {
     "name": "stdout",
     "output_type": "stream",
     "text": [
      "The input sentence: great, the decoded sentence: =¿Vine eso?\n",
      "\n"
     ]
    }
   ],
   "source": [
    "decoded_sentence = decode_sequence(encoder_input_data)\n",
    "print(f\"The input sentence: {New_input_text}, the decoded sentence: ={decoded_sentence}\")\n"
   ]
  },
  {
   "cell_type": "markdown",
   "id": "biblical-interpretation",
   "metadata": {},
   "source": [
    "# Summary\n",
    "\n",
    "+ The sequence to sequence model typically contains an encoder and a decoder.\n",
    "+ We need to add a classifier in the decoder to forecast the next token.\n",
    "+ We can use multilayer RNNs to implement the encoder and the decoder.\n",
    "+ We need to design the inference model to forecast tokens instead of using the original model.\n",
    "+ We learn how to train and evaluate the sequence to sequence model. "
   ]
  }
 ],
 "metadata": {
  "kernelspec": {
   "display_name": "Python 3",
   "language": "python",
   "name": "python3"
  },
  "language_info": {
   "codemirror_mode": {
    "name": "ipython",
    "version": 3
   },
   "file_extension": ".py",
   "mimetype": "text/x-python",
   "name": "python",
   "nbconvert_exporter": "python",
   "pygments_lexer": "ipython3",
   "version": "3.7.8"
  }
 },
 "nbformat": 4,
 "nbformat_minor": 5
}
