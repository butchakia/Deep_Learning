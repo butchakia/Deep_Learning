{
 "cells": [
  {
   "cell_type": "markdown",
   "id": "e650e849",
   "metadata": {},
   "source": [
    "# DSCI 619 - Deep Learning, Project 6\n",
    "\n",
    "### *Jeffery Boczkaja*"
   ]
  },
  {
   "cell_type": "markdown",
   "id": "421d4fef",
   "metadata": {},
   "source": [
    "## 1. Load the dataset, clean and prepare"
   ]
  },
  {
   "cell_type": "code",
   "execution_count": 1,
   "id": "8eff7156",
   "metadata": {},
   "outputs": [],
   "source": [
    "import os\n",
    "import random\n",
    "import numpy as np\n",
    "import tensorflow as tf\n",
    "from tensorflow import keras\n",
    "\n",
    "# Fix the seeds\n",
    "# https://stackoverflow.com/questions/1805265/how-to-fix-value-produced-by-random\n",
    "SEED = 101\n",
    "os.environ['PYTHONHASHSEED']=str(SEED)\n",
    "os.environ['TF_CUDNN_DETERMINISTIC'] = '1'  \n",
    "random.seed(SEED)\n",
    "np.random.seed(SEED)\n",
    "tf.random.set_seed(SEED)"
   ]
  },
  {
   "cell_type": "markdown",
   "id": "f2f641b8",
   "metadata": {},
   "source": [
    "### Set the Hyperparameters"
   ]
  },
  {
   "cell_type": "code",
   "execution_count": 2,
   "id": "24fca41f",
   "metadata": {},
   "outputs": [],
   "source": [
    "# Set the batch size\n",
    "batch_size = 64  \n",
    "# Set the epochs number\n",
    "epochs = 100  \n",
    "# Latent dimensionality of the encoding space.\n",
    "latent_dim = 256  \n",
    "# Number of samples to use.\n",
    "num_samples = 10000  \n",
    "# Data file \n",
    "data_path = \"deu-eng.txt\""
   ]
  },
  {
   "cell_type": "markdown",
   "id": "9902ca85",
   "metadata": {},
   "source": [
    "### Separate Input Texts and Target Texts"
   ]
  },
  {
   "cell_type": "code",
   "execution_count": 3,
   "id": "503e2087",
   "metadata": {},
   "outputs": [],
   "source": [
    "# Obtain the features (input) and labels (target)\n",
    "input_texts = []\n",
    "target_texts = []\n",
    "# Unique characters in the inputs and targets\n",
    "input_characters = set()\n",
    "target_characters = set()\n",
    "# Load the data into memory\n",
    "with open(data_path, \"r\", encoding=\"utf-8\") as f:\n",
    "    lines = f.read().split(\"\\n\")\n",
    "# Process line by line\n",
    "for line in lines[: min(num_samples, len(lines) - 1)]:\n",
    "    # Data format English + TAB + The Other Language + TAB + Attribution\n",
    "    # It returns: English, The other language, and Attribution, which is discarded\n",
    "    input_text, target_text, _ = line.split(\"\\t\")\n",
    "    # We use \"tab\" as the \"start sequence\" character\n",
    "    # for the targets, and \"\\n\" as \"end sequence\" character.\n",
    "    target_text = \"\\t\" + target_text + \"\\n\"\n",
    "    input_texts.append(input_text)\n",
    "    target_texts.append(target_text)\n",
    "    # Get the unique char from the input texts\n",
    "    for char in input_text:\n",
    "        if char not in input_characters:\n",
    "            input_characters.add(char)\n",
    "    # Get the unique char from the target texts\n",
    "    for char in target_text:\n",
    "        if char not in target_characters:\n",
    "            target_characters.add(char)"
   ]
  },
  {
   "cell_type": "code",
   "execution_count": 4,
   "id": "f115f8af",
   "metadata": {},
   "outputs": [
    {
     "name": "stdout",
     "output_type": "stream",
     "text": [
      "Number of samples:= 10000\n",
      "Number of unique input tokens: = 71\n",
      "Number of unique output tokens: = 85\n",
      "Max sequence length for inputs: = 15\n",
      "Max sequence length for outputs: = 45\n"
     ]
    }
   ],
   "source": [
    "input_characters = sorted(list(input_characters))\n",
    "target_characters = sorted(list(target_characters))\n",
    "num_encoder_tokens = len(input_characters)\n",
    "num_decoder_tokens = len(target_characters)\n",
    "max_encoder_seq_length = max([len(txt) for txt in input_texts])\n",
    "max_decoder_seq_length = max([len(txt) for txt in target_texts])\n",
    "\n",
    "print(f'Number of samples:= {len(input_texts)}')\n",
    "print(f\"Number of unique input tokens: = {num_encoder_tokens}\")\n",
    "print(f\"Number of unique output tokens: = {num_decoder_tokens}\")\n",
    "print(f\"Max sequence length for inputs: = {max_encoder_seq_length}\")\n",
    "print(f\"Max sequence length for outputs: = {max_decoder_seq_length}\")"
   ]
  },
  {
   "cell_type": "markdown",
   "id": "c5fa0ed6",
   "metadata": {},
   "source": [
    "### Map Input and Target Characters to Numbers"
   ]
  },
  {
   "cell_type": "code",
   "execution_count": 5,
   "id": "9b55afe9",
   "metadata": {},
   "outputs": [],
   "source": [
    "input_token_index = dict([(char, i) for i, char in enumerate(input_characters)])\n",
    "target_token_index = dict([(char, i) for i, char in enumerate(target_characters)])"
   ]
  },
  {
   "cell_type": "code",
   "execution_count": 6,
   "id": "da4828bf",
   "metadata": {},
   "outputs": [
    {
     "data": {
      "text/plain": [
       "{' ': 0,\n",
       " '!': 1,\n",
       " '\"': 2,\n",
       " '$': 3,\n",
       " '%': 4,\n",
       " \"'\": 5,\n",
       " ',': 6,\n",
       " '-': 7,\n",
       " '.': 8,\n",
       " '0': 9,\n",
       " '1': 10,\n",
       " '2': 11,\n",
       " '3': 12,\n",
       " '4': 13,\n",
       " '5': 14,\n",
       " '6': 15,\n",
       " '7': 16,\n",
       " '8': 17,\n",
       " '9': 18,\n",
       " ':': 19,\n",
       " '?': 20,\n",
       " 'A': 21,\n",
       " 'B': 22,\n",
       " 'C': 23,\n",
       " 'D': 24,\n",
       " 'E': 25,\n",
       " 'F': 26,\n",
       " 'G': 27,\n",
       " 'H': 28,\n",
       " 'I': 29,\n",
       " 'J': 30,\n",
       " 'K': 31,\n",
       " 'L': 32,\n",
       " 'M': 33,\n",
       " 'N': 34,\n",
       " 'O': 35,\n",
       " 'P': 36,\n",
       " 'Q': 37,\n",
       " 'R': 38,\n",
       " 'S': 39,\n",
       " 'T': 40,\n",
       " 'U': 41,\n",
       " 'V': 42,\n",
       " 'W': 43,\n",
       " 'Y': 44,\n",
       " 'a': 45,\n",
       " 'b': 46,\n",
       " 'c': 47,\n",
       " 'd': 48,\n",
       " 'e': 49,\n",
       " 'f': 50,\n",
       " 'g': 51,\n",
       " 'h': 52,\n",
       " 'i': 53,\n",
       " 'j': 54,\n",
       " 'k': 55,\n",
       " 'l': 56,\n",
       " 'm': 57,\n",
       " 'n': 58,\n",
       " 'o': 59,\n",
       " 'p': 60,\n",
       " 'q': 61,\n",
       " 'r': 62,\n",
       " 's': 63,\n",
       " 't': 64,\n",
       " 'u': 65,\n",
       " 'v': 66,\n",
       " 'w': 67,\n",
       " 'x': 68,\n",
       " 'y': 69,\n",
       " 'z': 70}"
      ]
     },
     "execution_count": 6,
     "metadata": {},
     "output_type": "execute_result"
    }
   ],
   "source": [
    "input_token_index"
   ]
  },
  {
   "cell_type": "markdown",
   "id": "b5b75ea5",
   "metadata": {},
   "source": [
    "### Convert Input and Target Texts to Numerical Values"
   ]
  },
  {
   "cell_type": "code",
   "execution_count": 7,
   "id": "33e60004",
   "metadata": {},
   "outputs": [],
   "source": [
    "# Initialize the 3 D matrix\n",
    "encoder_input_data = np.zeros(\n",
    "    (len(input_texts), max_encoder_seq_length, num_encoder_tokens), dtype=\"float32\"\n",
    ")\n",
    "decoder_input_data = np.zeros(\n",
    "    (len(target_texts), max_decoder_seq_length, num_decoder_tokens), dtype=\"float32\"\n",
    ")\n",
    "decoder_target_data = np.zeros(\n",
    "    (len(target_texts), max_decoder_seq_length, num_decoder_tokens), dtype=\"float32\"\n",
    ")\n",
    "\n",
    "# Convert the input texts and target texts to numerical values\n",
    "for i, (input_text, target_text) in enumerate(zip(input_texts, target_texts)):\n",
    "    # Convert input texts to numerical values\n",
    "    for t, char in enumerate(input_text):\n",
    "        encoder_input_data[i, t, input_token_index[char]] = 1.0\n",
    "    # Pad the remaining using space that is mapped to 1\n",
    "    encoder_input_data[i, t + 1 :, input_token_index[\" \"]] = 1.0\n",
    "    # Convert target texts to numerical values\n",
    "    for t, char in enumerate(target_text):\n",
    "        # decoder input is used to forecast decoder target\n",
    "        # decoder_target_data is ahead of decoder_input_data by one timestep\n",
    "        decoder_input_data[i, t, target_token_index[char]] = 1.0\n",
    "        if t > 0:\n",
    "            # decoder_target_data will be ahead by one timestep\n",
    "            # and will not include the start character.\n",
    "            decoder_target_data[i, t - 1, target_token_index[char]] = 1.0\n",
    "    # Pad the remaining using space that is mapped to 1\n",
    "    decoder_input_data[i, t + 1 :, target_token_index[\" \"]] = 1.0\n",
    "    decoder_target_data[i, t:, target_token_index[\" \"]] = 1.0"
   ]
  },
  {
   "cell_type": "code",
   "execution_count": 8,
   "id": "c20dcd04",
   "metadata": {},
   "outputs": [
    {
     "data": {
      "text/plain": [
       "array([[[0., 0., 0., ..., 0., 0., 0.],\n",
       "        [0., 0., 0., ..., 0., 0., 0.],\n",
       "        [0., 0., 0., ..., 0., 0., 0.],\n",
       "        ...,\n",
       "        [1., 0., 0., ..., 0., 0., 0.],\n",
       "        [1., 0., 0., ..., 0., 0., 0.],\n",
       "        [1., 0., 0., ..., 0., 0., 0.]],\n",
       "\n",
       "       [[0., 0., 0., ..., 0., 0., 0.],\n",
       "        [0., 0., 0., ..., 0., 0., 0.],\n",
       "        [0., 0., 0., ..., 0., 0., 0.],\n",
       "        ...,\n",
       "        [1., 0., 0., ..., 0., 0., 0.],\n",
       "        [1., 0., 0., ..., 0., 0., 0.],\n",
       "        [1., 0., 0., ..., 0., 0., 0.]],\n",
       "\n",
       "       [[0., 0., 0., ..., 0., 0., 0.],\n",
       "        [0., 0., 0., ..., 0., 0., 0.],\n",
       "        [0., 0., 0., ..., 0., 0., 0.],\n",
       "        ...,\n",
       "        [1., 0., 0., ..., 0., 0., 0.],\n",
       "        [1., 0., 0., ..., 0., 0., 0.],\n",
       "        [1., 0., 0., ..., 0., 0., 0.]],\n",
       "\n",
       "       ...,\n",
       "\n",
       "       [[0., 0., 0., ..., 0., 0., 0.],\n",
       "        [0., 0., 0., ..., 0., 0., 0.],\n",
       "        [0., 0., 0., ..., 0., 0., 0.],\n",
       "        ...,\n",
       "        [0., 0., 0., ..., 0., 0., 0.],\n",
       "        [0., 0., 0., ..., 0., 0., 0.],\n",
       "        [0., 0., 0., ..., 0., 0., 0.]],\n",
       "\n",
       "       [[0., 0., 0., ..., 0., 0., 0.],\n",
       "        [0., 0., 0., ..., 0., 0., 0.],\n",
       "        [0., 0., 0., ..., 0., 0., 0.],\n",
       "        ...,\n",
       "        [0., 0., 0., ..., 0., 0., 0.],\n",
       "        [0., 0., 0., ..., 0., 1., 0.],\n",
       "        [0., 0., 0., ..., 0., 0., 0.]],\n",
       "\n",
       "       [[0., 0., 0., ..., 0., 0., 0.],\n",
       "        [0., 0., 0., ..., 0., 0., 0.],\n",
       "        [0., 0., 0., ..., 0., 0., 0.],\n",
       "        ...,\n",
       "        [0., 0., 0., ..., 0., 0., 0.],\n",
       "        [0., 0., 0., ..., 0., 1., 0.],\n",
       "        [0., 0., 0., ..., 0., 0., 0.]]], dtype=float32)"
      ]
     },
     "execution_count": 8,
     "metadata": {},
     "output_type": "execute_result"
    }
   ],
   "source": [
    "encoder_input_data"
   ]
  },
  {
   "cell_type": "code",
   "execution_count": 10,
   "id": "02c25546",
   "metadata": {
    "scrolled": true
   },
   "outputs": [
    {
     "data": {
      "text/plain": [
       "array([[[1., 0., 0., ..., 0., 0., 0.],\n",
       "        [0., 0., 0., ..., 0., 0., 0.],\n",
       "        [0., 0., 0., ..., 0., 0., 0.],\n",
       "        ...,\n",
       "        [0., 0., 1., ..., 0., 0., 0.],\n",
       "        [0., 0., 1., ..., 0., 0., 0.],\n",
       "        [0., 0., 1., ..., 0., 0., 0.]],\n",
       "\n",
       "       [[1., 0., 0., ..., 0., 0., 0.],\n",
       "        [0., 0., 0., ..., 0., 0., 0.],\n",
       "        [0., 0., 0., ..., 0., 0., 0.],\n",
       "        ...,\n",
       "        [0., 0., 1., ..., 0., 0., 0.],\n",
       "        [0., 0., 1., ..., 0., 0., 0.],\n",
       "        [0., 0., 1., ..., 0., 0., 0.]],\n",
       "\n",
       "       [[1., 0., 0., ..., 0., 0., 0.],\n",
       "        [0., 0., 0., ..., 0., 0., 0.],\n",
       "        [0., 0., 0., ..., 0., 0., 0.],\n",
       "        ...,\n",
       "        [0., 0., 1., ..., 0., 0., 0.],\n",
       "        [0., 0., 1., ..., 0., 0., 0.],\n",
       "        [0., 0., 1., ..., 0., 0., 0.]],\n",
       "\n",
       "       ...,\n",
       "\n",
       "       [[1., 0., 0., ..., 0., 0., 0.],\n",
       "        [0., 0., 0., ..., 0., 0., 0.],\n",
       "        [0., 0., 0., ..., 0., 0., 0.],\n",
       "        ...,\n",
       "        [0., 0., 1., ..., 0., 0., 0.],\n",
       "        [0., 0., 1., ..., 0., 0., 0.],\n",
       "        [0., 0., 1., ..., 0., 0., 0.]],\n",
       "\n",
       "       [[1., 0., 0., ..., 0., 0., 0.],\n",
       "        [0., 0., 0., ..., 0., 0., 0.],\n",
       "        [0., 0., 0., ..., 0., 0., 0.],\n",
       "        ...,\n",
       "        [0., 0., 1., ..., 0., 0., 0.],\n",
       "        [0., 0., 1., ..., 0., 0., 0.],\n",
       "        [0., 0., 1., ..., 0., 0., 0.]],\n",
       "\n",
       "       [[1., 0., 0., ..., 0., 0., 0.],\n",
       "        [0., 0., 0., ..., 0., 0., 0.],\n",
       "        [0., 0., 0., ..., 0., 0., 0.],\n",
       "        ...,\n",
       "        [0., 0., 1., ..., 0., 0., 0.],\n",
       "        [0., 0., 1., ..., 0., 0., 0.],\n",
       "        [0., 0., 1., ..., 0., 0., 0.]]], dtype=float32)"
      ]
     },
     "execution_count": 10,
     "metadata": {},
     "output_type": "execute_result"
    }
   ],
   "source": [
    "decoder_input_data"
   ]
  },
  {
   "cell_type": "code",
   "execution_count": 11,
   "id": "9bed2fb7",
   "metadata": {},
   "outputs": [
    {
     "data": {
      "text/plain": [
       "array([[[0., 0., 0., ..., 0., 0., 0.],\n",
       "        [0., 0., 0., ..., 0., 0., 0.],\n",
       "        [0., 0., 0., ..., 0., 0., 0.],\n",
       "        ...,\n",
       "        [0., 0., 1., ..., 0., 0., 0.],\n",
       "        [0., 0., 1., ..., 0., 0., 0.],\n",
       "        [0., 0., 1., ..., 0., 0., 0.]],\n",
       "\n",
       "       [[0., 0., 0., ..., 0., 0., 0.],\n",
       "        [0., 0., 0., ..., 0., 0., 0.],\n",
       "        [0., 0., 0., ..., 0., 0., 0.],\n",
       "        ...,\n",
       "        [0., 0., 1., ..., 0., 0., 0.],\n",
       "        [0., 0., 1., ..., 0., 0., 0.],\n",
       "        [0., 0., 1., ..., 0., 0., 0.]],\n",
       "\n",
       "       [[0., 0., 0., ..., 0., 0., 0.],\n",
       "        [0., 0., 0., ..., 0., 0., 0.],\n",
       "        [0., 0., 0., ..., 0., 0., 0.],\n",
       "        ...,\n",
       "        [0., 0., 1., ..., 0., 0., 0.],\n",
       "        [0., 0., 1., ..., 0., 0., 0.],\n",
       "        [0., 0., 1., ..., 0., 0., 0.]],\n",
       "\n",
       "       ...,\n",
       "\n",
       "       [[0., 0., 0., ..., 0., 0., 0.],\n",
       "        [0., 0., 0., ..., 0., 0., 0.],\n",
       "        [0., 0., 0., ..., 0., 0., 0.],\n",
       "        ...,\n",
       "        [0., 0., 1., ..., 0., 0., 0.],\n",
       "        [0., 0., 1., ..., 0., 0., 0.],\n",
       "        [0., 0., 1., ..., 0., 0., 0.]],\n",
       "\n",
       "       [[0., 0., 0., ..., 0., 0., 0.],\n",
       "        [0., 0., 0., ..., 0., 0., 0.],\n",
       "        [0., 0., 0., ..., 0., 0., 0.],\n",
       "        ...,\n",
       "        [0., 0., 1., ..., 0., 0., 0.],\n",
       "        [0., 0., 1., ..., 0., 0., 0.],\n",
       "        [0., 0., 1., ..., 0., 0., 0.]],\n",
       "\n",
       "       [[0., 0., 0., ..., 0., 0., 0.],\n",
       "        [0., 0., 0., ..., 0., 0., 0.],\n",
       "        [0., 0., 0., ..., 0., 0., 0.],\n",
       "        ...,\n",
       "        [0., 0., 1., ..., 0., 0., 0.],\n",
       "        [0., 0., 1., ..., 0., 0., 0.],\n",
       "        [0., 0., 1., ..., 0., 0., 0.]]], dtype=float32)"
      ]
     },
     "execution_count": 11,
     "metadata": {},
     "output_type": "execute_result"
    }
   ],
   "source": [
    "decoder_target_data"
   ]
  },
  {
   "cell_type": "markdown",
   "id": "f160c73d",
   "metadata": {},
   "source": [
    "## 2. Develop an encoder for the model"
   ]
  },
  {
   "cell_type": "code",
   "execution_count": 12,
   "id": "5b81a9e7",
   "metadata": {},
   "outputs": [],
   "source": [
    "## Begin Define the encoder layers\n",
    "# Define an input sequence\n",
    "encoder_inputs = keras.Input(shape=(None, num_encoder_tokens))\n",
    "# Define the LSTM which will return the hidden states\n",
    "encoder = keras.layers.LSTM(latent_dim, return_state=True)\n",
    "# Apply LSTM and return the outputs and hidden states\n",
    "encoder_outputs, state_h, state_c = encoder(encoder_inputs)\n",
    "# Discard the outputs and only keep the states.\n",
    "encoder_states = [state_h, state_c]\n",
    "## End Define the encoder layers"
   ]
  },
  {
   "cell_type": "markdown",
   "id": "5a02a4d3",
   "metadata": {},
   "source": [
    "## 3. Develop a decoder for the model"
   ]
  },
  {
   "cell_type": "code",
   "execution_count": 13,
   "id": "0be54dd1",
   "metadata": {},
   "outputs": [],
   "source": [
    "## Begin Define the decoder layers\n",
    "# Define the decoder inputs\n",
    "decoder_inputs = keras.Input(shape=(None, num_decoder_tokens))\n",
    "\n",
    "decoder_lstm = keras.layers.LSTM(latent_dim, return_sequences=True, return_state=True)\n",
    "# Set up the decoder, using `encoder_states` as initial state.\n",
    "# Kee the outputs and discard the hidden states\n",
    "decoder_outputs, _, _ = decoder_lstm(decoder_inputs, initial_state=encoder_states)\n",
    "# Forecast he decoder outputs using a classifier based on the decoder outputs\n",
    "decoder_dense = keras.layers.Dense(num_decoder_tokens, activation=\"softmax\")\n",
    "decoder_outputs = decoder_dense(decoder_outputs)\n",
    "## End Define the decoder layers"
   ]
  },
  {
   "cell_type": "markdown",
   "id": "e7a84542",
   "metadata": {},
   "source": [
    "## 4. Build the sequence to sequence model"
   ]
  },
  {
   "cell_type": "code",
   "execution_count": 15,
   "id": "dfeef2dc",
   "metadata": {},
   "outputs": [],
   "source": [
    "# Define the model that will turn\n",
    "# `encoder_input_data` & `decoder_input_data` into `decoder_target_data`\n",
    "model = keras.Model([encoder_inputs, decoder_inputs], decoder_outputs)"
   ]
  },
  {
   "cell_type": "code",
   "execution_count": 16,
   "id": "0e528159",
   "metadata": {},
   "outputs": [],
   "source": [
    "model.compile(\n",
    "    optimizer=\"rmsprop\", loss=\"categorical_crossentropy\", metrics=[\"accuracy\"]\n",
    ")"
   ]
  },
  {
   "cell_type": "markdown",
   "id": "9be1f94d",
   "metadata": {},
   "source": [
    "## 5. Train the model"
   ]
  },
  {
   "cell_type": "code",
   "execution_count": 17,
   "id": "e26961d1",
   "metadata": {},
   "outputs": [
    {
     "name": "stdout",
     "output_type": "stream",
     "text": [
      "Epoch 1/100\n",
      "125/125 [==============================] - 28s 163ms/step - loss: 1.5863 - accuracy: 0.6360 - val_loss: 1.4853 - val_accuracy: 0.6049\n",
      "Epoch 2/100\n",
      "125/125 [==============================] - 20s 163ms/step - loss: 1.2192 - accuracy: 0.6653 - val_loss: 1.2717 - val_accuracy: 0.6410\n",
      "Epoch 3/100\n",
      "125/125 [==============================] - 19s 150ms/step - loss: 1.0385 - accuracy: 0.7185 - val_loss: 1.0728 - val_accuracy: 0.7054\n",
      "Epoch 4/100\n",
      "125/125 [==============================] - 18s 147ms/step - loss: 0.8950 - accuracy: 0.7520 - val_loss: 0.9459 - val_accuracy: 0.7383\n",
      "Epoch 5/100\n",
      "125/125 [==============================] - 20s 161ms/step - loss: 0.8141 - accuracy: 0.7710 - val_loss: 0.8913 - val_accuracy: 0.7499\n",
      "Epoch 6/100\n",
      "125/125 [==============================] - 18s 146ms/step - loss: 0.7641 - accuracy: 0.7829 - val_loss: 0.8640 - val_accuracy: 0.7598\n",
      "Epoch 7/100\n",
      "125/125 [==============================] - 20s 156ms/step - loss: 0.7281 - accuracy: 0.7904 - val_loss: 0.8164 - val_accuracy: 0.7724\n",
      "Epoch 8/100\n",
      "125/125 [==============================] - 20s 157ms/step - loss: 0.7000 - accuracy: 0.7978 - val_loss: 0.7940 - val_accuracy: 0.7741\n",
      "Epoch 9/100\n",
      "125/125 [==============================] - 23s 186ms/step - loss: 0.6757 - accuracy: 0.8049 - val_loss: 0.7758 - val_accuracy: 0.7802\n",
      "Epoch 10/100\n",
      "125/125 [==============================] - 22s 177ms/step - loss: 0.6519 - accuracy: 0.8112 - val_loss: 0.7505 - val_accuracy: 0.7851\n",
      "Epoch 11/100\n",
      "125/125 [==============================] - 22s 176ms/step - loss: 0.6326 - accuracy: 0.8168 - val_loss: 0.7306 - val_accuracy: 0.7897\n",
      "Epoch 12/100\n",
      "125/125 [==============================] - 22s 176ms/step - loss: 0.6159 - accuracy: 0.8215 - val_loss: 0.7351 - val_accuracy: 0.7904\n",
      "Epoch 13/100\n",
      "125/125 [==============================] - 22s 174ms/step - loss: 0.6005 - accuracy: 0.8266 - val_loss: 0.7025 - val_accuracy: 0.7992\n",
      "Epoch 14/100\n",
      "125/125 [==============================] - 22s 172ms/step - loss: 0.5871 - accuracy: 0.8298 - val_loss: 0.7019 - val_accuracy: 0.7996\n",
      "Epoch 15/100\n",
      "125/125 [==============================] - 22s 173ms/step - loss: 0.5791 - accuracy: 0.8328 - val_loss: 0.6888 - val_accuracy: 0.8029\n",
      "Epoch 16/100\n",
      "125/125 [==============================] - 22s 176ms/step - loss: 0.5641 - accuracy: 0.8363 - val_loss: 0.6810 - val_accuracy: 0.8055\n",
      "Epoch 17/100\n",
      "125/125 [==============================] - 22s 172ms/step - loss: 0.5524 - accuracy: 0.8401 - val_loss: 0.6666 - val_accuracy: 0.8096\n",
      "Epoch 18/100\n",
      "125/125 [==============================] - 22s 174ms/step - loss: 0.5413 - accuracy: 0.8432 - val_loss: 0.6595 - val_accuracy: 0.8122\n",
      "Epoch 19/100\n",
      "125/125 [==============================] - 22s 178ms/step - loss: 0.5317 - accuracy: 0.8458 - val_loss: 0.6537 - val_accuracy: 0.8137\n",
      "Epoch 20/100\n",
      "125/125 [==============================] - 22s 173ms/step - loss: 0.5226 - accuracy: 0.8482 - val_loss: 0.6527 - val_accuracy: 0.8127\n",
      "Epoch 21/100\n",
      "125/125 [==============================] - 20s 157ms/step - loss: 0.5133 - accuracy: 0.8510 - val_loss: 0.6429 - val_accuracy: 0.8165\n",
      "Epoch 22/100\n",
      "125/125 [==============================] - 18s 144ms/step - loss: 0.5058 - accuracy: 0.8532 - val_loss: 0.6364 - val_accuracy: 0.8185\n",
      "Epoch 23/100\n",
      "125/125 [==============================] - 18s 148ms/step - loss: 0.4976 - accuracy: 0.8554 - val_loss: 0.6301 - val_accuracy: 0.8205\n",
      "Epoch 24/100\n",
      "125/125 [==============================] - 19s 150ms/step - loss: 0.4897 - accuracy: 0.8578 - val_loss: 0.6276 - val_accuracy: 0.8216\n",
      "Epoch 25/100\n",
      "125/125 [==============================] - 19s 151ms/step - loss: 0.4814 - accuracy: 0.8602 - val_loss: 0.6239 - val_accuracy: 0.8222\n",
      "Epoch 26/100\n",
      "125/125 [==============================] - 19s 152ms/step - loss: 0.4745 - accuracy: 0.8622 - val_loss: 0.6241 - val_accuracy: 0.8210\n",
      "Epoch 27/100\n",
      "125/125 [==============================] - 18s 145ms/step - loss: 0.4677 - accuracy: 0.8637 - val_loss: 0.6197 - val_accuracy: 0.8235\n",
      "Epoch 28/100\n",
      "125/125 [==============================] - 18s 142ms/step - loss: 0.4604 - accuracy: 0.8661 - val_loss: 0.6046 - val_accuracy: 0.8284\n",
      "Epoch 29/100\n",
      "125/125 [==============================] - 18s 147ms/step - loss: 0.4537 - accuracy: 0.8678 - val_loss: 0.6031 - val_accuracy: 0.8280\n",
      "Epoch 30/100\n",
      "125/125 [==============================] - 19s 151ms/step - loss: 0.4468 - accuracy: 0.8697 - val_loss: 0.5981 - val_accuracy: 0.8297\n",
      "Epoch 31/100\n",
      "125/125 [==============================] - 21s 169ms/step - loss: 0.4407 - accuracy: 0.8718 - val_loss: 0.5977 - val_accuracy: 0.8292\n",
      "Epoch 32/100\n",
      "125/125 [==============================] - 18s 148ms/step - loss: 0.4345 - accuracy: 0.8736 - val_loss: 0.6000 - val_accuracy: 0.8305\n",
      "Epoch 33/100\n",
      "125/125 [==============================] - 19s 155ms/step - loss: 0.4286 - accuracy: 0.8753 - val_loss: 0.5935 - val_accuracy: 0.8307\n",
      "Epoch 34/100\n",
      "125/125 [==============================] - 19s 150ms/step - loss: 0.4222 - accuracy: 0.8769 - val_loss: 0.5919 - val_accuracy: 0.8323\n",
      "Epoch 35/100\n",
      "125/125 [==============================] - 19s 149ms/step - loss: 0.4163 - accuracy: 0.8790 - val_loss: 0.5914 - val_accuracy: 0.8338\n",
      "Epoch 36/100\n",
      "125/125 [==============================] - 19s 148ms/step - loss: 0.4109 - accuracy: 0.8805 - val_loss: 0.5908 - val_accuracy: 0.8329\n",
      "Epoch 37/100\n",
      "125/125 [==============================] - 19s 149ms/step - loss: 0.4056 - accuracy: 0.8821 - val_loss: 0.5877 - val_accuracy: 0.8344\n",
      "Epoch 38/100\n",
      "125/125 [==============================] - 20s 164ms/step - loss: 0.3998 - accuracy: 0.8837 - val_loss: 0.5818 - val_accuracy: 0.8356\n",
      "Epoch 39/100\n",
      "125/125 [==============================] - 20s 160ms/step - loss: 0.3941 - accuracy: 0.8850 - val_loss: 0.5821 - val_accuracy: 0.8363\n",
      "Epoch 40/100\n",
      "125/125 [==============================] - 20s 162ms/step - loss: 0.3891 - accuracy: 0.8869 - val_loss: 0.5806 - val_accuracy: 0.8367\n",
      "Epoch 41/100\n",
      "125/125 [==============================] - 21s 170ms/step - loss: 0.3834 - accuracy: 0.8879 - val_loss: 0.5770 - val_accuracy: 0.8382\n",
      "Epoch 42/100\n",
      "125/125 [==============================] - 20s 158ms/step - loss: 0.3783 - accuracy: 0.8896 - val_loss: 0.5801 - val_accuracy: 0.8382\n",
      "Epoch 43/100\n",
      "125/125 [==============================] - 19s 153ms/step - loss: 0.3732 - accuracy: 0.8913 - val_loss: 0.5771 - val_accuracy: 0.8396\n",
      "Epoch 44/100\n",
      "125/125 [==============================] - 21s 166ms/step - loss: 0.3683 - accuracy: 0.8927 - val_loss: 0.5858 - val_accuracy: 0.8369\n",
      "Epoch 45/100\n",
      "125/125 [==============================] - 19s 153ms/step - loss: 0.3635 - accuracy: 0.8939 - val_loss: 0.5817 - val_accuracy: 0.8386\n",
      "Epoch 46/100\n",
      "125/125 [==============================] - 19s 153ms/step - loss: 0.3588 - accuracy: 0.8954 - val_loss: 0.5734 - val_accuracy: 0.8406\n",
      "Epoch 47/100\n",
      "125/125 [==============================] - 18s 147ms/step - loss: 0.3536 - accuracy: 0.8971 - val_loss: 0.5804 - val_accuracy: 0.8390\n",
      "Epoch 48/100\n",
      "125/125 [==============================] - 19s 148ms/step - loss: 0.3491 - accuracy: 0.8983 - val_loss: 0.5784 - val_accuracy: 0.8414\n",
      "Epoch 49/100\n",
      "125/125 [==============================] - 19s 155ms/step - loss: 0.3444 - accuracy: 0.8999 - val_loss: 0.5826 - val_accuracy: 0.8403\n",
      "Epoch 50/100\n",
      "125/125 [==============================] - 14421s 116s/step - loss: 0.3396 - accuracy: 0.9012 - val_loss: 0.5818 - val_accuracy: 0.8411\n",
      "Epoch 51/100\n",
      "125/125 [==============================] - 48826s 394s/step - loss: 0.3350 - accuracy: 0.9024 - val_loss: 0.5812 - val_accuracy: 0.8413\n",
      "Epoch 52/100\n",
      "125/125 [==============================] - 33s 265ms/step - loss: 0.3305 - accuracy: 0.9040 - val_loss: 0.5777 - val_accuracy: 0.8424\n",
      "Epoch 53/100\n",
      "125/125 [==============================] - 25s 203ms/step - loss: 0.3263 - accuracy: 0.9051 - val_loss: 0.5782 - val_accuracy: 0.8433\n",
      "Epoch 54/100\n",
      "125/125 [==============================] - 27s 219ms/step - loss: 0.3219 - accuracy: 0.9067 - val_loss: 0.5814 - val_accuracy: 0.8423\n",
      "Epoch 55/100\n",
      "125/125 [==============================] - 24s 192ms/step - loss: 0.3179 - accuracy: 0.9078 - val_loss: 0.5807 - val_accuracy: 0.8428\n",
      "Epoch 56/100\n",
      "125/125 [==============================] - 26s 211ms/step - loss: 0.3135 - accuracy: 0.9088 - val_loss: 0.5848 - val_accuracy: 0.8419\n"
     ]
    },
    {
     "name": "stdout",
     "output_type": "stream",
     "text": [
      "Epoch 57/100\n",
      "125/125 [==============================] - 28s 222ms/step - loss: 0.3099 - accuracy: 0.9102 - val_loss: 0.5831 - val_accuracy: 0.8425\n",
      "Epoch 58/100\n",
      "125/125 [==============================] - 26s 210ms/step - loss: 0.3053 - accuracy: 0.9116 - val_loss: 0.5931 - val_accuracy: 0.8419\n",
      "INFO:tensorflow:Assets written to: s2s\\assets\n"
     ]
    },
    {
     "name": "stderr",
     "output_type": "stream",
     "text": [
      "INFO:tensorflow:Assets written to: s2s\\assets\n"
     ]
    }
   ],
   "source": [
    "from tensorflow.keras.callbacks import EarlyStopping\n",
    "# Setup early stopping criteria\n",
    "early_stopping = EarlyStopping(\n",
    "    monitor='val_accuracy', \n",
    "    patience=5, \n",
    "    min_delta=0.001, \n",
    "    mode='max'\n",
    ")\n",
    "history = model.fit(\n",
    "    [encoder_input_data, decoder_input_data],\n",
    "    decoder_target_data,\n",
    "    batch_size=batch_size,\n",
    "    epochs=epochs,\n",
    "    validation_split=0.2,\n",
    "    callbacks=[early_stopping],\n",
    ")\n",
    "# Save model\n",
    "model.save(\"s2s\")"
   ]
  },
  {
   "cell_type": "markdown",
   "id": "6c793225",
   "metadata": {},
   "source": [
    "## 6. Evaluate the model and check the model fit"
   ]
  },
  {
   "cell_type": "code",
   "execution_count": 18,
   "id": "c7e8595c",
   "metadata": {},
   "outputs": [
    {
     "data": {
      "text/plain": [
       "<matplotlib.legend.Legend at 0x287067203d0>"
      ]
     },
     "execution_count": 18,
     "metadata": {},
     "output_type": "execute_result"
    },
    {
     "data": {
      "image/png": "[encoded data removed]",
      "text/plain": [
       "<Figure size 640x480 with 1 Axes>"
      ]
     },
     "metadata": {},
     "output_type": "display_data"
    }
   ],
   "source": [
    "import seaborn as sns\n",
    "import pandas as pd\n",
    "import matplotlib.pyplot as plt\n",
    "\n",
    "train_history = pd.DataFrame(history.history)\n",
    "train_history['epoch'] = history.epoch\n",
    "# Plot train loss\n",
    "sns.lineplot(x='epoch', y ='loss', data =train_history)\n",
    "# Plot validation loss\n",
    "sns.lineplot(x='epoch', y ='val_loss', data =train_history)\n",
    "# Add legends\n",
    "plt.legend(labels=['train_loss', '', 'val_loss'])"
   ]
  },
  {
   "cell_type": "code",
   "execution_count": 19,
   "id": "0cd89385",
   "metadata": {},
   "outputs": [
    {
     "data": {
      "text/plain": [
       "<matplotlib.legend.Legend at 0x287067cd250>"
      ]
     },
     "execution_count": 19,
     "metadata": {},
     "output_type": "execute_result"
    },
    {
     "data": {
      "image/png": "[encoded data removed]",
      "text/plain": [
       "<Figure size 640x480 with 1 Axes>"
      ]
     },
     "metadata": {},
     "output_type": "display_data"
    }
   ],
   "source": [
    "sns.lineplot(x='epoch', y ='accuracy', data =train_history)\n",
    "# Plot validation loss\n",
    "sns.lineplot(x='epoch', y ='val_accuracy', data =train_history)\n",
    "# Add legends\n",
    "plt.legend(labels=['train_accuracy', '', 'val_accuracy'])"
   ]
  },
  {
   "cell_type": "markdown",
   "id": "33489af4",
   "metadata": {},
   "source": [
    "## 7. Run the inference"
   ]
  },
  {
   "cell_type": "code",
   "execution_count": 20,
   "id": "364e9ad5",
   "metadata": {},
   "outputs": [
    {
     "name": "stdout",
     "output_type": "stream",
     "text": [
      "Model: \"model_1\"\n",
      "__________________________________________________________________________________________________\n",
      " Layer (type)                Output Shape                 Param #   Connected to                  \n",
      "==================================================================================================\n",
      " input_1 (InputLayer)        [(None, None, 71)]           0         []                            \n",
      "                                                                                                  \n",
      " input_2 (InputLayer)        [(None, None, 85)]           0         []                            \n",
      "                                                                                                  \n",
      " lstm (LSTM)                 [(None, 256),                335872    ['input_1[0][0]']             \n",
      "                              (None, 256),                                                        \n",
      "                              (None, 256)]                                                        \n",
      "                                                                                                  \n",
      " lstm_1 (LSTM)               [(None, None, 256),          350208    ['input_2[0][0]',             \n",
      "                              (None, 256),                           'lstm[0][1]',                \n",
      "                              (None, 256)]                           'lstm[0][2]']                \n",
      "                                                                                                  \n",
      " dense (Dense)               (None, None, 85)             21845     ['lstm_1[0][0]']              \n",
      "                                                                                                  \n",
      "==================================================================================================\n",
      "Total params: 707925 (2.70 MB)\n",
      "Trainable params: 707925 (2.70 MB)\n",
      "Non-trainable params: 0 (0.00 Byte)\n",
      "__________________________________________________________________________________________________\n"
     ]
    }
   ],
   "source": [
    "model.summary()"
   ]
  },
  {
   "cell_type": "code",
   "execution_count": 21,
   "id": "ea43c0fb",
   "metadata": {},
   "outputs": [
    {
     "name": "stdout",
     "output_type": "stream",
     "text": [
      "You must install pydot (`pip install pydot`) and install graphviz (see instructions at https://graphviz.gitlab.io/download/) for plot_model to work.\n"
     ]
    }
   ],
   "source": [
    "tf.keras.utils.plot_model(model, show_shapes=True)"
   ]
  },
  {
   "cell_type": "code",
   "execution_count": 22,
   "id": "17f7fcfe",
   "metadata": {},
   "outputs": [
    {
     "data": {
      "text/plain": [
       "[<keras.src.engine.input_layer.InputLayer at 0x28739589850>,\n",
       " <keras.src.engine.input_layer.InputLayer at 0x287440ec7d0>,\n",
       " <keras.src.layers.rnn.lstm.LSTM at 0x2875e8b4c10>,\n",
       " <keras.src.layers.rnn.lstm.LSTM at 0x28743a45850>,\n",
       " <keras.src.layers.core.dense.Dense at 0x2875fafff50>]"
      ]
     },
     "execution_count": 22,
     "metadata": {},
     "output_type": "execute_result"
    }
   ],
   "source": [
    "model.layers"
   ]
  },
  {
   "cell_type": "code",
   "execution_count": 23,
   "id": "557ed4aa",
   "metadata": {},
   "outputs": [
    {
     "data": {
      "text/plain": [
       "[<KerasTensor: shape=(None, None, 71) dtype=float32 (created by layer 'input_1')>,\n",
       " <KerasTensor: shape=(None, None, 85) dtype=float32 (created by layer 'input_2')>]"
      ]
     },
     "execution_count": 23,
     "metadata": {},
     "output_type": "execute_result"
    }
   ],
   "source": [
    "model.input"
   ]
  },
  {
   "cell_type": "markdown",
   "id": "39c1842d",
   "metadata": {},
   "source": [
    "### Create inference model"
   ]
  },
  {
   "cell_type": "code",
   "execution_count": 24,
   "id": "b7d1204e",
   "metadata": {},
   "outputs": [],
   "source": [
    "# Define the inference models\n",
    "# Restore the model and construct the encoder and decoder.\n",
    "model = keras.models.load_model(\"s2s\")\n",
    "\n",
    "# Set up the encoder model\n",
    "encoder_inputs = model.input[0]  # input_1\n",
    "encoder_outputs, state_h_enc, state_c_enc = model.layers[2].output  # lstm_1\n",
    "encoder_states = [state_h_enc, state_c_enc]\n",
    "encoder_model = keras.Model(encoder_inputs, encoder_states)\n",
    "\n",
    "# Set up the decoder layer\n",
    "decoder_inputs = model.input[1]  # input_2\n",
    "# Set up the inputs for the hidden states\n",
    "decoder_state_input_h = keras.Input(shape=(latent_dim,), name=\"input_3\")\n",
    "decoder_state_input_c = keras.Input(shape=(latent_dim,), name=\"input_4\")\n",
    "decoder_states_inputs = [decoder_state_input_h, decoder_state_input_c]\n",
    "decoder_lstm = model.layers[3]\n",
    "decoder_outputs, state_h_dec, state_c_dec = decoder_lstm(\n",
    "    decoder_inputs, initial_state=decoder_states_inputs\n",
    ")\n",
    "decoder_states = [state_h_dec, state_c_dec]\n",
    "decoder_dense = model.layers[4]\n",
    "decoder_outputs = decoder_dense(decoder_outputs)\n",
    "\n",
    "# The decoder model with inputs and states inputs with the context info\n",
    "# The decoder model with outputs = decoder outputs and states with the context info\n",
    "decoder_model = keras.Model(\n",
    "    [decoder_inputs] + decoder_states_inputs, [decoder_outputs] + decoder_states\n",
    ")"
   ]
  },
  {
   "cell_type": "markdown",
   "id": "19d76694",
   "metadata": {},
   "source": [
    "### Forecast target texts"
   ]
  },
  {
   "cell_type": "code",
   "execution_count": 25,
   "id": "ff0f9dd2",
   "metadata": {},
   "outputs": [],
   "source": [
    "# Map the indicesto the corresponding characters\n",
    "reverse_input_char_index = dict((i, char) for char, i in input_token_index.items())\n",
    "reverse_target_char_index = dict((i, char) for char, i in target_token_index.items())"
   ]
  },
  {
   "cell_type": "code",
   "execution_count": 26,
   "id": "00ecf86d",
   "metadata": {},
   "outputs": [],
   "source": [
    "def decode_sequence(input_seq):\n",
    "    # Encode the input as state vectors.\n",
    "    states_value = encoder_model.predict(input_seq)\n",
    "\n",
    "    # Generate empty target sequence of length 1.\n",
    "    target_seq = np.zeros((1, 1, num_decoder_tokens))\n",
    "    # Populate the first character of target sequence with the start character.\n",
    "    target_seq[0, 0, target_token_index[\"\\t\"]] = 1.0\n",
    "\n",
    "    # Sampling loop for a batch of sequences\n",
    "    # (to simplify, here we assume a batch of size 1).\n",
    "    stop_condition = False\n",
    "    decoded_sentence = \"\"\n",
    "    while not stop_condition:\n",
    "        # forcast the outputs and hidden states\n",
    "        output_tokens, h, c = decoder_model.predict([target_seq] + states_value)\n",
    "        # Get the indices of the non-empty character\n",
    "        sampled_token_index = np.argmax(output_tokens[0, -1, :])\n",
    "        # Map the indices to the corresponding character\n",
    "        sampled_char = reverse_target_char_index[sampled_token_index]\n",
    "        # Concatenate the predicted char\n",
    "        decoded_sentence += sampled_char\n",
    "\n",
    "        # Exit condition: either hit max length\n",
    "        # or find stop character.\n",
    "        if sampled_char == \"\\n\" or len(decoded_sentence) > max_decoder_seq_length:\n",
    "            stop_condition = True\n",
    "\n",
    "        # Update the target sequence (of length 1).\n",
    "        target_seq = np.zeros((1, 1, num_decoder_tokens))\n",
    "        target_seq[0, 0, sampled_token_index] = 1.0\n",
    "\n",
    "        # Update states\n",
    "        states_value = [h, c]\n",
    "    return decoded_sentence"
   ]
  },
  {
   "cell_type": "code",
   "execution_count": 27,
   "id": "7a1cb8dc",
   "metadata": {},
   "outputs": [
    {
     "name": "stdout",
     "output_type": "stream",
     "text": [
      "1/1 [==============================] - 1s 1s/step\n",
      "1/1 [==============================] - 1s 665ms/step\n",
      "1/1 [==============================] - 0s 24ms/step\n",
      "1/1 [==============================] - 0s 25ms/step\n",
      "1/1 [==============================] - 0s 21ms/step\n",
      "1/1 [==============================] - 0s 26ms/step\n",
      "1/1 [==============================] - 0s 23ms/step\n",
      "1/1 [==============================] - 0s 26ms/step\n",
      "1/1 [==============================] - 0s 26ms/step\n",
      "1/1 [==============================] - 0s 23ms/step\n",
      "-\n",
      "Input sentence: Go.\n",
      "Decoded sentence: Geh weg!\n",
      "\n",
      "1/1 [==============================] - 0s 25ms/step\n",
      "1/1 [==============================] - 0s 43ms/step\n",
      "1/1 [==============================] - 0s 26ms/step\n",
      "1/1 [==============================] - 0s 22ms/step\n",
      "1/1 [==============================] - 0s 22ms/step\n",
      "1/1 [==============================] - 0s 21ms/step\n",
      "1/1 [==============================] - 0s 25ms/step\n",
      "1/1 [==============================] - 0s 21ms/step\n",
      "1/1 [==============================] - 0s 21ms/step\n",
      "-\n",
      "Input sentence: Hi.\n",
      "Decoded sentence: Dallos!\n",
      "\n",
      "1/1 [==============================] - 0s 32ms/step\n",
      "1/1 [==============================] - 0s 24ms/step\n",
      "1/1 [==============================] - 0s 26ms/step\n",
      "1/1 [==============================] - 0s 23ms/step\n",
      "1/1 [==============================] - 0s 22ms/step\n",
      "1/1 [==============================] - 0s 25ms/step\n",
      "1/1 [==============================] - 0s 24ms/step\n",
      "1/1 [==============================] - 0s 24ms/step\n",
      "1/1 [==============================] - 0s 22ms/step\n",
      "-\n",
      "Input sentence: Hi.\n",
      "Decoded sentence: Dallos!\n",
      "\n",
      "1/1 [==============================] - 0s 27ms/step\n",
      "1/1 [==============================] - 0s 25ms/step\n",
      "1/1 [==============================] - 0s 26ms/step\n",
      "1/1 [==============================] - 0s 33ms/step\n",
      "1/1 [==============================] - 0s 50ms/step\n",
      "1/1 [==============================] - 0s 22ms/step\n",
      "1/1 [==============================] - 0s 23ms/step\n",
      "1/1 [==============================] - 0s 25ms/step\n",
      "1/1 [==============================] - 0s 22ms/step\n",
      "1/1 [==============================] - 0s 41ms/step\n",
      "1/1 [==============================] - 0s 21ms/step\n",
      "1/1 [==============================] - 0s 24ms/step\n",
      "1/1 [==============================] - 0s 21ms/step\n",
      "1/1 [==============================] - 0s 24ms/step\n",
      "1/1 [==============================] - 0s 24ms/step\n",
      "1/1 [==============================] - 0s 22ms/step\n",
      "1/1 [==============================] - 0s 20ms/step\n",
      "-\n",
      "Input sentence: Run!\n",
      "Decoded sentence: Mach dich fort!\n",
      "\n",
      "1/1 [==============================] - 0s 23ms/step\n",
      "1/1 [==============================] - 0s 21ms/step\n",
      "1/1 [==============================] - 0s 22ms/step\n",
      "1/1 [==============================] - 0s 24ms/step\n",
      "1/1 [==============================] - 0s 24ms/step\n",
      "1/1 [==============================] - 0s 29ms/step\n",
      "1/1 [==============================] - 0s 22ms/step\n",
      "1/1 [==============================] - 0s 23ms/step\n",
      "1/1 [==============================] - 0s 26ms/step\n",
      "1/1 [==============================] - 0s 20ms/step\n",
      "-\n",
      "Input sentence: Run.\n",
      "Decoded sentence: Geh weg!\n",
      "\n",
      "1/1 [==============================] - 0s 22ms/step\n",
      "1/1 [==============================] - 0s 23ms/step\n",
      "1/1 [==============================] - 0s 21ms/step\n",
      "1/1 [==============================] - 0s 26ms/step\n",
      "1/1 [==============================] - 0s 23ms/step\n",
      "1/1 [==============================] - 0s 24ms/step\n",
      "1/1 [==============================] - 0s 24ms/step\n",
      "1/1 [==============================] - 0s 22ms/step\n",
      "-\n",
      "Input sentence: Wow!\n",
      "Decoded sentence: Warte!\n",
      "\n",
      "1/1 [==============================] - 0s 21ms/step\n",
      "1/1 [==============================] - 0s 22ms/step\n",
      "1/1 [==============================] - 0s 26ms/step\n",
      "1/1 [==============================] - 0s 20ms/step\n",
      "1/1 [==============================] - 0s 22ms/step\n",
      "1/1 [==============================] - 0s 21ms/step\n",
      "1/1 [==============================] - 0s 22ms/step\n",
      "1/1 [==============================] - 0s 28ms/step\n",
      "-\n",
      "Input sentence: Wow!\n",
      "Decoded sentence: Warte!\n",
      "\n",
      "1/1 [==============================] - 0s 25ms/step\n",
      "1/1 [==============================] - 0s 24ms/step\n",
      "1/1 [==============================] - 0s 22ms/step\n",
      "1/1 [==============================] - 0s 25ms/step\n",
      "1/1 [==============================] - 0s 25ms/step\n",
      "1/1 [==============================] - 0s 23ms/step\n",
      "1/1 [==============================] - 0s 22ms/step\n",
      "1/1 [==============================] - 0s 24ms/step\n",
      "1/1 [==============================] - 0s 20ms/step\n",
      "-\n",
      "Input sentence: Fire!\n",
      "Decoded sentence: Fangen!\n",
      "\n",
      "1/1 [==============================] - 0s 21ms/step\n",
      "1/1 [==============================] - 0s 25ms/step\n",
      "1/1 [==============================] - 0s 21ms/step\n",
      "1/1 [==============================] - 0s 25ms/step\n",
      "1/1 [==============================] - 0s 25ms/step\n",
      "1/1 [==============================] - 0s 23ms/step\n",
      "1/1 [==============================] - 0s 24ms/step\n",
      "1/1 [==============================] - 0s 23ms/step\n",
      "1/1 [==============================] - 0s 24ms/step\n",
      "-\n",
      "Input sentence: Help!\n",
      "Decoded sentence: Halfen!\n",
      "\n",
      "1/1 [==============================] - 0s 23ms/step\n",
      "1/1 [==============================] - 0s 25ms/step\n",
      "1/1 [==============================] - 0s 23ms/step\n",
      "1/1 [==============================] - 0s 23ms/step\n",
      "1/1 [==============================] - 0s 24ms/step\n",
      "1/1 [==============================] - 0s 24ms/step\n",
      "1/1 [==============================] - 0s 31ms/step\n",
      "1/1 [==============================] - 0s 30ms/step\n",
      "1/1 [==============================] - 0s 34ms/step\n",
      "-\n",
      "Input sentence: Help!\n",
      "Decoded sentence: Halfen!\n",
      "\n"
     ]
    }
   ],
   "source": [
    "for seq_index in range(10):\n",
    "    # Take one sequence (part of the training set)\n",
    "    # for trying out decoding.\n",
    "    input_seq = encoder_input_data[seq_index : seq_index + 1]\n",
    "    decoded_sentence = decode_sequence(input_seq)\n",
    "    print(\"-\")\n",
    "    print(\"Input sentence:\", input_texts[seq_index])\n",
    "    print(\"Decoded sentence:\", decoded_sentence)"
   ]
  },
  {
   "cell_type": "markdown",
   "id": "877f6db2",
   "metadata": {},
   "source": [
    "### Forecast on the new inputs"
   ]
  },
  {
   "cell_type": "code",
   "execution_count": 28,
   "id": "f20fac1d",
   "metadata": {},
   "outputs": [],
   "source": [
    "New_input_text = \"great\"\n",
    "encoder_input_data = np.zeros(\n",
    "    (1, max_encoder_seq_length, num_encoder_tokens), dtype=\"float32\"\n",
    ")\n",
    "\n",
    "for t, char in enumerate(New_input_text):\n",
    "    encoder_input_data[0, t, input_token_index[char]] = 1.0\n",
    "    # Pad the remaining using space that is mapped to 1\n",
    "    encoder_input_data[0, t + 1 :, input_token_index[\" \"]] = 1.0"
   ]
  },
  {
   "cell_type": "code",
   "execution_count": 30,
   "id": "723c35b3",
   "metadata": {},
   "outputs": [
    {
     "name": "stdout",
     "output_type": "stream",
     "text": [
      "1/1 [==============================] - 0s 19ms/step\n",
      "1/1 [==============================] - 0s 25ms/step\n",
      "1/1 [==============================] - 0s 22ms/step\n",
      "1/1 [==============================] - 0s 23ms/step\n",
      "1/1 [==============================] - 0s 23ms/step\n",
      "1/1 [==============================] - 0s 24ms/step\n",
      "1/1 [==============================] - 0s 22ms/step\n",
      "1/1 [==============================] - 0s 26ms/step\n",
      "1/1 [==============================] - 0s 24ms/step\n",
      "1/1 [==============================] - 0s 25ms/step\n",
      "1/1 [==============================] - 0s 26ms/step\n",
      "1/1 [==============================] - 0s 25ms/step\n",
      "1/1 [==============================] - 0s 27ms/step\n",
      "1/1 [==============================] - 0s 23ms/step\n",
      "1/1 [==============================] - 0s 23ms/step\n",
      "1/1 [==============================] - 0s 27ms/step\n",
      "1/1 [==============================] - 0s 32ms/step\n",
      "1/1 [==============================] - 0s 26ms/step\n",
      "1/1 [==============================] - 0s 21ms/step\n",
      "1/1 [==============================] - 0s 22ms/step\n",
      "1/1 [==============================] - 0s 25ms/step\n",
      "The input sentence: great, the decoded sentence: = Das ist eine Katte.\n",
      "\n"
     ]
    }
   ],
   "source": [
    "decoded_sentence = decode_sequence(encoder_input_data)\n",
    "print(f\"The input sentence: {New_input_text}, the decoded sentence: = {decoded_sentence}\")"
   ]
  }
 ],
 "metadata": {
  "kernelspec": {
   "display_name": "Python 3 (ipykernel)",
   "language": "python",
   "name": "python3"
  },
  "language_info": {
   "codemirror_mode": {
    "name": "ipython",
    "version": 3
   },
   "file_extension": ".py",
   "mimetype": "text/x-python",
   "name": "python",
   "nbconvert_exporter": "python",
   "pygments_lexer": "ipython3",
   "version": "3.11.5"
  }
 },
 "nbformat": 4,
 "nbformat_minor": 5
}
