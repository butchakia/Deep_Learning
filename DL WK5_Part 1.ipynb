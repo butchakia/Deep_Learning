{
 "cells": [
  {
   "cell_type": "markdown",
   "metadata": {},
   "source": [
    "# DSCI 619 Deep Learning\n",
    "# Week 5: Build Recurrent Neural Network (RNN) Models\n",
    "\n",
    "\n"
   ]
  },
  {
   "cell_type": "markdown",
   "metadata": {},
   "source": [
    "**Objectives**\n",
    "\n",
    "After you complete this module, students will be able to:\n",
    "\n",
    "\n",
    "+ Understand the recurrent neural network (RNN)\n",
    "+ Know the Gated Recurrent Unit (GRU)\n",
    "+ Understand Long Short-Term Memory layer.\n",
    "+ Use embedding layer to convert text to numerical values.\n",
    "+ Perform the sentiment analysis using GRU\n",
    "+ Apply LSTM to perform text classification\n",
    "\n",
    "Recurrent Neural Network (CNN) is a very popular model in deep learning. First, we cover the general RNN model.  Next, we will cover the LSTM and GRU layers. Third, we will show how to use RNN models to perform sentiment analysis and text classification.  \n",
    "\n",
    "**Readings**\n",
    "\n",
    "+ Recurrent Neural Network (RNN)(https://d2l.ai/chapter_recurrent-neural-networks/index.html)\n",
    "+ Recurrent Neural Networks (RNN) with Keras (https://www.tensorflow.org/guide/keras/rnn)\n",
    "\n"
   ]
  },
  {
   "cell_type": "markdown",
   "metadata": {},
   "source": [
    "# Week 5: Build Recurrent Neural Network (RNN) Models\n",
    "\n",
    "http://d2l.ai/chapter_recurrent-neural-networks/index.html\n"
   ]
  },
  {
   "cell_type": "markdown",
   "metadata": {},
   "source": [
    "## Short Introduction to RNN\n",
    "\n",
    "We have covered how to perform regression and classification using neural networks on the tabular data, such as the Excel workbook and images. There is a key assumption in these data. They are independent. For example, the 10th observation is independent of the 100th observation. We use feedforward neural networks to model them.\n",
    "\n",
    "There are problems that the independence assumption is not valid anymore. For example, we want to forecast the missing word for the following sentence: \n",
    "\n",
    "It is raining now. Please bring your $\\underline {\\ \\ \\ \\ \\ \\ \\  }$.\n",
    "\n",
    "By common sense, the missing word probably is \"umbrella\" since it depends on the context (Previous words). Therefore, we need another type of neural network that has a backward connection between hidden layers. Then, they can have some memory in them to model the dependence in the data. These neural networks are called Recurrent Neural Networks (RNN). We can use RNN models for text data and speech data. \n",
    "\n",
    "Typically RNN model has the following network architecture: \n",
    "\n",
    "<img src = \"RNN1.jpg\">\n",
    "\n",
    "Source: https://en.wikipedia.org/wiki/Recurrent_neural_network\n",
    "\n",
    "Note here:\n",
    "\n",
    "+ $x_t$ denotes the input vector, which depends on time t.\n",
    "+ $h_t$ is the hidden layer vector, which can memorize some historical data.\n",
    "+ $o_t$ is the output vector."
   ]
  },
  {
   "cell_type": "markdown",
   "metadata": {},
   "source": [
    "We use the default Relu (https://www.tensorflow.org/api_docs/python/tf/nn/relu) activation function a lot before. When we perform classification, we use sigmoid (https://www.tensorflow.org/api_docs/python/tf/keras/activations/sigmoid) for binary classification and softmax (https://www.tensorflow.org/api_docs/python/tf/keras/activations/softmax) for multiple \n",
    "classification.\n",
    "\n",
    "In RNN, we use the following three functions: Relu, sigmoid and Hyperbolic tangent function(https://www.tensorflow.org/api_docs/python/tf/keras/activations/tanh).\n",
    "\n",
    "The RNN is trained by backpropagation through time. Then the RNN is unfolded into a forward feed net with multiple layers. When the gradient is passed back through many time steps, it tends to grow or vanish because the gradients are multiplied many times. It is called the exploding and vanishing gradients problem. ( https://en.wikipedia.org/wiki/Vanishing_gradient_problem).   Hochreiter & Schmidhuber proposed the Long Short-Term Memory (LSTM) to address it in 2009. "
   ]
  },
  {
   "cell_type": "markdown",
   "metadata": {},
   "source": [
    "## Long Short-Term Memory (LSTM)\n",
    "\n",
    "\n",
    "A multi-layer long short-term memory (LSTM) RNN can be applied to an input sequence. LSTM has three gates that are input, output, and forget gates.\n",
    "\n",
    "For each element in the input sequence, each layer computes the following function:\n",
    "\n",
    "$$i_t =\\sigma( W_{ii}x_t+b_{ii}+W_{hi}h_{t-1}+b_{hi})$$\n",
    "$$f_t =\\sigma (W_{if}x_t+b_{if}+W_{hf}h){t-1}+b_{hf})$$\n",
    "$$g_t =\\tanh(W_{ig}x_t+b_{ig}+W_{hg}h_{t-1}+b_{hg})$$\n",
    "$$o_t =\\sigma (W_{io}x_t+b_{io}+W_{ho}h){t-1}+b_{ho})$$\n",
    "$$c_t=f_t \\circ c_{t-1}+i_t \\circ g_t$$\n",
    "$$h_t=o_t\\circ\\tanh(c_t)$$\n",
    "\n",
    "Where:\n",
    "\n",
    "+ $h_t$ is the hidden state at time $t$\n",
    "+ $c_t$ is the cell state at time $t$\n",
    "+ $i_t$ is the input gate\n",
    "+ $f_t$ is the forget gate\n",
    "+ $g_t$ is the cell \n",
    "+ $o_t$ is the ouput gate\n",
    "+ $\\circ$ is the Hadamard product\n",
    "+$\\sigma$ is the sigmoid funciton.\n",
    "\n",
    "<center> source: https://pytorch.org/docs/stable/generated/torch.nn.LSTM.html </center>\n",
    "\n",
    "By the equations above, **LSTM will generate three values (output, hidden, and cell)**. LSTMs are used in modeling tasks related to sequences. They can perform predictions based on its history. We often use LSTMs in NLP, such as machine translation and sentiment analysis. "
   ]
  },
  {
   "cell_type": "markdown",
   "metadata": {},
   "source": [
    "## Gated Recurrent Unit (GRU)\n",
    "\n",
    "LSTM has many parameters to estimate. Kyunghyun Cho et al. introduced the gated recurrent unit(GRU) (https://en.wikipedia.org/wiki/Gated_recurrent_unit) in 2014. GRUs have a few parameters than LSTMs.\n",
    "\n",
    "For each element in the input sequence, each layer computes the following function:\n",
    "\n",
    "$$r_t=\\sigma(W_{ir}x_t+b_{ir}+W_{hr}h_{(t-1)}+b_{hr})$$\n",
    "$$z_t=\\sigma(W_{iz}x_t+b_{iz}+W_{hz}h_{(t-1)}+b_{hz})$$\n",
    "$$n_t=\\tanh(W_{in}x_t+b_{in}+r_t*(W_{hn}h_{(t-1)}+b_{hn}))$$\n",
    "$$h_t=(1-z_t)*n_t+z_t*h_{(t-1)}$$\n",
    "\n",
    "where\n",
    "+ $h_t$ is the hidden state at time $t$\n",
    "+ $x_t$ is the input at time $t$\n",
    "+ $h_{(t-1)}$ is the hidden state of the layer at time $t-1$\n",
    "+ $r_t$ is the reset gate\n",
    "+ $z_t$ is the update gate\n",
    "+ $n_t$ is the new gate\n",
    "\n",
    "<center> source: https://pytorch.org/docs/stable/generated/torch.nn.GRU.html?highlight=gru#torch.nn.GRU </center>\n",
    "\n",
    "\n",
    "Chung, Gulcehre, Cho and Bengio published a paper, \"Empirical Evaluation of Gated Recurrent Neural Networks on Sequence Modeling\".\n",
    "\n",
    "In this paper we compare different types of recurrent units in recurrent neural networks (RNNs). Especially, we focus on more sophisticated units that implement a gating mechanism, such as a long short-term memory (LSTM) unit and a recently proposed gated recurrent unit (GRU). We evaluate these recurrent units on the tasks of polyphonic music modeling and speech signal modeling. Our experiments revealed that these advanced recurrent units are indeed better than more traditional recurrent units such as tanh units. Also, we found GRU to be comparable to LSTM.\n",
    "\n",
    "<center> source https://arxiv.org/pdf/1412.3555.pdf  </center>"
   ]
  },
  {
   "cell_type": "markdown",
   "metadata": {},
   "source": [
    "# Project of Text Classification Using TensorFlow\n",
    "\n",
    "\n",
    "Let’s look at a real-world project of text classification using TensorFlow. We will cover how to perform text classification using RNN. (see https://www.tensorflow.org/tutorials/text/text_classification_rnn). We work on the large movie review dataset ( see http://ai.stanford.edu/~amaas/data/sentiment/). It is a binary sentiment classification with 50,000 movie reviews. This dataset has the following two columns:\n",
    "\n",
    "+ **review**: Text\n",
    "+ **sentiment**: positive or negative \n",
    "\n",
    "Our goal is to forecast the **sentiment** based on the **review**. "
   ]
  },
  {
   "cell_type": "markdown",
   "metadata": {},
   "source": [
    "## Load and Clean the Data\n",
    "\n",
    "First, we load all the libraries for this sentiment analysis. "
   ]
  },
  {
   "cell_type": "code",
   "execution_count": 1,
   "metadata": {},
   "outputs": [],
   "source": [
    "import pandas as pd\n",
    "from sklearn import preprocessing\n",
    "import re\n",
    "from sklearn.model_selection import train_test_split\n",
    "import tensorflow as tf\n",
    "import numpy as np\n",
    "import seaborn as sns\n",
    "import pandas as pd\n",
    "import matplotlib.pyplot as plt"
   ]
  },
  {
   "cell_type": "markdown",
   "metadata": {},
   "source": [
    "Next, let's load the data into memory"
   ]
  },
  {
   "cell_type": "code",
   "execution_count": 2,
   "metadata": {},
   "outputs": [],
   "source": [
    "review_file_path ='C:\\\\Users\\\\liuyu\\\\OneDrive\\\\OneDrive - Maryville University\\\\DSCI 619\\\\Modules\\\\WK5\\\\IMDB Dataset.csv'\n",
    "review_csv_ds = pd.read_csv(review_file_path)"
   ]
  },
  {
   "cell_type": "code",
   "execution_count": 3,
   "metadata": {},
   "outputs": [
    {
     "data": {
      "text/html": [
       "<div>\n",
       "<style scoped>\n",
       "    .dataframe tbody tr th:only-of-type {\n",
       "        vertical-align: middle;\n",
       "    }\n",
       "\n",
       "    .dataframe tbody tr th {\n",
       "        vertical-align: top;\n",
       "    }\n",
       "\n",
       "    .dataframe thead th {\n",
       "        text-align: right;\n",
       "    }\n",
       "</style>\n",
       "<table border=\"1\" class=\"dataframe\">\n",
       "  <thead>\n",
       "    <tr style=\"text-align: right;\">\n",
       "      <th></th>\n",
       "      <th>review</th>\n",
       "      <th>sentiment</th>\n",
       "    </tr>\n",
       "  </thead>\n",
       "  <tbody>\n",
       "    <tr>\n",
       "      <th>0</th>\n",
       "      <td>One of the other reviewers has mentioned that ...</td>\n",
       "      <td>positive</td>\n",
       "    </tr>\n",
       "    <tr>\n",
       "      <th>1</th>\n",
       "      <td>A wonderful little production. &lt;br /&gt;&lt;br /&gt;The...</td>\n",
       "      <td>positive</td>\n",
       "    </tr>\n",
       "    <tr>\n",
       "      <th>2</th>\n",
       "      <td>I thought this was a wonderful way to spend ti...</td>\n",
       "      <td>positive</td>\n",
       "    </tr>\n",
       "    <tr>\n",
       "      <th>3</th>\n",
       "      <td>Basically there's a family where a little boy ...</td>\n",
       "      <td>negative</td>\n",
       "    </tr>\n",
       "    <tr>\n",
       "      <th>4</th>\n",
       "      <td>Petter Mattei's \"Love in the Time of Money\" is...</td>\n",
       "      <td>positive</td>\n",
       "    </tr>\n",
       "  </tbody>\n",
       "</table>\n",
       "</div>"
      ],
      "text/plain": [
       "                                              review sentiment\n",
       "0  One of the other reviewers has mentioned that ...  positive\n",
       "1  A wonderful little production. <br /><br />The...  positive\n",
       "2  I thought this was a wonderful way to spend ti...  positive\n",
       "3  Basically there's a family where a little boy ...  negative\n",
       "4  Petter Mattei's \"Love in the Time of Money\" is...  positive"
      ]
     },
     "execution_count": 3,
     "metadata": {},
     "output_type": "execute_result"
    }
   ],
   "source": [
    "review_csv_ds.head()"
   ]
  },
  {
   "cell_type": "markdown",
   "metadata": {},
   "source": [
    "We need to convert the label of sentiment to a numerical value using label encoding."
   ]
  },
  {
   "cell_type": "code",
   "execution_count": 4,
   "metadata": {},
   "outputs": [
    {
     "data": {
      "text/plain": [
       "0    25000\n",
       "1    25000\n",
       "Name: label, dtype: int64"
      ]
     },
     "execution_count": 4,
     "metadata": {},
     "output_type": "execute_result"
    }
   ],
   "source": [
    "le = preprocessing.LabelEncoder()\n",
    "review_csv_ds['label'] = le.fit_transform(review_csv_ds['sentiment'])\n",
    "review_csv_ds.label.value_counts()"
   ]
  },
  {
   "cell_type": "markdown",
   "metadata": {},
   "source": [
    "It is a balanced binary classification with 50% positive cases and 50% negative cases.\n"
   ]
  },
  {
   "cell_type": "markdown",
   "metadata": {},
   "source": [
    "Next, we need to clean the texts. We use the regular expressions (see https://docs.python.org/3/library/re.html). It is a powerful tool for us to clean texts using very compact codes. We perform the following tasks to clean the texts:\n",
    "\n",
    "+ Remove all special characters, punctuation and spaces\n",
    "+ Remove special characters, <br />\n",
    "+ Remove all words with length <=2\n"
   ]
  },
  {
   "cell_type": "code",
   "execution_count": 5,
   "metadata": {},
   "outputs": [],
   "source": [
    "# Remove all special characters, punctuation and spaces\n",
    "review_csv_ds['review'] = review_csv_ds['review'].apply(lambda x: re.sub(r'[^A-Za-z0-9]+',' ',x))\n",
    "# Replace special characters,<br />,  in the file\n",
    "review_csv_ds['review'] = review_csv_ds['review'].apply(lambda x: re.sub(r\"<br />\", \" \", x))\n",
    "# Remove length <=2\n",
    "review_csv_ds['review'] = review_csv_ds['review'].apply(lambda x: re.sub(r'\\b[a-zA-Z]{1,2}\\b', '', x))"
   ]
  },
  {
   "cell_type": "code",
   "execution_count": 6,
   "metadata": {},
   "outputs": [
    {
     "data": {
      "text/html": [
       "<div>\n",
       "<style scoped>\n",
       "    .dataframe tbody tr th:only-of-type {\n",
       "        vertical-align: middle;\n",
       "    }\n",
       "\n",
       "    .dataframe tbody tr th {\n",
       "        vertical-align: top;\n",
       "    }\n",
       "\n",
       "    .dataframe thead th {\n",
       "        text-align: right;\n",
       "    }\n",
       "</style>\n",
       "<table border=\"1\" class=\"dataframe\">\n",
       "  <thead>\n",
       "    <tr style=\"text-align: right;\">\n",
       "      <th></th>\n",
       "      <th>review</th>\n",
       "      <th>sentiment</th>\n",
       "      <th>label</th>\n",
       "    </tr>\n",
       "  </thead>\n",
       "  <tbody>\n",
       "    <tr>\n",
       "      <th>0</th>\n",
       "      <td>One  the other reviewers has mentioned that af...</td>\n",
       "      <td>positive</td>\n",
       "      <td>1</td>\n",
       "    </tr>\n",
       "    <tr>\n",
       "      <th>1</th>\n",
       "      <td>wonderful little production   The filming tec...</td>\n",
       "      <td>positive</td>\n",
       "      <td>1</td>\n",
       "    </tr>\n",
       "    <tr>\n",
       "      <th>2</th>\n",
       "      <td>thought this was  wonderful way  spend time  ...</td>\n",
       "      <td>positive</td>\n",
       "      <td>1</td>\n",
       "    </tr>\n",
       "    <tr>\n",
       "      <th>3</th>\n",
       "      <td>Basically there   family where  little boy Jak...</td>\n",
       "      <td>negative</td>\n",
       "      <td>0</td>\n",
       "    </tr>\n",
       "    <tr>\n",
       "      <th>4</th>\n",
       "      <td>Petter Mattei  Love  the Time  Money   visuall...</td>\n",
       "      <td>positive</td>\n",
       "      <td>1</td>\n",
       "    </tr>\n",
       "  </tbody>\n",
       "</table>\n",
       "</div>"
      ],
      "text/plain": [
       "                                              review sentiment  label\n",
       "0  One  the other reviewers has mentioned that af...  positive      1\n",
       "1   wonderful little production   The filming tec...  positive      1\n",
       "2   thought this was  wonderful way  spend time  ...  positive      1\n",
       "3  Basically there   family where  little boy Jak...  negative      0\n",
       "4  Petter Mattei  Love  the Time  Money   visuall...  positive      1"
      ]
     },
     "execution_count": 6,
     "metadata": {},
     "output_type": "execute_result"
    }
   ],
   "source": [
    "review_csv_ds.head()"
   ]
  },
  {
   "cell_type": "markdown",
   "metadata": {},
   "source": [
    "## Split the Data into Training and Test Data \n",
    "\n",
    "\n"
   ]
  },
  {
   "cell_type": "code",
   "execution_count": 7,
   "metadata": {},
   "outputs": [],
   "source": [
    "X = review_csv_ds['review'].values\n",
    "y = review_csv_ds['label'].values\n",
    "X_train, X_test, y_train, y_test = train_test_split(X, y, stratify=y, test_size=0.2)\n",
    "#X_train, X_test, y_train, y_test = train_test_split(X_train, y_train, stratify=y_train, test_size=0.5)"
   ]
  },
  {
   "cell_type": "code",
   "execution_count": 8,
   "metadata": {},
   "outputs": [
    {
     "name": "stdout",
     "output_type": "stream",
     "text": [
      "X_train size  =(40000,); X_test size  =(10000,)\n"
     ]
    }
   ],
   "source": [
    "print(f'X_train size  ={X_train.shape}; X_test size  ={X_test.shape}')"
   ]
  },
  {
   "cell_type": "markdown",
   "metadata": {},
   "source": [
    "Next, we need to convert the text to numerical values using TextVectorization. (see https://www.tensorflow.org/api_docs/python/tf/keras/layers/experimental/preprocessing/TextVectorization). It transforms a batch of strings into  a list of token indices.\n"
   ]
  },
  {
   "cell_type": "code",
   "execution_count": 9,
   "metadata": {},
   "outputs": [],
   "source": [
    "# Specify the vocab size\n",
    "VOCAB_SIZE = 1000\n",
    "# Perform textvectorization\n",
    "encoder = tf.keras.layers.experimental.preprocessing.TextVectorization(\n",
    "    max_tokens=VOCAB_SIZE)\n",
    "\n",
    "# Fits the state of the preprocessing layer to the dataset.\n",
    "encoder.adapt(X_train)"
   ]
  },
  {
   "cell_type": "code",
   "execution_count": 10,
   "metadata": {},
   "outputs": [
    {
     "data": {
      "text/plain": [
       "array(['', '[UNK]', 'the', 'and', 'this', 'that', 'was', 'movie', 'for',\n",
       "       'with', 'but', 'film', 'you', 'not', 'are', 'his', 'have', 'one',\n",
       "       'all', 'they'], dtype='<U14')"
      ]
     },
     "execution_count": 10,
     "metadata": {},
     "output_type": "execute_result"
    }
   ],
   "source": [
    "vocab = np.array(encoder.get_vocabulary())\n",
    "vocab[:20]"
   ]
  },
  {
   "cell_type": "markdown",
   "metadata": {},
   "source": [
    "## Create the RNN Model\n",
    "\n",
    "Our network has several layers:\n",
    "+ The first layer is the embedding layer which converts words to a vector by keeping their \"meaning\". Similar words, such as cats and dogs, are close to each other. Please see https://www.tensorflow.org/api_docs/python/tf/keras/layers/Embedding\n",
    "+ The second layer is a GRU layer. (see https://www.tensorflow.org/api_docs/python/tf/keras/layers/GRU)\n",
    "+ The third layer is the LSTM to capture the \"context\" of the words/tokens (see https://www.tensorflow.org/api_docs/python/tf/keras/layers/LSTM)\n",
    "+ The last two layers is a classifier for binary classification. "
   ]
  },
  {
   "cell_type": "code",
   "execution_count": 11,
   "metadata": {},
   "outputs": [],
   "source": [
    "model = tf.keras.Sequential([\n",
    "    # Convert review text to indices\n",
    "    encoder, \n",
    "    tf.keras.layers.Embedding(\n",
    "        input_dim=len(encoder.get_vocabulary()),\n",
    "        output_dim=64,\n",
    "        # Use masking to handle the variable sequence lengths\n",
    "        mask_zero=True),\n",
    "    # \n",
    "    tf.keras.layers.GRU(128, return_sequences=True),\n",
    "    tf.keras.layers.Bidirectional(tf.keras.layers.LSTM(128)),\n",
    "    # Binary classifier\n",
    "    tf.keras.layers.Dense(64, activation='relu'),\n",
    "    tf.keras.layers.Dense(1)\n",
    "])"
   ]
  },
  {
   "cell_type": "markdown",
   "metadata": {},
   "source": [
    "## Configure the Model\n",
    "\n",
    "We use the binary cross-entropy with logits = True since the activation function in the last layer is identity (Not sigmoid). We also specify the optimizer and metrics. "
   ]
  },
  {
   "cell_type": "code",
   "execution_count": 12,
   "metadata": {},
   "outputs": [],
   "source": [
    "model.compile(loss=tf.keras.losses.BinaryCrossentropy(from_logits=True),\n",
    "              optimizer=tf.keras.optimizers.Adam(1e-4),\n",
    "              metrics=['accuracy'])"
   ]
  },
  {
   "cell_type": "markdown",
   "metadata": {},
   "source": [
    "## Train the Model"
   ]
  },
  {
   "cell_type": "code",
   "execution_count": 13,
   "metadata": {},
   "outputs": [
    {
     "name": "stdout",
     "output_type": "stream",
     "text": [
      "Epoch 1/5\n",
      "1250/1250 [==============================] - 1968s 2s/step - loss: 0.4354 - accuracy: 0.7608 - val_loss: 0.3224 - val_accuracy: 0.8626\n",
      "Epoch 2/5\n",
      "1250/1250 [==============================] - 1754s 1s/step - loss: 0.3123 - accuracy: 0.8637 - val_loss: 0.3149 - val_accuracy: 0.8711\n",
      "Epoch 3/5\n",
      "1250/1250 [==============================] - 1735s 1s/step - loss: 0.3020 - accuracy: 0.8687 - val_loss: 0.3059 - val_accuracy: 0.8674\n",
      "Epoch 4/5\n",
      "1250/1250 [==============================] - 1714s 1s/step - loss: 0.2952 - accuracy: 0.8714 - val_loss: 0.3271 - val_accuracy: 0.8428\n",
      "Epoch 5/5\n",
      "1250/1250 [==============================] - 1699s 1s/step - loss: 0.2933 - accuracy: 0.8718 - val_loss: 0.3176 - val_accuracy: 0.8724\n",
      "Wall time: 2h 28min 12s\n"
     ]
    }
   ],
   "source": [
    "%%time\n",
    "history = model.fit(x=X_train,y=y_train,batch_size= 32,epochs=5,\n",
    "          validation_data=(X_test,y_test), verbose= 1\n",
    "          )"
   ]
  },
  {
   "cell_type": "markdown",
   "metadata": {},
   "source": [
    "Let's look at the model architecture."
   ]
  },
  {
   "cell_type": "code",
   "execution_count": 14,
   "metadata": {},
   "outputs": [
    {
     "data": {
      "image/png": "[encoded data removed]",
      "text/plain": [
       "<IPython.core.display.Image object>"
      ]
     },
     "execution_count": 14,
     "metadata": {},
     "output_type": "execute_result"
    }
   ],
   "source": [
    "tf.keras.utils.plot_model(model, show_shapes=True)"
   ]
  },
  {
   "cell_type": "markdown",
   "metadata": {},
   "source": [
    "## Model Diagnostics\n",
    "\n",
    "Let's look at the in-sample fit and out-of-sample fit."
   ]
  },
  {
   "cell_type": "code",
   "execution_count": 15,
   "metadata": {},
   "outputs": [
    {
     "data": {
      "text/plain": [
       "<matplotlib.legend.Legend at 0x1c9061b5580>"
      ]
     },
     "execution_count": 15,
     "metadata": {},
     "output_type": "execute_result"
    },
    {
     "data": {
      "image/png": "[encoded data removed]",
      "text/plain": [
       "<Figure size 432x288 with 1 Axes>"
      ]
     },
     "metadata": {
      "needs_background": "light"
     },
     "output_type": "display_data"
    }
   ],
   "source": [
    "## Evaluate the Model\n",
    "import seaborn as sns\n",
    "import pandas as pd\n",
    "import matplotlib.pyplot as plt\n",
    "\n",
    "train_history = pd.DataFrame(history.history)\n",
    "train_history['epoch'] = history.epoch\n",
    "# Plot train loss\n",
    "sns.lineplot(x='epoch', y ='loss', data =train_history)\n",
    "# Plot validation loss\n",
    "sns.lineplot(x='epoch', y ='val_loss', data =train_history)\n",
    "# Add legends\n",
    "plt.legend(labels=['train_loss', 'val_loss'])"
   ]
  },
  {
   "cell_type": "code",
   "execution_count": 16,
   "metadata": {},
   "outputs": [
    {
     "data": {
      "text/plain": [
       "<matplotlib.legend.Legend at 0x1c9062957c0>"
      ]
     },
     "execution_count": 16,
     "metadata": {},
     "output_type": "execute_result"
    },
    {
     "data": {
      "image/png": "[encoded data removed]",
      "text/plain": [
       "<Figure size 432x288 with 1 Axes>"
      ]
     },
     "metadata": {
      "needs_background": "light"
     },
     "output_type": "display_data"
    }
   ],
   "source": [
    "sns.lineplot(x='epoch', y ='accuracy', data =train_history)\n",
    "# Plot validation loss\n",
    "sns.lineplot(x='epoch', y ='val_accuracy', data =train_history)\n",
    "# Add legends\n",
    "plt.legend(labels=['train_accuracy', 'val_accuracy'])"
   ]
  },
  {
   "cell_type": "markdown",
   "metadata": {},
   "source": [
    "## Evaluate the Model on the Test Dataset"
   ]
  },
  {
   "cell_type": "markdown",
   "metadata": {},
   "source": [
    "Forecast the label."
   ]
  },
  {
   "cell_type": "code",
   "execution_count": 17,
   "metadata": {},
   "outputs": [],
   "source": [
    "# the cutoff probability is 50%\n",
    "y_pred = (model.predict(X_test)> 0.5).astype(int)\n"
   ]
  },
  {
   "cell_type": "markdown",
   "metadata": {},
   "source": [
    "We get the confusion matrix."
   ]
  },
  {
   "cell_type": "code",
   "execution_count": 18,
   "metadata": {},
   "outputs": [
    {
     "data": {
      "text/plain": [
       "array([[4343,  657],\n",
       "       [ 619, 4381]], dtype=int64)"
      ]
     },
     "execution_count": 18,
     "metadata": {},
     "output_type": "execute_result"
    }
   ],
   "source": [
    "from sklearn.metrics import confusion_matrix\n",
    "confusion_matrix(y_test, y_pred)"
   ]
  },
  {
   "cell_type": "markdown",
   "metadata": {},
   "source": [
    "Print out the classification report"
   ]
  },
  {
   "cell_type": "code",
   "execution_count": 19,
   "metadata": {},
   "outputs": [
    {
     "name": "stdout",
     "output_type": "stream",
     "text": [
      "              precision    recall  f1-score   support\n",
      "\n",
      "    negative       0.88      0.87      0.87      5000\n",
      "    positive       0.87      0.88      0.87      5000\n",
      "\n",
      "    accuracy                           0.87     10000\n",
      "   macro avg       0.87      0.87      0.87     10000\n",
      "weighted avg       0.87      0.87      0.87     10000\n",
      "\n"
     ]
    }
   ],
   "source": [
    "from sklearn.metrics import classification_report\n",
    "label_names = ['negative', 'positive']\n",
    "print(classification_report(y_test, y_pred, target_names=label_names))"
   ]
  },
  {
   "cell_type": "markdown",
   "metadata": {},
   "source": [
    "The accuracy and f1-score is larger than 85%. It is a decent model."
   ]
  },
  {
   "cell_type": "code",
   "execution_count": null,
   "metadata": {},
   "outputs": [],
   "source": []
  }
 ],
 "metadata": {
  "kernelspec": {
   "display_name": "Python 3",
   "language": "python",
   "name": "python3"
  },
  "language_info": {
   "codemirror_mode": {
    "name": "ipython",
    "version": 3
   },
   "file_extension": ".py",
   "mimetype": "text/x-python",
   "name": "python",
   "nbconvert_exporter": "python",
   "pygments_lexer": "ipython3",
   "version": "3.8.5"
  }
 },
 "nbformat": 4,
 "nbformat_minor": 4
}
